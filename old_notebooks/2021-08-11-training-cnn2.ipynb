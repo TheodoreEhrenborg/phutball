{
 "cells": [
  {
   "cell_type": "code",
   "execution_count": 1,
   "id": "lesbian-issue",
   "metadata": {},
   "outputs": [
    {
     "name": "stdout",
     "output_type": "stream",
     "text": [
      "INFO:tensorflow:Enabling eager execution\n",
      "INFO:tensorflow:Enabling v2 tensorshape\n",
      "INFO:tensorflow:Enabling resource variables\n",
      "INFO:tensorflow:Enabling tensor equality\n",
      "INFO:tensorflow:Enabling control flow v2\n"
     ]
    }
   ],
   "source": [
    "import main"
   ]
  },
  {
   "cell_type": "code",
   "execution_count": 2,
   "id": "southern-shirt",
   "metadata": {},
   "outputs": [],
   "source": [
    "import pickle"
   ]
  },
  {
   "cell_type": "code",
   "execution_count": 3,
   "id": "billion-vegetation",
   "metadata": {
    "scrolled": true
   },
   "outputs": [
    {
     "ename": "EOFError",
     "evalue": "Ran out of input",
     "output_type": "error",
     "traceback": [
      "\u001b[0;31m---------------------------------------------------------------------------\u001b[0m",
      "\u001b[0;31mEOFError\u001b[0m                                  Traceback (most recent call last)",
      "\u001b[0;32m<ipython-input-3-eb1055cd42d2>\u001b[0m in \u001b[0;36m<module>\u001b[0;34m\u001b[0m\n\u001b[1;32m      2\u001b[0m \u001b[0;32mwith\u001b[0m \u001b[0mopen\u001b[0m\u001b[0;34m(\u001b[0m\u001b[0;34m\"2021-07-24-3ply-boards4.pickle\"\u001b[0m\u001b[0;34m,\u001b[0m \u001b[0;34m\"rb\"\u001b[0m\u001b[0;34m)\u001b[0m \u001b[0;32mas\u001b[0m \u001b[0mf\u001b[0m\u001b[0;34m:\u001b[0m\u001b[0;34m\u001b[0m\u001b[0;34m\u001b[0m\u001b[0m\n\u001b[1;32m      3\u001b[0m     \u001b[0;32mwhile\u001b[0m \u001b[0;32mTrue\u001b[0m\u001b[0;34m:\u001b[0m\u001b[0;34m\u001b[0m\u001b[0;34m\u001b[0m\u001b[0m\n\u001b[0;32m----> 4\u001b[0;31m         \u001b[0mrandom_board_pairs\u001b[0m\u001b[0;34m.\u001b[0m\u001b[0mappend\u001b[0m\u001b[0;34m(\u001b[0m\u001b[0mpickle\u001b[0m\u001b[0;34m.\u001b[0m\u001b[0mload\u001b[0m\u001b[0;34m(\u001b[0m\u001b[0mf\u001b[0m\u001b[0;34m)\u001b[0m\u001b[0;34m)\u001b[0m\u001b[0;34m\u001b[0m\u001b[0;34m\u001b[0m\u001b[0m\n\u001b[0m",
      "\u001b[0;31mEOFError\u001b[0m: Ran out of input"
     ]
    }
   ],
   "source": [
    "random_board_pairs = []\n",
    "with open(\"2021-07-24-3ply-boards4.pickle\", \"rb\") as f:\n",
    "    while True:\n",
    "        random_board_pairs.append(pickle.load(f))"
   ]
  },
  {
   "cell_type": "code",
   "execution_count": 4,
   "id": "turned-maria",
   "metadata": {
    "scrolled": true
   },
   "outputs": [
    {
     "data": {
      "text/plain": [
       "28412"
      ]
     },
     "execution_count": 4,
     "metadata": {},
     "output_type": "execute_result"
    }
   ],
   "source": [
    "len(random_board_pairs)"
   ]
  },
  {
   "cell_type": "code",
   "execution_count": 5,
   "id": "silver-think",
   "metadata": {
    "scrolled": true
   },
   "outputs": [
    {
     "ename": "EOFError",
     "evalue": "Ran out of input",
     "output_type": "error",
     "traceback": [
      "\u001b[0;31m---------------------------------------------------------------------------\u001b[0m",
      "\u001b[0;31mEOFError\u001b[0m                                  Traceback (most recent call last)",
      "\u001b[0;32m<ipython-input-5-c7f294f85361>\u001b[0m in \u001b[0;36m<module>\u001b[0;34m\u001b[0m\n\u001b[1;32m      2\u001b[0m \u001b[0;32mwith\u001b[0m \u001b[0mopen\u001b[0m\u001b[0;34m(\u001b[0m\u001b[0;34m\"2021-08-04-3ply-boards5.pickle\"\u001b[0m\u001b[0;34m,\u001b[0m \u001b[0;34m\"rb\"\u001b[0m\u001b[0;34m)\u001b[0m \u001b[0;32mas\u001b[0m \u001b[0mf\u001b[0m\u001b[0;34m:\u001b[0m\u001b[0;34m\u001b[0m\u001b[0;34m\u001b[0m\u001b[0m\n\u001b[1;32m      3\u001b[0m     \u001b[0;32mwhile\u001b[0m \u001b[0;32mTrue\u001b[0m\u001b[0;34m:\u001b[0m\u001b[0;34m\u001b[0m\u001b[0;34m\u001b[0m\u001b[0m\n\u001b[0;32m----> 4\u001b[0;31m         \u001b[0mgame_board_pairs\u001b[0m\u001b[0;34m.\u001b[0m\u001b[0mappend\u001b[0m\u001b[0;34m(\u001b[0m\u001b[0mpickle\u001b[0m\u001b[0;34m.\u001b[0m\u001b[0mload\u001b[0m\u001b[0;34m(\u001b[0m\u001b[0mf\u001b[0m\u001b[0;34m)\u001b[0m\u001b[0;34m)\u001b[0m\u001b[0;34m\u001b[0m\u001b[0;34m\u001b[0m\u001b[0m\n\u001b[0m",
      "\u001b[0;31mEOFError\u001b[0m: Ran out of input"
     ]
    }
   ],
   "source": [
    "game_board_pairs = []\n",
    "with open(\"2021-08-04-3ply-boards5.pickle\", \"rb\") as f:\n",
    "    while True:\n",
    "        game_board_pairs.append(pickle.load(f))"
   ]
  },
  {
   "cell_type": "code",
   "execution_count": 6,
   "id": "independent-kazakhstan",
   "metadata": {},
   "outputs": [
    {
     "data": {
      "text/plain": [
       "30805"
      ]
     },
     "execution_count": 6,
     "metadata": {},
     "output_type": "execute_result"
    }
   ],
   "source": [
    "len(game_board_pairs)"
   ]
  },
  {
   "cell_type": "code",
   "execution_count": 68,
   "id": "delayed-population",
   "metadata": {},
   "outputs": [],
   "source": [
    "random_inputs = []\n",
    "random_outputs = []\n",
    "for p in random_board_pairs:\n",
    "    random_inputs.append(p[0].get_flipped_3d_array())\n",
    "    if type(p[1]) != type(3):\n",
    "        random_outputs.append(p[1])\n",
    "    else:\n",
    "        random_outputs.append(np.array(p[1], dtype=np.float32))"
   ]
  },
  {
   "cell_type": "code",
   "execution_count": 69,
   "id": "russian-stopping",
   "metadata": {},
   "outputs": [],
   "source": [
    "game_inputs = []\n",
    "game_outputs = []\n",
    "for p in game_board_pairs:\n",
    "    game_inputs.append(p[0].get_flipped_3d_array())\n",
    "    if type(p[1]) != type(3):\n",
    "        game_outputs.append(p[1])\n",
    "    else:\n",
    "        game_outputs.append(np.array(p[1], dtype=np.float32))"
   ]
  },
  {
   "cell_type": "code",
   "execution_count": 87,
   "id": "transparent-turkish",
   "metadata": {},
   "outputs": [],
   "source": [
    "random_inputs = []\n",
    "random_outputs = []\n",
    "for p in random_board_pairs:\n",
    "    random_inputs.append(p[0].get_flipped_3d_array())\n",
    "    random_outputs.append(float(p[1]))"
   ]
  },
  {
   "cell_type": "code",
   "execution_count": 88,
   "id": "varied-design",
   "metadata": {},
   "outputs": [],
   "source": [
    "game_inputs = []\n",
    "game_outputs = []\n",
    "for p in game_board_pairs:\n",
    "    game_inputs.append(p[0].get_flipped_3d_array())\n",
    "    game_outputs.append(float(p[1]))"
   ]
  },
  {
   "cell_type": "code",
   "execution_count": 89,
   "id": "exclusive-pledge",
   "metadata": {},
   "outputs": [],
   "source": [
    "import numpy as np"
   ]
  },
  {
   "cell_type": "code",
   "execution_count": 90,
   "id": "governing-producer",
   "metadata": {},
   "outputs": [],
   "source": [
    "game_inputs = np.array(game_inputs)"
   ]
  },
  {
   "cell_type": "code",
   "execution_count": 91,
   "id": "opposite-syndicate",
   "metadata": {},
   "outputs": [],
   "source": [
    "random_inputs = np.array(random_inputs)"
   ]
  },
  {
   "cell_type": "code",
   "execution_count": 93,
   "id": "emotional-welding",
   "metadata": {},
   "outputs": [],
   "source": [
    "game_outputs = np.array(game_outputs)"
   ]
  },
  {
   "cell_type": "code",
   "execution_count": 94,
   "id": "occupational-parallel",
   "metadata": {},
   "outputs": [],
   "source": [
    "random_outputs = np.array(random_outputs)"
   ]
  },
  {
   "cell_type": "code",
   "execution_count": 95,
   "id": "specialized-photography",
   "metadata": {},
   "outputs": [
    {
     "data": {
      "text/plain": [
       "(30805,)"
      ]
     },
     "execution_count": 95,
     "metadata": {},
     "output_type": "execute_result"
    }
   ],
   "source": [
    "game_outputs.shape"
   ]
  },
  {
   "cell_type": "code",
   "execution_count": 12,
   "id": "dimensional-visitor",
   "metadata": {},
   "outputs": [
    {
     "data": {
      "text/plain": [
       "array([0.58236396], dtype=float32)"
      ]
     },
     "execution_count": 12,
     "metadata": {},
     "output_type": "execute_result"
    }
   ],
   "source": [
    "game_outputs[0]"
   ]
  },
  {
   "cell_type": "code",
   "execution_count": 18,
   "id": "impressive-exposure",
   "metadata": {},
   "outputs": [
    {
     "data": {
      "text/plain": [
       "0.5823639631271362"
      ]
     },
     "execution_count": 18,
     "metadata": {},
     "output_type": "execute_result"
    }
   ],
   "source": [
    "float(game_outputs[0])"
   ]
  },
  {
   "cell_type": "code",
   "execution_count": 19,
   "id": "foster-brush",
   "metadata": {},
   "outputs": [
    {
     "data": {
      "text/plain": [
       "array(0.58236396)"
      ]
     },
     "execution_count": 19,
     "metadata": {},
     "output_type": "execute_result"
    }
   ],
   "source": [
    "np.array(float(game_outputs[0]))"
   ]
  },
  {
   "cell_type": "code",
   "execution_count": 13,
   "id": "twenty-nepal",
   "metadata": {},
   "outputs": [
    {
     "data": {
      "text/plain": [
       "array([0.41551816], dtype=float32)"
      ]
     },
     "execution_count": 13,
     "metadata": {},
     "output_type": "execute_result"
    }
   ],
   "source": [
    "game_outputs[100]"
   ]
  },
  {
   "cell_type": "code",
   "execution_count": 15,
   "id": "stupid-begin",
   "metadata": {},
   "outputs": [
    {
     "data": {
      "text/plain": [
       "(1,)"
      ]
     },
     "execution_count": 15,
     "metadata": {},
     "output_type": "execute_result"
    }
   ],
   "source": [
    "game_outputs[100].shape"
   ]
  },
  {
   "cell_type": "code",
   "execution_count": 16,
   "id": "indian-indian",
   "metadata": {},
   "outputs": [
    {
     "ename": "AttributeError",
     "evalue": "'int' object has no attribute 'shape'",
     "output_type": "error",
     "traceback": [
      "\u001b[0;31m---------------------------------------------------------------------------\u001b[0m",
      "\u001b[0;31mAttributeError\u001b[0m                            Traceback (most recent call last)",
      "\u001b[0;32m<ipython-input-16-e38652ca695f>\u001b[0m in \u001b[0;36m<module>\u001b[0;34m\u001b[0m\n\u001b[1;32m      1\u001b[0m \u001b[0;32mfor\u001b[0m \u001b[0mx\u001b[0m \u001b[0;32min\u001b[0m \u001b[0mgame_outputs\u001b[0m\u001b[0;34m:\u001b[0m\u001b[0;34m\u001b[0m\u001b[0;34m\u001b[0m\u001b[0m\n\u001b[0;32m----> 2\u001b[0;31m     \u001b[0;32mif\u001b[0m \u001b[0mx\u001b[0m\u001b[0;34m.\u001b[0m\u001b[0mshape\u001b[0m \u001b[0;34m!=\u001b[0m \u001b[0;34m(\u001b[0m\u001b[0;36m1\u001b[0m\u001b[0;34m,\u001b[0m\u001b[0;34m)\u001b[0m\u001b[0;34m:\u001b[0m\u001b[0;34m\u001b[0m\u001b[0;34m\u001b[0m\u001b[0m\n\u001b[0m\u001b[1;32m      3\u001b[0m         \u001b[0mprint\u001b[0m\u001b[0;34m(\u001b[0m\u001b[0mx\u001b[0m\u001b[0;34m)\u001b[0m\u001b[0;34m\u001b[0m\u001b[0;34m\u001b[0m\u001b[0m\n\u001b[1;32m      4\u001b[0m         \u001b[0;32mbreak\u001b[0m\u001b[0;34m\u001b[0m\u001b[0;34m\u001b[0m\u001b[0m\n",
      "\u001b[0;31mAttributeError\u001b[0m: 'int' object has no attribute 'shape'"
     ]
    }
   ],
   "source": [
    "for x in game_outputs:\n",
    "    if x.shape != (1,):\n",
    "        print(x)\n",
    "        break"
   ]
  },
  {
   "cell_type": "code",
   "execution_count": 55,
   "id": "tribal-instrumentation",
   "metadata": {},
   "outputs": [
    {
     "name": "stdout",
     "output_type": "stream",
     "text": [
      "1 ()\n"
     ]
    }
   ],
   "source": [
    "for x in game_outputs:\n",
    "    if x.shape != (1,):\n",
    "        print(x,x.shape)\n",
    "        break"
   ]
  },
  {
   "cell_type": "code",
   "execution_count": 67,
   "id": "polar-delicious",
   "metadata": {},
   "outputs": [
    {
     "data": {
      "text/plain": [
       "array(1., dtype=float32)"
      ]
     },
     "execution_count": 67,
     "metadata": {},
     "output_type": "execute_result"
    }
   ],
   "source": [
    "np.array(1, dtype=np.float32)"
   ]
  },
  {
   "cell_type": "code",
   "execution_count": 17,
   "id": "occasional-annotation",
   "metadata": {},
   "outputs": [
    {
     "data": {
      "text/plain": [
       "1"
      ]
     },
     "execution_count": 17,
     "metadata": {},
     "output_type": "execute_result"
    }
   ],
   "source": [
    "x"
   ]
  },
  {
   "cell_type": "code",
   "execution_count": 56,
   "id": "pretty-steel",
   "metadata": {},
   "outputs": [
    {
     "data": {
      "text/plain": [
       "array(1)"
      ]
     },
     "execution_count": 56,
     "metadata": {},
     "output_type": "execute_result"
    }
   ],
   "source": [
    "np.array(1)"
   ]
  },
  {
   "cell_type": "code",
   "execution_count": 22,
   "id": "experimental-piano",
   "metadata": {
    "scrolled": true
   },
   "outputs": [
    {
     "ename": "TypeError",
     "evalue": "'float' object cannot be interpreted as an integer",
     "output_type": "error",
     "traceback": [
      "\u001b[0;31m---------------------------------------------------------------------------\u001b[0m",
      "\u001b[0;31mTypeError\u001b[0m                                 Traceback (most recent call last)",
      "\u001b[0;32m<ipython-input-22-e6dee765091b>\u001b[0m in \u001b[0;36m<module>\u001b[0;34m\u001b[0m\n\u001b[0;32m----> 1\u001b[0;31m \u001b[0mnp\u001b[0m\u001b[0;34m.\u001b[0m\u001b[0mndarray\u001b[0m\u001b[0;34m(\u001b[0m\u001b[0;36m0.41551816\u001b[0m\u001b[0;34m,\u001b[0m \u001b[0mdtype\u001b[0m\u001b[0;34m=\u001b[0m\u001b[0mnp\u001b[0m\u001b[0;34m.\u001b[0m\u001b[0mfloat32\u001b[0m\u001b[0;34m)\u001b[0m\u001b[0;34m\u001b[0m\u001b[0;34m\u001b[0m\u001b[0m\n\u001b[0m",
      "\u001b[0;31mTypeError\u001b[0m: 'float' object cannot be interpreted as an integer"
     ]
    }
   ],
   "source": [
    "np.ndarray(0.41551816, dtype=np.float32)"
   ]
  },
  {
   "cell_type": "code",
   "execution_count": 30,
   "id": "noted-roads",
   "metadata": {},
   "outputs": [],
   "source": [
    "random_inputs = np.array(random_inputs)"
   ]
  },
  {
   "cell_type": "code",
   "execution_count": 29,
   "id": "closing-batman",
   "metadata": {},
   "outputs": [],
   "source": [
    "random_outputs = np.array(random_outputs, dtype = object)"
   ]
  },
  {
   "cell_type": "code",
   "execution_count": 31,
   "id": "smart-equation",
   "metadata": {},
   "outputs": [
    {
     "data": {
      "text/plain": [
       "(28412, 19, 15, 2)"
      ]
     },
     "execution_count": 31,
     "metadata": {},
     "output_type": "execute_result"
    }
   ],
   "source": [
    "random_inputs.shape"
   ]
  },
  {
   "cell_type": "code",
   "execution_count": 96,
   "id": "elect-vermont",
   "metadata": {},
   "outputs": [],
   "source": [
    "game_mark = int(len(game_outputs)*0.8)"
   ]
  },
  {
   "cell_type": "code",
   "execution_count": 97,
   "id": "apart-routine",
   "metadata": {},
   "outputs": [],
   "source": [
    "random_mark = int(len(random_outputs)*0.8)"
   ]
  },
  {
   "cell_type": "code",
   "execution_count": 98,
   "id": "chemical-negotiation",
   "metadata": {},
   "outputs": [
    {
     "data": {
      "text/plain": [
       "24644"
      ]
     },
     "execution_count": 98,
     "metadata": {},
     "output_type": "execute_result"
    }
   ],
   "source": [
    "game_mark"
   ]
  },
  {
   "cell_type": "code",
   "execution_count": 99,
   "id": "existing-morris",
   "metadata": {},
   "outputs": [
    {
     "data": {
      "text/plain": [
       "22729"
      ]
     },
     "execution_count": 99,
     "metadata": {},
     "output_type": "execute_result"
    }
   ],
   "source": [
    "random_mark"
   ]
  },
  {
   "cell_type": "code",
   "execution_count": 47,
   "id": "moved-feedback",
   "metadata": {},
   "outputs": [
    {
     "ename": "ValueError",
     "evalue": "operands could not be broadcast together with shapes (22729,19,15,2) (24644,19,15,2) ",
     "output_type": "error",
     "traceback": [
      "\u001b[0;31m---------------------------------------------------------------------------\u001b[0m",
      "\u001b[0;31mValueError\u001b[0m                                Traceback (most recent call last)",
      "\u001b[0;32m<ipython-input-47-89717ed823b2>\u001b[0m in \u001b[0;36m<module>\u001b[0;34m\u001b[0m\n\u001b[0;32m----> 1\u001b[0;31m \u001b[0mtrain_inputs\u001b[0m \u001b[0;34m=\u001b[0m \u001b[0mrandom_inputs\u001b[0m\u001b[0;34m[\u001b[0m\u001b[0;36m0\u001b[0m\u001b[0;34m:\u001b[0m\u001b[0mrandom_mark\u001b[0m\u001b[0;34m]\u001b[0m \u001b[0;34m+\u001b[0m \u001b[0mgame_inputs\u001b[0m\u001b[0;34m[\u001b[0m\u001b[0;36m0\u001b[0m\u001b[0;34m:\u001b[0m\u001b[0mgame_mark\u001b[0m\u001b[0;34m]\u001b[0m \u001b[0;34m+\u001b[0m \u001b[0mrandom_inputs\u001b[0m\u001b[0;34m[\u001b[0m\u001b[0mrandom_mark\u001b[0m\u001b[0;34m:\u001b[0m\u001b[0;34m]\u001b[0m \u001b[0;34m+\u001b[0m  \u001b[0mgame_inputs\u001b[0m\u001b[0;34m[\u001b[0m\u001b[0mgame_mark\u001b[0m\u001b[0;34m:\u001b[0m\u001b[0;34m]\u001b[0m\u001b[0;34m\u001b[0m\u001b[0;34m\u001b[0m\u001b[0m\n\u001b[0m",
      "\u001b[0;31mValueError\u001b[0m: operands could not be broadcast together with shapes (22729,19,15,2) (24644,19,15,2) "
     ]
    }
   ],
   "source": [
    "train_inputs = random_inputs[0:random_mark] + game_inputs[0:game_mark] + random_inputs[random_mark:] +  game_inputs[game_mark:] "
   ]
  },
  {
   "cell_type": "code",
   "execution_count": 100,
   "id": "understanding-aspect",
   "metadata": {},
   "outputs": [],
   "source": [
    "train_inputs = np.concatenate((random_inputs[0:random_mark] , game_inputs[0:game_mark] \n",
    "                               , random_inputs[random_mark:] ,  game_inputs[game_mark:])) "
   ]
  },
  {
   "cell_type": "code",
   "execution_count": 101,
   "id": "ahead-artwork",
   "metadata": {},
   "outputs": [],
   "source": [
    "train_outputs = np.concatenate(( random_outputs[0:random_mark],\n",
    "                                 game_outputs[0:game_mark],\n",
    "                                random_outputs[random_mark:] ,\n",
    "                                game_outputs[game_mark:] ))"
   ]
  },
  {
   "cell_type": "code",
   "execution_count": 40,
   "id": "forbidden-yeast",
   "metadata": {},
   "outputs": [],
   "source": [
    "from tensorflow import keras\n",
    "from tensorflow.keras import layers\n",
    "import tensorflow as tf"
   ]
  },
  {
   "cell_type": "code",
   "execution_count": 41,
   "id": "flexible-operations",
   "metadata": {},
   "outputs": [],
   "source": [
    "model2 = keras.Sequential()\n",
    "model2.add(layers.Conv2D(32, (3, 3), activation='relu', input_shape=(19, 15, 2)))\n",
    "model2.add(layers.Conv2D(64, (3, 3), activation='relu'))"
   ]
  },
  {
   "cell_type": "code",
   "execution_count": 42,
   "id": "devoted-reputation",
   "metadata": {},
   "outputs": [
    {
     "name": "stdout",
     "output_type": "stream",
     "text": [
      "Model: \"sequential\"\n",
      "_________________________________________________________________\n",
      "Layer (type)                 Output Shape              Param #   \n",
      "=================================================================\n",
      "conv2d (Conv2D)              (None, 17, 13, 32)        608       \n",
      "_________________________________________________________________\n",
      "conv2d_1 (Conv2D)            (None, 15, 11, 64)        18496     \n",
      "=================================================================\n",
      "Total params: 19,104\n",
      "Trainable params: 19,104\n",
      "Non-trainable params: 0\n",
      "_________________________________________________________________\n"
     ]
    }
   ],
   "source": [
    "model2.summary()"
   ]
  },
  {
   "cell_type": "code",
   "execution_count": 43,
   "id": "bibliographic-possession",
   "metadata": {},
   "outputs": [],
   "source": [
    "model2.add(layers.Flatten())\n",
    "model2.add(layers.Dense(256, activation='relu'))\n",
    "model2.add(layers.Dense(1, activation='relu'))"
   ]
  },
  {
   "cell_type": "code",
   "execution_count": 44,
   "id": "fatal-entrepreneur",
   "metadata": {},
   "outputs": [
    {
     "name": "stdout",
     "output_type": "stream",
     "text": [
      "Model: \"sequential\"\n",
      "_________________________________________________________________\n",
      "Layer (type)                 Output Shape              Param #   \n",
      "=================================================================\n",
      "conv2d (Conv2D)              (None, 17, 13, 32)        608       \n",
      "_________________________________________________________________\n",
      "conv2d_1 (Conv2D)            (None, 15, 11, 64)        18496     \n",
      "_________________________________________________________________\n",
      "flatten (Flatten)            (None, 10560)             0         \n",
      "_________________________________________________________________\n",
      "dense (Dense)                (None, 256)               2703616   \n",
      "_________________________________________________________________\n",
      "dense_1 (Dense)              (None, 1)                 257       \n",
      "=================================================================\n",
      "Total params: 2,722,977\n",
      "Trainable params: 2,722,977\n",
      "Non-trainable params: 0\n",
      "_________________________________________________________________\n"
     ]
    }
   ],
   "source": [
    "model2.summary()"
   ]
  },
  {
   "cell_type": "code",
   "execution_count": 45,
   "id": "announced-florida",
   "metadata": {},
   "outputs": [],
   "source": [
    "model2.compile(loss='mean_absolute_error',optimizer=tf.keras.optimizers.Adam(0.001))"
   ]
  },
  {
   "cell_type": "code",
   "execution_count": 103,
   "id": "mathematical-jones",
   "metadata": {
    "scrolled": false
   },
   "outputs": [
    {
     "name": "stdout",
     "output_type": "stream",
     "text": [
      "Epoch 1/10\n",
      "1481/1481 [==============================] - 30s 20ms/step - loss: 0.0929 - val_loss: 0.0423\n",
      "Epoch 2/10\n",
      "1481/1481 [==============================] - 30s 20ms/step - loss: 0.0381 - val_loss: 0.0365\n",
      "Epoch 3/10\n",
      "1481/1481 [==============================] - 30s 20ms/step - loss: 0.0326 - val_loss: 0.0345\n",
      "Epoch 4/10\n",
      "1481/1481 [==============================] - 30s 20ms/step - loss: 0.0293 - val_loss: 0.0314\n",
      "Epoch 5/10\n",
      "1481/1481 [==============================] - 29s 19ms/step - loss: 0.0275 - val_loss: 0.0303\n",
      "Epoch 6/10\n",
      "1481/1481 [==============================] - 30s 20ms/step - loss: 0.0258 - val_loss: 0.0299\n",
      "Epoch 7/10\n",
      "1481/1481 [==============================] - 30s 20ms/step - loss: 0.0250 - val_loss: 0.0301\n",
      "Epoch 8/10\n",
      "1481/1481 [==============================] - 30s 20ms/step - loss: 0.0237 - val_loss: 0.0310\n",
      "Epoch 9/10\n",
      "1481/1481 [==============================] - 30s 20ms/step - loss: 0.0225 - val_loss: 0.0297\n",
      "Epoch 10/10\n",
      "1481/1481 [==============================] - 30s 20ms/step - loss: 0.0217 - val_loss: 0.0290\n"
     ]
    },
    {
     "data": {
      "text/plain": [
       "<tensorflow.python.keras.callbacks.History at 0x1937ed2e0>"
      ]
     },
     "execution_count": 103,
     "metadata": {},
     "output_type": "execute_result"
    }
   ],
   "source": [
    "model2.fit(train_inputs, train_outputs, epochs=10, validation_split = 0.2)"
   ]
  },
  {
   "cell_type": "code",
   "execution_count": 104,
   "id": "final-intent",
   "metadata": {
    "scrolled": false
   },
   "outputs": [
    {
     "name": "stdout",
     "output_type": "stream",
     "text": [
      "Epoch 1/10\n",
      "1481/1481 [==============================] - 31s 21ms/step - loss: 0.0213 - val_loss: 0.0291\n",
      "Epoch 2/10\n",
      "1481/1481 [==============================] - 30s 20ms/step - loss: 0.0208 - val_loss: 0.0289\n",
      "Epoch 3/10\n",
      "1481/1481 [==============================] - 30s 20ms/step - loss: 0.0199 - val_loss: 0.0285\n",
      "Epoch 4/10\n",
      "1481/1481 [==============================] - 29s 19ms/step - loss: 0.0196 - val_loss: 0.0282\n",
      "Epoch 5/10\n",
      "1481/1481 [==============================] - 30s 20ms/step - loss: 0.0189 - val_loss: 0.0282\n",
      "Epoch 6/10\n",
      "1481/1481 [==============================] - 30s 20ms/step - loss: 0.0184 - val_loss: 0.0302\n",
      "Epoch 7/10\n",
      "1481/1481 [==============================] - 29s 20ms/step - loss: 0.0179 - val_loss: 0.0288\n",
      "Epoch 8/10\n",
      "1481/1481 [==============================] - 29s 19ms/step - loss: 0.0175 - val_loss: 0.0291\n",
      "Epoch 9/10\n",
      "1481/1481 [==============================] - 30s 20ms/step - loss: 0.0170 - val_loss: 0.0287\n",
      "Epoch 10/10\n",
      "1481/1481 [==============================] - 30s 20ms/step - loss: 0.0167 - val_loss: 0.0290\n"
     ]
    },
    {
     "data": {
      "text/plain": [
       "<tensorflow.python.keras.callbacks.History at 0x193af1460>"
      ]
     },
     "execution_count": 104,
     "metadata": {},
     "output_type": "execute_result"
    }
   ],
   "source": [
    "model2.fit(train_inputs, train_outputs, epochs=10, validation_split = 0.2)"
   ]
  },
  {
   "cell_type": "code",
   "execution_count": 105,
   "id": "normal-concrete",
   "metadata": {},
   "outputs": [
    {
     "name": "stdout",
     "output_type": "stream",
     "text": [
      "INFO:tensorflow:Assets written to: saved_model/2021-08-11-model/assets\n"
     ]
    }
   ],
   "source": [
    "model2.save('saved_model/2021-08-11-model')"
   ]
  },
  {
   "cell_type": "code",
   "execution_count": 51,
   "id": "cooked-seventh",
   "metadata": {},
   "outputs": [
    {
     "data": {
      "text/plain": [
       "int"
      ]
     },
     "execution_count": 51,
     "metadata": {},
     "output_type": "execute_result"
    }
   ],
   "source": [
    "type(3)"
   ]
  },
  {
   "cell_type": "code",
   "execution_count": 102,
   "id": "virgin-screw",
   "metadata": {},
   "outputs": [
    {
     "data": {
      "text/plain": [
       "<tf.Tensor: shape=(59217,), dtype=float64, numpy=\n",
       "array([0.75894564, 0.83042955, 0.26181674, ..., 0.80696434, 0.69408554,\n",
       "       0.82848644])>"
      ]
     },
     "execution_count": 102,
     "metadata": {},
     "output_type": "execute_result"
    }
   ],
   "source": [
    "tf.convert_to_tensor(train_outputs)"
   ]
  },
  {
   "cell_type": "code",
   "execution_count": 82,
   "id": "complicated-likelihood",
   "metadata": {},
   "outputs": [
    {
     "data": {
      "text/plain": [
       "(59217,)"
      ]
     },
     "execution_count": 82,
     "metadata": {},
     "output_type": "execute_result"
    }
   ],
   "source": [
    "train_outputs.shape"
   ]
  },
  {
   "cell_type": "code",
   "execution_count": 83,
   "id": "interim-bidder",
   "metadata": {},
   "outputs": [
    {
     "data": {
      "text/plain": [
       "array([0.75894564], dtype=float32)"
      ]
     },
     "execution_count": 83,
     "metadata": {},
     "output_type": "execute_result"
    }
   ],
   "source": [
    "train_outputs[0]"
   ]
  },
  {
   "cell_type": "code",
   "execution_count": 84,
   "id": "sorted-halloween",
   "metadata": {},
   "outputs": [
    {
     "data": {
      "text/plain": [
       "numpy.ndarray"
      ]
     },
     "execution_count": 84,
     "metadata": {},
     "output_type": "execute_result"
    }
   ],
   "source": [
    "type(train_outputs[0])"
   ]
  },
  {
   "cell_type": "code",
   "execution_count": 85,
   "id": "retained-turner",
   "metadata": {},
   "outputs": [
    {
     "data": {
      "text/plain": [
       "array([1.1, 2.1, 3.1])"
      ]
     },
     "execution_count": 85,
     "metadata": {},
     "output_type": "execute_result"
    }
   ],
   "source": [
    "np.array([1.1,2.1,3.1])"
   ]
  },
  {
   "cell_type": "code",
   "execution_count": 86,
   "id": "accessible-treaty",
   "metadata": {},
   "outputs": [
    {
     "data": {
      "text/plain": [
       "1.1"
      ]
     },
     "execution_count": 86,
     "metadata": {},
     "output_type": "execute_result"
    }
   ],
   "source": [
    "_[0]"
   ]
  },
  {
   "cell_type": "code",
   "execution_count": null,
   "id": "adverse-welding",
   "metadata": {},
   "outputs": [],
   "source": []
  }
 ],
 "metadata": {
  "kernelspec": {
   "display_name": "Python 3",
   "language": "python",
   "name": "python3"
  },
  "language_info": {
   "codemirror_mode": {
    "name": "ipython",
    "version": 3
   },
   "file_extension": ".py",
   "mimetype": "text/x-python",
   "name": "python",
   "nbconvert_exporter": "python",
   "pygments_lexer": "ipython3",
   "version": "3.9.2"
  }
 },
 "nbformat": 4,
 "nbformat_minor": 5
}
