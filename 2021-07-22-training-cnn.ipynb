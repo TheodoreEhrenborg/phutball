{
 "cells": [
  {
   "cell_type": "code",
   "execution_count": 1,
   "id": "blond-anger",
   "metadata": {},
   "outputs": [
    {
     "name": "stdout",
     "output_type": "stream",
     "text": [
      "INFO:tensorflow:Enabling eager execution\n",
      "INFO:tensorflow:Enabling v2 tensorshape\n",
      "INFO:tensorflow:Enabling resource variables\n",
      "INFO:tensorflow:Enabling tensor equality\n",
      "INFO:tensorflow:Enabling control flow v2\n"
     ]
    }
   ],
   "source": [
    "import main"
   ]
  },
  {
   "cell_type": "code",
   "execution_count": 2,
   "id": "certified-india",
   "metadata": {},
   "outputs": [],
   "source": [
    "import pickle"
   ]
  },
  {
   "cell_type": "code",
   "execution_count": 3,
   "id": "binary-mortgage",
   "metadata": {},
   "outputs": [
    {
     "ename": "EOFError",
     "evalue": "Ran out of input",
     "output_type": "error",
     "traceback": [
      "\u001b[0;31m---------------------------------------------------------------------------\u001b[0m",
      "\u001b[0;31mEOFError\u001b[0m                                  Traceback (most recent call last)",
      "\u001b[0;32m<ipython-input-3-75bd087eb183>\u001b[0m in \u001b[0;36m<module>\u001b[0;34m\u001b[0m\n\u001b[1;32m      2\u001b[0m \u001b[0;32mwith\u001b[0m \u001b[0mopen\u001b[0m\u001b[0;34m(\u001b[0m\u001b[0;34m\"2021-05-06-3ply-boards3.pickle\"\u001b[0m\u001b[0;34m,\u001b[0m \u001b[0;34m\"rb\"\u001b[0m\u001b[0;34m)\u001b[0m \u001b[0;32mas\u001b[0m \u001b[0mf\u001b[0m\u001b[0;34m:\u001b[0m\u001b[0;34m\u001b[0m\u001b[0;34m\u001b[0m\u001b[0m\n\u001b[1;32m      3\u001b[0m     \u001b[0;32mwhile\u001b[0m \u001b[0;32mTrue\u001b[0m\u001b[0;34m:\u001b[0m\u001b[0;34m\u001b[0m\u001b[0;34m\u001b[0m\u001b[0m\n\u001b[0;32m----> 4\u001b[0;31m         \u001b[0mboard_pairs\u001b[0m\u001b[0;34m.\u001b[0m\u001b[0mappend\u001b[0m\u001b[0;34m(\u001b[0m\u001b[0mpickle\u001b[0m\u001b[0;34m.\u001b[0m\u001b[0mload\u001b[0m\u001b[0;34m(\u001b[0m\u001b[0mf\u001b[0m\u001b[0;34m)\u001b[0m\u001b[0;34m)\u001b[0m\u001b[0;34m\u001b[0m\u001b[0;34m\u001b[0m\u001b[0m\n\u001b[0m\u001b[1;32m      5\u001b[0m \u001b[0;34m\u001b[0m\u001b[0m\n",
      "\u001b[0;31mEOFError\u001b[0m: Ran out of input"
     ]
    }
   ],
   "source": [
    "board_pairs = []\n",
    "with open(\"2021-05-06-3ply-boards3.pickle\", \"rb\") as f:\n",
    "    while True:\n",
    "        board_pairs.append(pickle.load(f))\n",
    "    "
   ]
  },
  {
   "cell_type": "code",
   "execution_count": 4,
   "id": "behind-integrity",
   "metadata": {},
   "outputs": [],
   "source": [
    "inputs = []\n",
    "outputs = []\n",
    "for p in board_pairs:\n",
    "    inputs.append(p[0].get_flipped_3d_array())\n",
    "    outputs.append(p[1])"
   ]
  },
  {
   "cell_type": "code",
   "execution_count": 5,
   "id": "existing-reach",
   "metadata": {},
   "outputs": [
    {
     "data": {
      "text/plain": [
       "32835"
      ]
     },
     "execution_count": 5,
     "metadata": {},
     "output_type": "execute_result"
    }
   ],
   "source": [
    "len(inputs)"
   ]
  },
  {
   "cell_type": "code",
   "execution_count": 6,
   "id": "auburn-market",
   "metadata": {},
   "outputs": [],
   "source": [
    "import numpy as np"
   ]
  },
  {
   "cell_type": "code",
   "execution_count": 7,
   "id": "figured-moscow",
   "metadata": {},
   "outputs": [],
   "source": [
    "inputs = np.array(inputs)"
   ]
  },
  {
   "cell_type": "code",
   "execution_count": 8,
   "id": "tired-development",
   "metadata": {},
   "outputs": [],
   "source": [
    "outputs = np.array(outputs)"
   ]
  },
  {
   "cell_type": "code",
   "execution_count": 9,
   "id": "gothic-navigator",
   "metadata": {},
   "outputs": [
    {
     "data": {
      "text/plain": [
       "(32835, 19, 15, 2)"
      ]
     },
     "execution_count": 9,
     "metadata": {},
     "output_type": "execute_result"
    }
   ],
   "source": [
    "inputs.shape"
   ]
  },
  {
   "cell_type": "code",
   "execution_count": 10,
   "id": "postal-subject",
   "metadata": {},
   "outputs": [
    {
     "data": {
      "text/plain": [
       "(32835,)"
      ]
     },
     "execution_count": 10,
     "metadata": {},
     "output_type": "execute_result"
    }
   ],
   "source": [
    "outputs.shape"
   ]
  },
  {
   "cell_type": "code",
   "execution_count": 11,
   "id": "secondary-treatment",
   "metadata": {},
   "outputs": [],
   "source": [
    "train_inputs = inputs[:26268]\n",
    "train_outputs = outputs[:26268]"
   ]
  },
  {
   "cell_type": "code",
   "execution_count": 12,
   "id": "lasting-replacement",
   "metadata": {},
   "outputs": [],
   "source": [
    "test_inputs = inputs[26268:]\n",
    "test_outputs = outputs[26268:]"
   ]
  },
  {
   "cell_type": "code",
   "execution_count": 26,
   "id": "attempted-reggae",
   "metadata": {},
   "outputs": [],
   "source": [
    "from tensorflow import keras\n",
    "from tensorflow.keras import layers\n",
    "import tensorflow as tf"
   ]
  },
  {
   "cell_type": "code",
   "execution_count": 29,
   "id": "potential-twins",
   "metadata": {},
   "outputs": [],
   "source": [
    "model = keras.Sequential()\n",
    "model.add(layers.Conv2D(32, (3, 3), activation='relu', input_shape=(19, 15, 2)))\n",
    "model.add(layers.MaxPooling2D((2, 2)))\n",
    "model.add(layers.Conv2D(64, (3, 3), activation='relu'))\n"
   ]
  },
  {
   "cell_type": "code",
   "execution_count": 30,
   "id": "unlikely-bunch",
   "metadata": {},
   "outputs": [
    {
     "name": "stdout",
     "output_type": "stream",
     "text": [
      "Model: \"sequential_3\"\n",
      "_________________________________________________________________\n",
      "Layer (type)                 Output Shape              Param #   \n",
      "=================================================================\n",
      "conv2d_7 (Conv2D)            (None, 17, 13, 32)        608       \n",
      "_________________________________________________________________\n",
      "max_pooling2d_4 (MaxPooling2 (None, 8, 6, 32)          0         \n",
      "_________________________________________________________________\n",
      "conv2d_8 (Conv2D)            (None, 6, 4, 64)          18496     \n",
      "=================================================================\n",
      "Total params: 19,104\n",
      "Trainable params: 19,104\n",
      "Non-trainable params: 0\n",
      "_________________________________________________________________\n"
     ]
    }
   ],
   "source": [
    "model.summary()"
   ]
  },
  {
   "cell_type": "code",
   "execution_count": 31,
   "id": "sexual-assumption",
   "metadata": {},
   "outputs": [],
   "source": [
    "model.add(layers.Flatten())\n",
    "model.add(layers.Dense(256, activation='relu'))\n",
    "model.add(layers.Dense(1, activation='relu'))"
   ]
  },
  {
   "cell_type": "code",
   "execution_count": 32,
   "id": "documentary-bolivia",
   "metadata": {},
   "outputs": [
    {
     "name": "stdout",
     "output_type": "stream",
     "text": [
      "Model: \"sequential_3\"\n",
      "_________________________________________________________________\n",
      "Layer (type)                 Output Shape              Param #   \n",
      "=================================================================\n",
      "conv2d_7 (Conv2D)            (None, 17, 13, 32)        608       \n",
      "_________________________________________________________________\n",
      "max_pooling2d_4 (MaxPooling2 (None, 8, 6, 32)          0         \n",
      "_________________________________________________________________\n",
      "conv2d_8 (Conv2D)            (None, 6, 4, 64)          18496     \n",
      "_________________________________________________________________\n",
      "flatten (Flatten)            (None, 1536)              0         \n",
      "_________________________________________________________________\n",
      "dense_5 (Dense)              (None, 256)               393472    \n",
      "_________________________________________________________________\n",
      "dense_6 (Dense)              (None, 1)                 257       \n",
      "=================================================================\n",
      "Total params: 412,833\n",
      "Trainable params: 412,833\n",
      "Non-trainable params: 0\n",
      "_________________________________________________________________\n"
     ]
    }
   ],
   "source": [
    "model.summary()"
   ]
  },
  {
   "cell_type": "code",
   "execution_count": 33,
   "id": "satisfactory-professional",
   "metadata": {},
   "outputs": [],
   "source": [
    "model.compile(loss='mean_absolute_error',optimizer=tf.keras.optimizers.Adam(0.001))"
   ]
  },
  {
   "cell_type": "code",
   "execution_count": 34,
   "id": "intensive-freeware",
   "metadata": {},
   "outputs": [
    {
     "name": "stdout",
     "output_type": "stream",
     "text": [
      "Epoch 1/100\n",
      "657/657 [==============================] - 5s 7ms/step - loss: 0.1505 - val_loss: 0.0640\n",
      "Epoch 2/100\n",
      "657/657 [==============================] - 4s 7ms/step - loss: 0.0605 - val_loss: 0.0539\n",
      "Epoch 3/100\n",
      "657/657 [==============================] - 4s 7ms/step - loss: 0.0520 - val_loss: 0.0495\n",
      "Epoch 4/100\n",
      "657/657 [==============================] - 4s 7ms/step - loss: 0.0476 - val_loss: 0.0469\n",
      "Epoch 5/100\n",
      "657/657 [==============================] - 4s 7ms/step - loss: 0.0479 - val_loss: 0.0464\n",
      "Epoch 6/100\n",
      "657/657 [==============================] - 4s 7ms/step - loss: 0.0445 - val_loss: 0.0472\n",
      "Epoch 7/100\n",
      "657/657 [==============================] - 4s 7ms/step - loss: 0.0432 - val_loss: 0.0471\n",
      "Epoch 8/100\n",
      "657/657 [==============================] - 4s 7ms/step - loss: 0.0418 - val_loss: 0.0449\n",
      "Epoch 9/100\n",
      "657/657 [==============================] - 4s 7ms/step - loss: 0.0417 - val_loss: 0.0435\n",
      "Epoch 10/100\n",
      "657/657 [==============================] - 4s 7ms/step - loss: 0.0409 - val_loss: 0.0455\n",
      "Epoch 11/100\n",
      "657/657 [==============================] - 4s 7ms/step - loss: 0.0397 - val_loss: 0.0434\n",
      "Epoch 12/100\n",
      "657/657 [==============================] - 4s 7ms/step - loss: 0.0393 - val_loss: 0.0431\n",
      "Epoch 13/100\n",
      "657/657 [==============================] - 4s 7ms/step - loss: 0.0394 - val_loss: 0.0432\n",
      "Epoch 14/100\n",
      "657/657 [==============================] - 4s 6ms/step - loss: 0.0373 - val_loss: 0.0482\n",
      "Epoch 15/100\n",
      "657/657 [==============================] - 4s 6ms/step - loss: 0.0374 - val_loss: 0.0444\n",
      "Epoch 16/100\n",
      "657/657 [==============================] - 4s 7ms/step - loss: 0.0357 - val_loss: 0.0445\n",
      "Epoch 17/100\n",
      "657/657 [==============================] - 4s 7ms/step - loss: 0.0350 - val_loss: 0.0446\n",
      "Epoch 18/100\n",
      "657/657 [==============================] - 4s 7ms/step - loss: 0.0341 - val_loss: 0.0459\n",
      "Epoch 19/100\n",
      "657/657 [==============================] - 4s 6ms/step - loss: 0.0340 - val_loss: 0.0450\n",
      "Epoch 20/100\n",
      "657/657 [==============================] - 4s 6ms/step - loss: 0.0328 - val_loss: 0.0448\n",
      "Epoch 21/100\n",
      "657/657 [==============================] - 4s 6ms/step - loss: 0.0319 - val_loss: 0.0444\n",
      "Epoch 22/100\n",
      "657/657 [==============================] - 4s 6ms/step - loss: 0.0303 - val_loss: 0.0450\n",
      "Epoch 23/100\n",
      "657/657 [==============================] - 4s 7ms/step - loss: 0.0299 - val_loss: 0.0444\n",
      "Epoch 24/100\n",
      "657/657 [==============================] - 4s 7ms/step - loss: 0.0306 - val_loss: 0.0449\n",
      "Epoch 25/100\n",
      "657/657 [==============================] - 4s 6ms/step - loss: 0.0288 - val_loss: 0.0445\n",
      "Epoch 26/100\n",
      "657/657 [==============================] - 4s 6ms/step - loss: 0.0281 - val_loss: 0.0448\n",
      "Epoch 27/100\n",
      "657/657 [==============================] - 4s 6ms/step - loss: 0.0270 - val_loss: 0.0455\n",
      "Epoch 28/100\n",
      "657/657 [==============================] - 4s 6ms/step - loss: 0.0267 - val_loss: 0.0469\n",
      "Epoch 29/100\n",
      "657/657 [==============================] - 4s 7ms/step - loss: 0.0269 - val_loss: 0.0452\n",
      "Epoch 30/100\n",
      "657/657 [==============================] - 4s 7ms/step - loss: 0.0255 - val_loss: 0.0450\n",
      "Epoch 31/100\n",
      "657/657 [==============================] - 4s 7ms/step - loss: 0.0250 - val_loss: 0.0463\n",
      "Epoch 32/100\n",
      "657/657 [==============================] - 4s 7ms/step - loss: 0.0241 - val_loss: 0.0467\n",
      "Epoch 33/100\n",
      "657/657 [==============================] - 4s 7ms/step - loss: 0.0245 - val_loss: 0.0458\n",
      "Epoch 34/100\n",
      "657/657 [==============================] - 4s 7ms/step - loss: 0.0239 - val_loss: 0.0449\n",
      "Epoch 35/100\n",
      "657/657 [==============================] - 4s 7ms/step - loss: 0.0241 - val_loss: 0.0460\n",
      "Epoch 36/100\n",
      "657/657 [==============================] - 4s 7ms/step - loss: 0.0231 - val_loss: 0.0458\n",
      "Epoch 37/100\n",
      "657/657 [==============================] - 4s 6ms/step - loss: 0.0235 - val_loss: 0.0452\n",
      "Epoch 38/100\n",
      "657/657 [==============================] - 4s 7ms/step - loss: 0.0222 - val_loss: 0.0458\n",
      "Epoch 39/100\n",
      "657/657 [==============================] - 4s 7ms/step - loss: 0.0218 - val_loss: 0.0456\n",
      "Epoch 40/100\n",
      "657/657 [==============================] - 4s 6ms/step - loss: 0.0215 - val_loss: 0.0464\n",
      "Epoch 41/100\n",
      "657/657 [==============================] - 4s 7ms/step - loss: 0.0211 - val_loss: 0.0454\n",
      "Epoch 42/100\n",
      "657/657 [==============================] - 4s 7ms/step - loss: 0.0206 - val_loss: 0.0464\n",
      "Epoch 43/100\n",
      "657/657 [==============================] - 4s 7ms/step - loss: 0.0210 - val_loss: 0.0455\n",
      "Epoch 44/100\n",
      "657/657 [==============================] - 4s 7ms/step - loss: 0.0199 - val_loss: 0.0457\n",
      "Epoch 45/100\n",
      "657/657 [==============================] - 4s 7ms/step - loss: 0.0199 - val_loss: 0.0468\n",
      "Epoch 46/100\n",
      "657/657 [==============================] - 4s 7ms/step - loss: 0.0194 - val_loss: 0.0461\n",
      "Epoch 47/100\n",
      "657/657 [==============================] - 4s 7ms/step - loss: 0.0191 - val_loss: 0.0465\n",
      "Epoch 48/100\n",
      "657/657 [==============================] - 4s 7ms/step - loss: 0.0193 - val_loss: 0.0463\n",
      "Epoch 49/100\n",
      "657/657 [==============================] - 4s 7ms/step - loss: 0.0189 - val_loss: 0.0460\n",
      "Epoch 50/100\n",
      "657/657 [==============================] - 4s 7ms/step - loss: 0.0191 - val_loss: 0.0462\n",
      "Epoch 51/100\n",
      "657/657 [==============================] - 4s 7ms/step - loss: 0.0190 - val_loss: 0.0461\n",
      "Epoch 52/100\n",
      "657/657 [==============================] - 4s 6ms/step - loss: 0.0182 - val_loss: 0.0459\n",
      "Epoch 53/100\n",
      "657/657 [==============================] - 4s 7ms/step - loss: 0.0181 - val_loss: 0.0472\n",
      "Epoch 54/100\n",
      "657/657 [==============================] - 4s 7ms/step - loss: 0.0177 - val_loss: 0.0468\n",
      "Epoch 55/100\n",
      "657/657 [==============================] - 4s 7ms/step - loss: 0.0175 - val_loss: 0.0457\n",
      "Epoch 56/100\n",
      "657/657 [==============================] - 4s 7ms/step - loss: 0.0174 - val_loss: 0.0464\n",
      "Epoch 57/100\n",
      "657/657 [==============================] - 4s 7ms/step - loss: 0.0174 - val_loss: 0.0468\n",
      "Epoch 58/100\n",
      "657/657 [==============================] - 4s 7ms/step - loss: 0.0169 - val_loss: 0.0465\n",
      "Epoch 59/100\n",
      "657/657 [==============================] - 4s 7ms/step - loss: 0.0169 - val_loss: 0.0465\n",
      "Epoch 60/100\n",
      "657/657 [==============================] - 4s 7ms/step - loss: 0.0169 - val_loss: 0.0461\n",
      "Epoch 61/100\n",
      "657/657 [==============================] - 4s 7ms/step - loss: 0.0161 - val_loss: 0.0451\n",
      "Epoch 62/100\n",
      "657/657 [==============================] - 4s 7ms/step - loss: 0.0162 - val_loss: 0.0460\n",
      "Epoch 63/100\n",
      "657/657 [==============================] - 4s 6ms/step - loss: 0.0161 - val_loss: 0.0461\n",
      "Epoch 64/100\n",
      "657/657 [==============================] - 4s 6ms/step - loss: 0.0161 - val_loss: 0.0456\n",
      "Epoch 65/100\n",
      "657/657 [==============================] - 4s 7ms/step - loss: 0.0161 - val_loss: 0.0463\n",
      "Epoch 66/100\n",
      "657/657 [==============================] - 4s 6ms/step - loss: 0.0158 - val_loss: 0.0460\n",
      "Epoch 67/100\n",
      "657/657 [==============================] - 4s 6ms/step - loss: 0.0157 - val_loss: 0.0456\n",
      "Epoch 68/100\n",
      "657/657 [==============================] - 4s 6ms/step - loss: 0.0161 - val_loss: 0.0460\n",
      "Epoch 69/100\n",
      "657/657 [==============================] - 4s 6ms/step - loss: 0.0153 - val_loss: 0.0466\n",
      "Epoch 70/100\n",
      "657/657 [==============================] - 4s 6ms/step - loss: 0.0159 - val_loss: 0.0454\n",
      "Epoch 71/100\n",
      "657/657 [==============================] - 4s 6ms/step - loss: 0.0152 - val_loss: 0.0462\n",
      "Epoch 72/100\n",
      "657/657 [==============================] - 4s 6ms/step - loss: 0.0154 - val_loss: 0.0455\n",
      "Epoch 73/100\n",
      "657/657 [==============================] - 4s 6ms/step - loss: 0.0150 - val_loss: 0.0466\n",
      "Epoch 74/100\n",
      "657/657 [==============================] - 4s 6ms/step - loss: 0.0150 - val_loss: 0.0457\n",
      "Epoch 75/100\n",
      "657/657 [==============================] - 4s 7ms/step - loss: 0.0148 - val_loss: 0.0465\n",
      "Epoch 76/100\n",
      "657/657 [==============================] - 5s 7ms/step - loss: 0.0147 - val_loss: 0.0467\n",
      "Epoch 77/100\n",
      "657/657 [==============================] - 5s 7ms/step - loss: 0.0143 - val_loss: 0.0460\n",
      "Epoch 78/100\n",
      "657/657 [==============================] - 5s 7ms/step - loss: 0.0144 - val_loss: 0.0475\n",
      "Epoch 79/100\n",
      "657/657 [==============================] - 5s 7ms/step - loss: 0.0146 - val_loss: 0.0453\n",
      "Epoch 80/100\n",
      "657/657 [==============================] - 5s 7ms/step - loss: 0.0146 - val_loss: 0.0458\n",
      "Epoch 81/100\n"
     ]
    },
    {
     "name": "stdout",
     "output_type": "stream",
     "text": [
      "657/657 [==============================] - 5s 7ms/step - loss: 0.0144 - val_loss: 0.0459\n",
      "Epoch 82/100\n",
      "657/657 [==============================] - 5s 7ms/step - loss: 0.0137 - val_loss: 0.0460\n",
      "Epoch 83/100\n",
      "657/657 [==============================] - 4s 7ms/step - loss: 0.0138 - val_loss: 0.0460\n",
      "Epoch 84/100\n",
      "657/657 [==============================] - 4s 7ms/step - loss: 0.0142 - val_loss: 0.0471\n",
      "Epoch 85/100\n",
      "657/657 [==============================] - 4s 7ms/step - loss: 0.0142 - val_loss: 0.0458\n",
      "Epoch 86/100\n",
      "657/657 [==============================] - 4s 7ms/step - loss: 0.0140 - val_loss: 0.0459\n",
      "Epoch 87/100\n",
      "657/657 [==============================] - 4s 7ms/step - loss: 0.0137 - val_loss: 0.0458\n",
      "Epoch 88/100\n",
      "657/657 [==============================] - 4s 7ms/step - loss: 0.0136 - val_loss: 0.0458\n",
      "Epoch 89/100\n",
      "657/657 [==============================] - 4s 7ms/step - loss: 0.0139 - val_loss: 0.0450\n",
      "Epoch 90/100\n",
      "657/657 [==============================] - 4s 7ms/step - loss: 0.0133 - val_loss: 0.0465\n",
      "Epoch 91/100\n",
      "657/657 [==============================] - 5s 7ms/step - loss: 0.0145 - val_loss: 0.0459\n",
      "Epoch 92/100\n",
      "657/657 [==============================] - 5s 7ms/step - loss: 0.0136 - val_loss: 0.0468\n",
      "Epoch 93/100\n",
      "657/657 [==============================] - 5s 7ms/step - loss: 0.0135 - val_loss: 0.0461\n",
      "Epoch 94/100\n",
      "657/657 [==============================] - 5s 7ms/step - loss: 0.0132 - val_loss: 0.0467\n",
      "Epoch 95/100\n",
      "657/657 [==============================] - 5s 7ms/step - loss: 0.0133 - val_loss: 0.0462\n",
      "Epoch 96/100\n",
      "657/657 [==============================] - 4s 7ms/step - loss: 0.0131 - val_loss: 0.0457\n",
      "Epoch 97/100\n",
      "657/657 [==============================] - 5s 7ms/step - loss: 0.0132 - val_loss: 0.0464\n",
      "Epoch 98/100\n",
      "657/657 [==============================] - 5s 7ms/step - loss: 0.0126 - val_loss: 0.0460\n",
      "Epoch 99/100\n",
      "657/657 [==============================] - 5s 7ms/step - loss: 0.0131 - val_loss: 0.0469\n",
      "Epoch 100/100\n",
      "657/657 [==============================] - 5s 7ms/step - loss: 0.0126 - val_loss: 0.0459\n"
     ]
    },
    {
     "data": {
      "text/plain": [
       "<tensorflow.python.keras.callbacks.History at 0x189d87b50>"
      ]
     },
     "execution_count": 34,
     "metadata": {},
     "output_type": "execute_result"
    }
   ],
   "source": [
    "model.fit(train_inputs, train_outputs, epochs=100, validation_split = 0.2)"
   ]
  },
  {
   "cell_type": "code",
   "execution_count": null,
   "id": "active-superior",
   "metadata": {},
   "outputs": [],
   "source": []
  },
  {
   "cell_type": "code",
   "execution_count": 35,
   "id": "distinguished-netscape",
   "metadata": {},
   "outputs": [],
   "source": [
    "model2 = keras.Sequential()\n",
    "model2.add(layers.Conv2D(32, (3, 3), activation='relu', input_shape=(19, 15, 2)))\n",
    "model2.add(layers.Conv2D(64, (3, 3), activation='relu'))\n"
   ]
  },
  {
   "cell_type": "code",
   "execution_count": 36,
   "id": "discrete-louisville",
   "metadata": {
    "scrolled": true
   },
   "outputs": [
    {
     "name": "stdout",
     "output_type": "stream",
     "text": [
      "Model: \"sequential_4\"\n",
      "_________________________________________________________________\n",
      "Layer (type)                 Output Shape              Param #   \n",
      "=================================================================\n",
      "conv2d_9 (Conv2D)            (None, 17, 13, 32)        608       \n",
      "_________________________________________________________________\n",
      "conv2d_10 (Conv2D)           (None, 15, 11, 64)        18496     \n",
      "=================================================================\n",
      "Total params: 19,104\n",
      "Trainable params: 19,104\n",
      "Non-trainable params: 0\n",
      "_________________________________________________________________\n"
     ]
    }
   ],
   "source": [
    "model2.summary()"
   ]
  },
  {
   "cell_type": "code",
   "execution_count": 37,
   "id": "floral-broadcast",
   "metadata": {},
   "outputs": [],
   "source": [
    "model2.add(layers.Flatten())\n",
    "model2.add(layers.Dense(256, activation='relu'))\n",
    "model2.add(layers.Dense(1, activation='relu'))"
   ]
  },
  {
   "cell_type": "code",
   "execution_count": 38,
   "id": "saved-consultation",
   "metadata": {
    "scrolled": false
   },
   "outputs": [
    {
     "name": "stdout",
     "output_type": "stream",
     "text": [
      "Model: \"sequential_4\"\n",
      "_________________________________________________________________\n",
      "Layer (type)                 Output Shape              Param #   \n",
      "=================================================================\n",
      "conv2d_9 (Conv2D)            (None, 17, 13, 32)        608       \n",
      "_________________________________________________________________\n",
      "conv2d_10 (Conv2D)           (None, 15, 11, 64)        18496     \n",
      "_________________________________________________________________\n",
      "flatten_1 (Flatten)          (None, 10560)             0         \n",
      "_________________________________________________________________\n",
      "dense_7 (Dense)              (None, 256)               2703616   \n",
      "_________________________________________________________________\n",
      "dense_8 (Dense)              (None, 1)                 257       \n",
      "=================================================================\n",
      "Total params: 2,722,977\n",
      "Trainable params: 2,722,977\n",
      "Non-trainable params: 0\n",
      "_________________________________________________________________\n"
     ]
    }
   ],
   "source": [
    "model2.summary()"
   ]
  },
  {
   "cell_type": "code",
   "execution_count": 39,
   "id": "sudden-president",
   "metadata": {},
   "outputs": [],
   "source": [
    "model2.compile(loss='mean_absolute_error',optimizer=tf.keras.optimizers.Adam(0.001))"
   ]
  },
  {
   "cell_type": "code",
   "execution_count": 40,
   "id": "operational-uruguay",
   "metadata": {
    "scrolled": true
   },
   "outputs": [
    {
     "name": "stdout",
     "output_type": "stream",
     "text": [
      "Epoch 1/10\n",
      "657/657 [==============================] - 13s 20ms/step - loss: 0.1329 - val_loss: 0.0593\n",
      "Epoch 2/10\n",
      "657/657 [==============================] - 13s 20ms/step - loss: 0.0493 - val_loss: 0.0396\n",
      "Epoch 3/10\n",
      "657/657 [==============================] - 13s 20ms/step - loss: 0.0389 - val_loss: 0.0351\n",
      "Epoch 4/10\n",
      "657/657 [==============================] - 13s 20ms/step - loss: 0.0343 - val_loss: 0.0326\n",
      "Epoch 5/10\n",
      "657/657 [==============================] - 13s 20ms/step - loss: 0.0313 - val_loss: 0.0352\n",
      "Epoch 6/10\n",
      "657/657 [==============================] - 13s 20ms/step - loss: 0.0293 - val_loss: 0.0300\n",
      "Epoch 7/10\n",
      "657/657 [==============================] - 13s 20ms/step - loss: 0.0270 - val_loss: 0.0295\n",
      "Epoch 8/10\n",
      "657/657 [==============================] - 13s 20ms/step - loss: 0.0258 - val_loss: 0.0280\n",
      "Epoch 9/10\n",
      "657/657 [==============================] - 13s 20ms/step - loss: 0.0251 - val_loss: 0.0268\n",
      "Epoch 10/10\n",
      "657/657 [==============================] - 13s 20ms/step - loss: 0.0237 - val_loss: 0.0290\n"
     ]
    },
    {
     "data": {
      "text/plain": [
       "<tensorflow.python.keras.callbacks.History at 0x18be9cd60>"
      ]
     },
     "execution_count": 40,
     "metadata": {},
     "output_type": "execute_result"
    }
   ],
   "source": [
    "model2.fit(train_inputs, train_outputs, epochs=10, validation_split = 0.2)"
   ]
  },
  {
   "cell_type": "code",
   "execution_count": 41,
   "id": "driven-traffic",
   "metadata": {},
   "outputs": [
    {
     "name": "stdout",
     "output_type": "stream",
     "text": [
      "206/206 - 1s - loss: 0.0289\n"
     ]
    },
    {
     "data": {
      "text/plain": [
       "0.02892664261162281"
      ]
     },
     "execution_count": 41,
     "metadata": {},
     "output_type": "execute_result"
    }
   ],
   "source": [
    "model2.evaluate(test_inputs,  test_outputs, verbose=2)"
   ]
  },
  {
   "cell_type": "code",
   "execution_count": 42,
   "id": "convinced-linux",
   "metadata": {},
   "outputs": [
    {
     "data": {
      "text/plain": [
       "array([[0.9979245 ],\n",
       "       [0.2937253 ],\n",
       "       [0.78281635],\n",
       "       ...,\n",
       "       [0.6185781 ],\n",
       "       [0.8112896 ],\n",
       "       [0.3840086 ]], dtype=float32)"
      ]
     },
     "execution_count": 42,
     "metadata": {},
     "output_type": "execute_result"
    }
   ],
   "source": [
    "model2.predict(test_inputs)"
   ]
  },
  {
   "cell_type": "code",
   "execution_count": 43,
   "id": "fatal-message",
   "metadata": {},
   "outputs": [
    {
     "data": {
      "text/plain": [
       "(<main.Board at 0x185574ca0>, 0.9444444444444444)"
      ]
     },
     "execution_count": 43,
     "metadata": {},
     "output_type": "execute_result"
    }
   ],
   "source": [
    "board_pairs[26268]"
   ]
  },
  {
   "cell_type": "code",
   "execution_count": 44,
   "id": "impaired-burden",
   "metadata": {},
   "outputs": [
    {
     "data": {
      "text/plain": [
       "(<main.Board at 0x185574d00>, 0.2777777777777778)"
      ]
     },
     "execution_count": 44,
     "metadata": {},
     "output_type": "execute_result"
    }
   ],
   "source": [
    "board_pairs[26268+1]"
   ]
  },
  {
   "cell_type": "code",
   "execution_count": 45,
   "id": "desperate-michigan",
   "metadata": {},
   "outputs": [
    {
     "data": {
      "text/plain": [
       "(<main.Board at 0x185574d60>, 0.7777777777777778)"
      ]
     },
     "execution_count": 45,
     "metadata": {},
     "output_type": "execute_result"
    }
   ],
   "source": [
    "board_pairs[26268+2]"
   ]
  },
  {
   "cell_type": "code",
   "execution_count": 46,
   "id": "together-joseph",
   "metadata": {},
   "outputs": [
    {
     "name": "stdout",
     "output_type": "stream",
     "text": [
      "INFO:tensorflow:Assets written to: saved_model/2021-07-22-model/assets\n"
     ]
    }
   ],
   "source": [
    "model2.save('saved_model/2021-07-22-model')"
   ]
  },
  {
   "cell_type": "code",
   "execution_count": null,
   "id": "opponent-berkeley",
   "metadata": {},
   "outputs": [],
   "source": []
  }
 ],
 "metadata": {
  "kernelspec": {
   "display_name": "Python 3",
   "language": "python",
   "name": "python3"
  },
  "language_info": {
   "codemirror_mode": {
    "name": "ipython",
    "version": 3
   },
   "file_extension": ".py",
   "mimetype": "text/x-python",
   "name": "python",
   "nbconvert_exporter": "python",
   "pygments_lexer": "ipython3",
   "version": "3.9.2"
  }
 },
 "nbformat": 4,
 "nbformat_minor": 5
}
