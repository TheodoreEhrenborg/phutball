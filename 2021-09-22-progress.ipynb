{
 "cells": [
  {
   "cell_type": "code",
   "execution_count": 1,
   "id": "decent-piano",
   "metadata": {},
   "outputs": [
    {
     "name": "stdout",
     "output_type": "stream",
     "text": [
      "INFO:tensorflow:Enabling eager execution\n",
      "INFO:tensorflow:Enabling v2 tensorshape\n",
      "INFO:tensorflow:Enabling resource variables\n",
      "INFO:tensorflow:Enabling tensor equality\n",
      "INFO:tensorflow:Enabling control flow v2\n"
     ]
    }
   ],
   "source": [
    "import pickle\n",
    "random_board_pairs = []\n",
    "with open(\"2021-09-18-mcts-v3-boards13-random.pickle\", \"rb\") as f:\n",
    "    try:\n",
    "        while True:\n",
    "            random_board_pairs.append(pickle.load(f))\n",
    "    except EOFError:\n",
    "        pass"
   ]
  },
  {
   "cell_type": "code",
   "execution_count": 2,
   "id": "digital-mining",
   "metadata": {},
   "outputs": [
    {
     "data": {
      "text/plain": [
       "94"
      ]
     },
     "execution_count": 2,
     "metadata": {},
     "output_type": "execute_result"
    }
   ],
   "source": [
    "len(random_board_pairs)"
   ]
  },
  {
   "cell_type": "code",
   "execution_count": 3,
   "id": "infectious-hygiene",
   "metadata": {},
   "outputs": [
    {
     "name": "stdout",
     "output_type": "stream",
     "text": [
      "          1111111111\n",
      " 1234567890123456789\n",
      "A+++++++++++++○+++++\n",
      "B○++++○+++++++++++++\n",
      "C+++++++++++++++++++\n",
      "D++++++++○++++○+++++\n",
      "E+++++++++++++++++○+\n",
      "F○○○○+++++++++++++++\n",
      "G+○++++○○+++++++++++\n",
      "H○+++++○++++++++++++\n",
      "I+++++++++++++○+++++\n",
      "J○○++++○+++○++++++++\n",
      "K+++++++++++++++++++\n",
      "L++○●○++++++++++++++\n",
      "M○++++++++++++++++++\n",
      "N○++++++○+++++++++○+\n",
      "O+++++○+++++++++++++\n",
      "Side to move: Left\n",
      "Moves made: 0\n",
      "Ball at: [11  3]\n",
      "\n",
      "0.17800062256199972\n",
      "          1111111111\n",
      " 1234567890123456789\n",
      "A+++++++++++++++++++\n",
      "B+++++++++++++++++++\n",
      "C+++++++○+++++++++++\n",
      "D+++++++++++++++++++\n",
      "E+++++++++++++++++++\n",
      "F+++++++++++++++++++\n",
      "G+++++++++++++++++++\n",
      "H+++++++++++++++++++\n",
      "I+++++++++++○+++++++\n",
      "J++++○++++++++++++++\n",
      "K++++++++++++++++●++\n",
      "L+++++++++++++++++++\n",
      "M+++++++++++++++++++\n",
      "N+++++++++++++++++++\n",
      "O+++++++++++++++++++\n",
      "Side to move: Left\n",
      "Moves made: 0\n",
      "Ball at: [10 16]\n",
      "\n",
      "0.9096796346315439\n",
      "          1111111111\n",
      " 1234567890123456789\n",
      "A++++++++++○+○++++++\n",
      "B○○+++++++++++++++++\n",
      "C+○+++++++++++++++++\n",
      "D++++++++++○+++●++++\n",
      "E++++++++++++++++○○+\n",
      "F+++++++++++++++++++\n",
      "G○++++○+++++++++○+++\n",
      "H+++++++++++++++++++\n",
      "I+++++++++++++++○+++\n",
      "J+++++○++++○++++○++○\n",
      "K+++++○+++++++++++++\n",
      "L+++++++++++++++++++\n",
      "M+++○+++++++++++++++\n",
      "N+++++++++○+++++++++\n",
      "O+++++++++++++○+++++\n",
      "Side to move: Right\n",
      "Moves made: 0\n",
      "Ball at: [ 3 14]\n",
      "\n",
      "0.24395374685740298\n",
      "          1111111111\n",
      " 1234567890123456789\n",
      "A+++++++++++++++++++\n",
      "B+++++++++++++++++++\n",
      "C+○+++○++++++○++○+++\n",
      "D+++++++++++++++○+++\n",
      "E++++++++++++++++++○\n",
      "F+○+++++++++○○++++++\n",
      "G+++++++++++++○+++++\n",
      "H+++++●+○++○++++++++\n",
      "I+++○+++++++++○+++++\n",
      "J++++++++++++○++++++\n",
      "K+++++○+++++++++++++\n",
      "L++○++++++++++++++++\n",
      "M+++++++++++++++++++\n",
      "N+++○+○++++○++++++++\n",
      "O+++++++++++++++++○+\n",
      "Side to move: Left\n",
      "Moves made: 0\n",
      "Ball at: [7 5]\n",
      "\n",
      "0.4528368147477951\n",
      "          1111111111\n",
      " 1234567890123456789\n",
      "A+++++++++++++++++++\n",
      "B+++++++++++++++++++\n",
      "C+++++++++++++++++++\n",
      "D++++++++++++●++++++\n",
      "E+++++++++○+++++++++\n",
      "F++++++++++++○++++++\n",
      "G+++++++++++++++++++\n",
      "H+++++++++++++++++++\n",
      "I++++++++++++++++++○\n",
      "J+++○+++++++++++++++\n",
      "K+++++○++++++○++++++\n",
      "L+++++++○+++++++++++\n",
      "M++++○+++++++++○++++\n",
      "N+++++++++++++++++++\n",
      "O+++++++++++++++++++\n",
      "Side to move: Right\n",
      "Moves made: 0\n",
      "Ball at: [ 3 12]\n",
      "\n",
      "0.4481169514330551\n",
      "          1111111111\n",
      " 1234567890123456789\n",
      "A++++●++++++++++++++\n",
      "B+○+++++++++○+++++++\n",
      "C+++++++++++++++++++\n",
      "D+++++++++++++++++++\n",
      "E+++++++++++++++++++\n",
      "F+++++++++++++++++++\n",
      "G+++++++++++++++++++\n",
      "H+++++++++++++++++++\n",
      "I+++++++++++++++++++\n",
      "J+++++++++++++++++++\n",
      "K+++++++++++++++++++\n",
      "L+++++++++++++++++++\n",
      "M+++++++++++++++++++\n",
      "N+++++++++++++++++++\n",
      "O+++++++++++++++++++\n",
      "Side to move: Right\n",
      "Moves made: 0\n",
      "Ball at: [0 4]\n",
      "\n",
      "0.99857708735779\n",
      "          1111111111\n",
      " 1234567890123456789\n",
      "A+++○++○++++++++++++\n",
      "B○++++++++++○+++++○+\n",
      "C+++++++++++++++++++\n",
      "D++++++++++++++○++++\n",
      "E+++++++++++○+++++++\n",
      "F+++++++++++++++++++\n",
      "G+++++++○+++++++++++\n",
      "H++++++●++++++++++++\n",
      "I+++++++++++++++++○+\n",
      "J+○+○+++++++++++++++\n",
      "K+++++++++++++++++○+\n",
      "L+++++++++++++++++++\n",
      "M+++++++++○+++++++++\n",
      "N+++○+++++++++++++○○\n",
      "O+++++++++++++++++○+\n",
      "Side to move: Right\n",
      "Moves made: 0\n",
      "Ball at: [7 6]\n",
      "\n",
      "0.7990380778027131\n",
      "          1111111111\n",
      " 1234567890123456789\n",
      "A+++++++++++++++++++\n",
      "B+++++++++++++○+++++\n",
      "C+++++○+++○+○++○++++\n",
      "D+++○++++○++++++++++\n",
      "E○+++++++++++++++++○\n",
      "F++○+++++++++++++○++\n",
      "G++++++○++++++++○+++\n",
      "H++++++++++++++++○++\n",
      "I+++++++++++++++++++\n",
      "J○++++++++++○+++++++\n",
      "K+++++++++++++++○+++\n",
      "L+++○++○++++++++++++\n",
      "M++++++○+●++++++++++\n",
      "N+++++++++++++++++++\n",
      "O+○++++○++++++○+++++\n",
      "Side to move: Right\n",
      "Moves made: 0\n",
      "Ball at: [12  8]\n",
      "\n",
      "0.5459900889408383\n",
      "          1111111111\n",
      " 1234567890123456789\n",
      "A+++++++++++++++++++\n",
      "B+++++++++++++++++++\n",
      "C++++++○++++++++++++\n",
      "D+++++++++++++++++++\n",
      "E+++++++++++++++++++\n",
      "F+○+++++++++++++++++\n",
      "G+++++++++++++++++++\n",
      "H++○+++++++++++●++++\n",
      "I+++++++○+++++++++++\n",
      "J+++++++++++++++++++\n",
      "K+++++++++++++++++++\n",
      "L+++++++++++++++++++\n",
      "M+++++○+++++++++++++\n",
      "N++++++++○++++++++++\n",
      "O+++++++++++++++++++\n",
      "Side to move: Left\n",
      "Moves made: 0\n",
      "Ball at: [ 7 14]\n",
      "\n",
      "0.7577251174993682\n",
      "          1111111111\n",
      " 1234567890123456789\n",
      "A++++++++++○++++++++\n",
      "B+++++++○+++++++++++\n",
      "C+○+++++○+++++++++++\n",
      "D+++++++○+++++++++++\n",
      "E+++++●+++++++++++++\n",
      "F+++++++++○+++++++++\n",
      "G+++++○+++○++++++○++\n",
      "H+++++++++++○+++++++\n",
      "I++++○++++++++○+++++\n",
      "J++○++++++++++++++++\n",
      "K+++++++++++++++++++\n",
      "L+++++++++++++++++++\n",
      "M+++++++++++++++++++\n",
      "N+++++++++++++++++++\n",
      "O+++++++++++++++++++\n",
      "Side to move: Right\n",
      "Moves made: 0\n",
      "Ball at: [4 5]\n",
      "\n",
      "0.7133982354190357\n"
     ]
    }
   ],
   "source": [
    "for (b,s) in random_board_pairs[-10:]:\n",
    "    b.pretty_print_details()\n",
    "    print(s)"
   ]
  },
  {
   "cell_type": "code",
   "execution_count": 3,
   "id": "false-evanescence",
   "metadata": {},
   "outputs": [],
   "source": [
    "import pickle\n",
    "random_board_pairs = []\n",
    "with open(\"2021-09-18-mcts-v3-boards13-random.pickle\", \"rb\") as f:\n",
    "    try:\n",
    "        while True:\n",
    "            random_board_pairs.append(pickle.load(f))\n",
    "    except EOFError:\n",
    "        pass"
   ]
  },
  {
   "cell_type": "code",
   "execution_count": 4,
   "id": "auburn-bahamas",
   "metadata": {},
   "outputs": [
    {
     "data": {
      "text/plain": [
       "1166"
      ]
     },
     "execution_count": 4,
     "metadata": {},
     "output_type": "execute_result"
    }
   ],
   "source": [
    "len(random_board_pairs)"
   ]
  },
  {
   "cell_type": "code",
   "execution_count": 5,
   "id": "alpha-pledge",
   "metadata": {},
   "outputs": [
    {
     "name": "stdout",
     "output_type": "stream",
     "text": [
      "          1111111111\n",
      " 1234567890123456789\n",
      "A++++++○++++++++++○+\n",
      "B++○++++++++++○+++++\n",
      "C○++++++++++++++++++\n",
      "D++++○++++++○+++++++\n",
      "E++++++++++++++●++++\n",
      "F+++++○+++++++++++++\n",
      "G+++++○+++++++++++○+\n",
      "H+++++++○+++++++++++\n",
      "I++○++++++++++++++++\n",
      "J+++++++++++++++++++\n",
      "K+++++++++++++++++++\n",
      "L+++++++++++++++++++\n",
      "M+++++++○+○+++○+++++\n",
      "N+++++++++++++++++++\n",
      "O+++++++++++++++++++\n",
      "Side to move: Left\n",
      "Moves made: 0\n",
      "Ball at: [ 4 14]\n",
      "\n",
      "0.7498999840155214\n",
      "          1111111111\n",
      " 1234567890123456789\n",
      "A+++++++++++++++++++\n",
      "B+++++○+++○+++++++++\n",
      "C++++++++++++○++++++\n",
      "D+++++++++++++++++++\n",
      "E+++++++++++○+++++++\n",
      "F++++++●+++○++○○++++\n",
      "G+++++○++○++++++++++\n",
      "H+++++++++++++++++++\n",
      "I○++++++++++++○+++++\n",
      "J+++○+++++++++++++++\n",
      "K+++++++++++++++++++\n",
      "L++○++++++++++++++++\n",
      "M+++++++++++++++++++\n",
      "N++++++++++++○++++++\n",
      "O++++++++○++++++++++\n",
      "Side to move: Right\n",
      "Moves made: 0\n",
      "Ball at: [5 6]\n",
      "\n",
      "0.7500273820125696\n",
      "          1111111111\n",
      " 1234567890123456789\n",
      "A+++○+++++++++++++++\n",
      "B○+++++++++++++○++++\n",
      "C○++++++++++++○+++++\n",
      "D+++++++++++++++++++\n",
      "E++++++○++++++++++++\n",
      "F++++++++++++++++++○\n",
      "G+++++++++++○+++++++\n",
      "H+++○+++++++++++++++\n",
      "I++++○+++++++++++○++\n",
      "J+++++++++++++○+++++\n",
      "K+++++++++++++++++++\n",
      "L++++++++++++++++●○+\n",
      "M+++○+++++++++++++○+\n",
      "N++++++○++++++++++++\n",
      "O+++++++++○+++++++++\n",
      "Side to move: Left\n",
      "Moves made: 0\n",
      "Ball at: [11 16]\n",
      "\n",
      "1.0\n",
      "          1111111111\n",
      " 1234567890123456789\n",
      "A+++○++++++++○++++++\n",
      "B++++++++++○++++++++\n",
      "C++++++○++○+++○+++++\n",
      "D+++++++++++++++++++\n",
      "E+○+++++++++++++++++\n",
      "F+++++++++++++++++++\n",
      "G++++++++++++○++++++\n",
      "H+++++++++++++○+++++\n",
      "I++++++++++++++++++○\n",
      "J+++++○++++○++++++○+\n",
      "K++++○+++++++++++++○\n",
      "L+++++++++++++++++++\n",
      "M+++●○++++++++++++○+\n",
      "N+○++○++++++++++++++\n",
      "O++++++++++○++++++++\n",
      "Side to move: Right\n",
      "Moves made: 0\n",
      "Ball at: [12  3]\n",
      "\n",
      "0.7886312406244677\n",
      "          1111111111\n",
      " 1234567890123456789\n",
      "A+++○+++++++++++++++\n",
      "B+++○+++++++++++++++\n",
      "C+++++++++++++++++++\n",
      "D+++++++++○+++++++++\n",
      "E+++++++++++++++++++\n",
      "F++○++++++++++++++++\n",
      "G+++○+++○++++○++○+++\n",
      "H+++++++++++++++++++\n",
      "I+++++++○+++++++++++\n",
      "J+++++++++++++++++++\n",
      "K+++++++++++++++++++\n",
      "L+++++++++++++++++++\n",
      "M+++++++++++○+++++++\n",
      "N○+++●++++++++++++○+\n",
      "O+++++++++++++++++++\n",
      "Side to move: Left\n",
      "Moves made: 0\n",
      "Ball at: [13  4]\n",
      "\n",
      "0.346868032862046\n",
      "          1111111111\n",
      " 1234567890123456789\n",
      "A++++++++++++++++○++\n",
      "B+++++++++++++++++++\n",
      "C+++○++++++○++++++++\n",
      "D+++++++++++++++++++\n",
      "E+++++++++++++○+++++\n",
      "F+++++++++++++++++++\n",
      "G++++++●++++++++++++\n",
      "H+++++++++++++++++++\n",
      "I+++++++++++++++++++\n",
      "J+++++++++++++++++++\n",
      "K+○++++++++++++++○++\n",
      "L++++++○+++++++++++○\n",
      "M+++++++++++++++++++\n",
      "N++++○++++++++++++++\n",
      "O+++++++++++++++++++\n",
      "Side to move: Left\n",
      "Moves made: 0\n",
      "Ball at: [6 6]\n",
      "\n",
      "0.3611294561997056\n",
      "          1111111111\n",
      " 1234567890123456789\n",
      "A++++++++++++++++○++\n",
      "B+++○++++++++++++○++\n",
      "C+○++++++++○++++++○+\n",
      "D○++++++++++++++++++\n",
      "E++++○++++++++++++○+\n",
      "F+++○++++++++○+++○○+\n",
      "G+++++++++++++++++++\n",
      "H+++++++○+++○++++++○\n",
      "I++○++++++++++++++++\n",
      "J○++++++○+++++++++++\n",
      "K++○+++++○++○++++++○\n",
      "L+○+++++++++++++++++\n",
      "M++++++○++++++++++++\n",
      "N++++++○++++++++++++\n",
      "O+++○+++●+++++○++○++\n",
      "Side to move: Left\n",
      "Moves made: 0\n",
      "Ball at: [14  7]\n",
      "\n",
      "0.3653447832546982\n",
      "          1111111111\n",
      " 1234567890123456789\n",
      "A+++++++++++++++++○+\n",
      "B+++++++++++++++++++\n",
      "C+++++++++++○+++++++\n",
      "D++●++++++++++++++++\n",
      "E+++○○+○++++++++++++\n",
      "F++++++++++++++++++○\n",
      "G+++++++○○+++++++++○\n",
      "H○++++++++++++++++○+\n",
      "I+++○+++++++++++++++\n",
      "J++++○○+++++++○+++++\n",
      "K+++○+++++++++++++○+\n",
      "L+++++++○+++++++○++○\n",
      "M+++++++○○+++++++○++\n",
      "N+++++++++++++++++++\n",
      "O+++++++++○+++++++++\n",
      "Side to move: Left\n",
      "Moves made: 0\n",
      "Ball at: [3 2]\n",
      "\n",
      "0.3339177789282502\n",
      "          1111111111\n",
      " 1234567890123456789\n",
      "A++○○+++++○+++++++++\n",
      "B+++++++++++++●+++++\n",
      "C++++++++○++++++++++\n",
      "D+○++++++++++++○+++○\n",
      "E++++++○++++++++++++\n",
      "F+++++++++++++++++++\n",
      "G++++++++++++++++○++\n",
      "H+++++++++++++++++++\n",
      "I+++++++++++++++++++\n",
      "J+++++++++○+++++++○+\n",
      "K+○+++○+++++++++++++\n",
      "L○○+++++++++++++++++\n",
      "M+++++++++++++++++++\n",
      "N++++○+++++○++++++++\n",
      "O+++++++++++++++++++\n",
      "Side to move: Right\n",
      "Moves made: 0\n",
      "Ball at: [ 1 13]\n",
      "\n",
      "0.44785490498613956\n",
      "          1111111111\n",
      " 1234567890123456789\n",
      "A+++++○+++++++++++++\n",
      "B++++++++++++++++○++\n",
      "C++++++++++++○++++++\n",
      "D+++++++++++++++++●+\n",
      "E+++++++++++++++++++\n",
      "F+++++++++++++++++++\n",
      "G++○++++++++++++++○○\n",
      "H+++++++++++++++++++\n",
      "I+++++++++++++++++++\n",
      "J+++++++++++++++++++\n",
      "K+++++++++++++++++++\n",
      "L+++++++++++++++++++\n",
      "M++++++○++++++++++++\n",
      "N+++++++++○+++++++++\n",
      "O+++++++++++++++++++\n",
      "Side to move: Right\n",
      "Moves made: 0\n",
      "Ball at: [ 3 17]\n",
      "\n",
      "0.14115748066210151\n"
     ]
    }
   ],
   "source": [
    "for (b,s) in random_board_pairs[-10:]:\n",
    "    b.pretty_print_details()\n",
    "    print(s)"
   ]
  },
  {
   "cell_type": "code",
   "execution_count": 1,
   "id": "hundred-shepherd",
   "metadata": {},
   "outputs": [
    {
     "name": "stdout",
     "output_type": "stream",
     "text": [
      "INFO:tensorflow:Enabling eager execution\n",
      "INFO:tensorflow:Enabling v2 tensorshape\n",
      "INFO:tensorflow:Enabling resource variables\n",
      "INFO:tensorflow:Enabling tensor equality\n",
      "INFO:tensorflow:Enabling control flow v2\n"
     ]
    }
   ],
   "source": [
    "import pickle\n",
    "random_board_pairs = []\n",
    "with open(\"2021-09-18-mcts-v3-boards13-random.pickle\", \"rb\") as f:\n",
    "    try:\n",
    "        while True:\n",
    "            random_board_pairs.append(pickle.load(f))\n",
    "    except EOFError:\n",
    "        pass"
   ]
  },
  {
   "cell_type": "code",
   "execution_count": 2,
   "id": "variable-persian",
   "metadata": {},
   "outputs": [
    {
     "data": {
      "text/plain": [
       "3025"
      ]
     },
     "execution_count": 2,
     "metadata": {},
     "output_type": "execute_result"
    }
   ],
   "source": [
    "len(random_board_pairs)"
   ]
  },
  {
   "cell_type": "code",
   "execution_count": 3,
   "id": "linear-brake",
   "metadata": {},
   "outputs": [
    {
     "name": "stdout",
     "output_type": "stream",
     "text": [
      "          1111111111\n",
      " 1234567890123456789\n",
      "A+++++++++++++++++++\n",
      "B○+++++++++○+++++○++\n",
      "C+○+++++○+○+++++++++\n",
      "D+++○+++++++○++○++++\n",
      "E+++++++++++++++++++\n",
      "F+++++○++○++++++++++\n",
      "G+++++++++++++++++++\n",
      "H+○++++++○+++++++○○+\n",
      "I+++++++++++++++++++\n",
      "J○+++○+++●+++++○+++○\n",
      "K+○++++○+++++○+++++○\n",
      "L○○+○+++++○+++++○+++\n",
      "M+++++++++++++○+++++\n",
      "N+++++++++++++++++++\n",
      "O+++++++++++○+++++++\n",
      "Side to move: Right\n",
      "Moves made: 0\n",
      "Ball at: [9 8]\n",
      "\n",
      "0.7098238312558972\n",
      "          1111111111\n",
      " 1234567890123456789\n",
      "A++++++++○++++++++○+\n",
      "B+++++++++++○+++○+○+\n",
      "C++++++○++++++++++++\n",
      "D+++++++++++++○++○++\n",
      "E+++○+++++++○+++○+++\n",
      "F+○++++++●++++++++++\n",
      "G○++++++++○+++++○+++\n",
      "H+○+++++++++++++○+++\n",
      "I+++++++++++○+++++++\n",
      "J+++++++++++○+++++○+\n",
      "K+++++++++++++++++++\n",
      "L○+○+++○○+++++++++○+\n",
      "M++○+++++○+++○++++++\n",
      "N++++++++++++++++++○\n",
      "O+++++++++++++++++++\n",
      "Side to move: Left\n",
      "Moves made: 0\n",
      "Ball at: [5 8]\n",
      "\n",
      "0.7113695461555843\n",
      "          1111111111\n",
      " 1234567890123456789\n",
      "A+++++++++++++++++++\n",
      "B+++++++++++++++++++\n",
      "C+++○○++++++○+++++●○\n",
      "D+++++++++++++++++++\n",
      "E++++++++++++++++++○\n",
      "F+++++++++++○+++++++\n",
      "G++++++++○++++++++++\n",
      "H+++++++++++++++++○+\n",
      "I+++++++++++++++○+++\n",
      "J++++++○++++++++++++\n",
      "K○○+++++++++++++++++\n",
      "L+++++++++++++++++++\n",
      "M+++○+++++++++++++++\n",
      "N+++++++++++○++○++++\n",
      "O++++++++++++++++○++\n",
      "Side to move: Right\n",
      "Moves made: 0\n",
      "Ball at: [ 2 17]\n",
      "\n",
      "0.18140428859583088\n",
      "          1111111111\n",
      " 1234567890123456789\n",
      "A+++++++++++++++++++\n",
      "B+++++++++++++++++++\n",
      "C+++++++++++++++++++\n",
      "D+++++++++++++++++++\n",
      "E+++++++++++++++++++\n",
      "F+++++++++++++++++++\n",
      "G++++++++++++○++++++\n",
      "H+++++++++++++++++++\n",
      "I+++++++++++++++++++\n",
      "J+++++++++++++++++++\n",
      "K++++++++++●++++++++\n",
      "L+++++++++++++++++++\n",
      "M+++++++++++++++++++\n",
      "N+++++++++++++++++++\n",
      "O+++++++++++++++++++\n",
      "Side to move: Right\n",
      "Moves made: 0\n",
      "Ball at: [10 10]\n",
      "\n",
      "0.5226473846001389\n",
      "          1111111111\n",
      " 1234567890123456789\n",
      "A+++++++++++++++++++\n",
      "B++++○++++++++++○○++\n",
      "C+++++++++++++++++++\n",
      "D+++++++++++++++++++\n",
      "E++++++++++++○++++++\n",
      "F+++++++++++++++++++\n",
      "G+++++++++++++++++++\n",
      "H++++++++○++++++++++\n",
      "I+++++++++++++++++++\n",
      "J+++++++++++++++++++\n",
      "K+++++++++++++++++++\n",
      "L+++++++●+++++++++++\n",
      "M+○++++++++++++++○++\n",
      "N+++++++++++++++++++\n",
      "O+++++++++++++++++++\n",
      "Side to move: Right\n",
      "Moves made: 0\n",
      "Ball at: [11  7]\n",
      "\n",
      "0.6822515910946825\n",
      "          1111111111\n",
      " 1234567890123456789\n",
      "A++++++++●++++++++++\n",
      "B+++++++++○+++++++++\n",
      "C+++++++++++++++++++\n",
      "D+++++++++++++++++++\n",
      "E+++++++++++○+++++++\n",
      "F+++++++++++++++++++\n",
      "G○+○++++++++++++++++\n",
      "H+++++++++++++++++++\n",
      "I+++++++++++++++++++\n",
      "J+++++++++++++++++++\n",
      "K+++++○+○+++++++++++\n",
      "L+++++++++++++++++++\n",
      "M+++++++++++++++++++\n",
      "N+++++++++++++++++++\n",
      "O+++++++++++++++++++\n",
      "Side to move: Right\n",
      "Moves made: 0\n",
      "Ball at: [0 8]\n",
      "\n",
      "0.4872576791282586\n",
      "          1111111111\n",
      " 1234567890123456789\n",
      "A++○++++++++++++++++\n",
      "B+++++++++++○+++++++\n",
      "C+++○○++++++○+++++++\n",
      "D++++++○+○++++++++++\n",
      "E++○++++++++++++++++\n",
      "F++●+++++++++++++++○\n",
      "G+++++○++○++++++++++\n",
      "H○++++++++++++++○+○+\n",
      "I++++++++++++○○○++++\n",
      "J+++++++++++++++++++\n",
      "K++++++○+++○+++++○++\n",
      "L++++++++++++++○++++\n",
      "M+++++++++++++++○+++\n",
      "N+○++++++++++++++++○\n",
      "O+++++○+++++++++++++\n",
      "Side to move: Left\n",
      "Moves made: 0\n",
      "Ball at: [5 2]\n",
      "\n",
      "0.3059315277856562\n",
      "          1111111111\n",
      " 1234567890123456789\n",
      "A+++++++++++++++++++\n",
      "B+++++++++++++++++++\n",
      "C+++○+++++○+++++++++\n",
      "D+++++●+++++○+++++++\n",
      "E++++++++++++++○++++\n",
      "F+++++++++++++++++++\n",
      "G+++++++++++++++++++\n",
      "H+++++++++++++++++++\n",
      "I+○○++++++○++○++++++\n",
      "J+++++++++++++++++++\n",
      "K+++++++++++++++++++\n",
      "L+++++++++++++++++++\n",
      "M+++○+++++++++++++++\n",
      "N++++○+++++++++++○++\n",
      "O++++○++++++++++++++\n",
      "Side to move: Right\n",
      "Moves made: 0\n",
      "Ball at: [3 5]\n",
      "\n",
      "0.7827938702890815\n",
      "          1111111111\n",
      " 1234567890123456789\n",
      "A++++++++++++++++○++\n",
      "B+++++○+++++++++++++\n",
      "C+++++++++++++++++++\n",
      "D++++++○++++++++++++\n",
      "E+○+++++++++○+++++++\n",
      "F+++++++○+++++++++++\n",
      "G++○++++++○++++++++○\n",
      "H+++○+++++++++++++++\n",
      "I+++++++++++++++++++\n",
      "J+++○+++○+++++++++++\n",
      "K++++++++○++++++++++\n",
      "L+++++○+++++++○○++○+\n",
      "M+++++++++++○+++○++○\n",
      "N+++++++++++++++++++\n",
      "O+○○++++●○○++++++○++\n",
      "Side to move: Left\n",
      "Moves made: 0\n",
      "Ball at: [14  7]\n",
      "\n",
      "0.5710909741414166\n",
      "          1111111111\n",
      " 1234567890123456789\n",
      "A++++++++++○++++++++\n",
      "B+++++++++++++++++++\n",
      "C+++++++++++++++++++\n",
      "D+++○+++++++++++++++\n",
      "E+++++++++++++++++++\n",
      "F+++++++++++++++++++\n",
      "G++++●++++++++++++++\n",
      "H+++++++++++++++++++\n",
      "I+++++++++++++++++++\n",
      "J++++++○++++++++++○+\n",
      "K++++++++++++++++○++\n",
      "L+++++++++++++++++++\n",
      "M+++++++++++++++++++\n",
      "N+++++++++++++++++++\n",
      "O++++++○++++++++++++\n",
      "Side to move: Left\n",
      "Moves made: 0\n",
      "Ball at: [6 4]\n",
      "\n",
      "0.2750602238719037\n"
     ]
    }
   ],
   "source": [
    "for (b,s) in random_board_pairs[-10:]:\n",
    "    b.pretty_print_details()\n",
    "    print(s)"
   ]
  },
  {
   "cell_type": "code",
   "execution_count": null,
   "id": "thousand-involvement",
   "metadata": {},
   "outputs": [],
   "source": []
  },
  {
   "cell_type": "code",
   "execution_count": 4,
   "id": "molecular-fabric",
   "metadata": {},
   "outputs": [],
   "source": [
    "import pickle\n",
    "random_board_pairs = []\n",
    "with open(\"2021-09-18-mcts-v3-boards13-random.pickle\", \"rb\") as f:\n",
    "    try:\n",
    "        while True:\n",
    "            random_board_pairs.append(pickle.load(f))\n",
    "    except EOFError:\n",
    "        pass"
   ]
  },
  {
   "cell_type": "code",
   "execution_count": 5,
   "id": "continuing-college",
   "metadata": {},
   "outputs": [
    {
     "data": {
      "text/plain": [
       "1361"
      ]
     },
     "execution_count": 5,
     "metadata": {},
     "output_type": "execute_result"
    }
   ],
   "source": [
    "len(random_board_pairs)"
   ]
  },
  {
   "cell_type": "code",
   "execution_count": 6,
   "id": "operational-consolidation",
   "metadata": {},
   "outputs": [
    {
     "name": "stdout",
     "output_type": "stream",
     "text": [
      "          1111111111\n",
      " 1234567890123456789\n",
      "A+○+○○++++++++++++++\n",
      "B+++++++++++++++++++\n",
      "C○+++++++++++++++++○\n",
      "D+○+++○+++++++++++++\n",
      "E++++++++++○++++++++\n",
      "F+++++++++○○++○+++++\n",
      "G++++++○++++++++++++\n",
      "H+++++○+++++++++++++\n",
      "I+++++++++++++++++++\n",
      "J++++○+++○++++++++++\n",
      "K+++++++○+++++++++++\n",
      "L+●+++++++++++++++○+\n",
      "M++++++++++++++○++++\n",
      "N+○+++++++++++++○+++\n",
      "O+++++++++++++++++++\n",
      "Side to move: Left\n",
      "Moves made: 0\n",
      "Ball at: [11  1]\n",
      "\n",
      "0.2248118407961911\n",
      "          1111111111\n",
      " 1234567890123456789\n",
      "A++++++++++++++++○++\n",
      "B+++++++++++++++++++\n",
      "C+++++++++++++++++++\n",
      "D+++++++++++++++++++\n",
      "E+++++○+++++++++++++\n",
      "F+++++++++++++++++++\n",
      "G+++++++++++++++++++\n",
      "H+++++++++++++++++++\n",
      "I++○++++++++++++++++\n",
      "J++○++++++++++++++++\n",
      "K+++++++++++++++++++\n",
      "L+++++++++++++○+++++\n",
      "M++++●++++++++++++++\n",
      "N+++++++++++++++++++\n",
      "O++++++++++++++○++++\n",
      "Side to move: Right\n",
      "Moves made: 0\n",
      "Ball at: [12  4]\n",
      "\n",
      "0.8385315777750703\n",
      "          1111111111\n",
      " 1234567890123456789\n",
      "A+++++++●++○++++++++\n",
      "B+++++++++++++++++++\n",
      "C+○++○+++++++++++++○\n",
      "D+++++++++++++++○+○+\n",
      "E++++++++++++++++++○\n",
      "F++++++++++++++++○++\n",
      "G+++++++++++++++++++\n",
      "H++++++++○++++++++++\n",
      "I+++++++++++++++++++\n",
      "J+○+++++++++++++++++\n",
      "K+++++++++++++++++++\n",
      "L+++++++++++++++++++\n",
      "M+++++++++++++○+++++\n",
      "N+++++++++++++++++++\n",
      "O+○○+++○++++++++++++\n",
      "Side to move: Left\n",
      "Moves made: 0\n",
      "Ball at: [0 7]\n",
      "\n",
      "0.44390164984847014\n",
      "          1111111111\n",
      " 1234567890123456789\n",
      "A+++++++++++++++++++\n",
      "B++○++++++++++++++++\n",
      "C+++++++++++++++++++\n",
      "D++++++++++++++++○++\n",
      "E+++○++++++○++++++++\n",
      "F+○+++++++++++++○+++\n",
      "G+++++++++++++++++++\n",
      "H+++++++++○++++○++++\n",
      "I++++○++○+++++++++++\n",
      "J○++++++++++++++++++\n",
      "K○+++++++++○○+++++++\n",
      "L+++○+++++++++++++++\n",
      "M++++++++●++++++++++\n",
      "N++○++○++○○+++++++++\n",
      "O+++++++++++○+++++++\n",
      "Side to move: Left\n",
      "Moves made: 0\n",
      "Ball at: [12  8]\n",
      "\n",
      "0.5429152430177809\n",
      "          1111111111\n",
      " 1234567890123456789\n",
      "A+++++++++++++++++++\n",
      "B+++++++++++++++++++\n",
      "C+++++++++++++++++++\n",
      "D+++++++++++++++++++\n",
      "E+++++++++++++++++++\n",
      "F+++++++++++++++++++\n",
      "G+++++++++++++++++++\n",
      "H+++++++++++++++++++\n",
      "I+++++++++++++++++++\n",
      "J+++++++++++++++++++\n",
      "K+++++++++++++++++++\n",
      "L+++++++++++++++++++\n",
      "M+++++++++++++++++++\n",
      "N++++++++++●++++++++\n",
      "O+++++++++++++++++++\n",
      "Side to move: Right\n",
      "Moves made: 0\n",
      "Ball at: [13 10]\n",
      "\n",
      "0.47571587455299075\n",
      "          1111111111\n",
      " 1234567890123456789\n",
      "A+++++++++++++++++++\n",
      "B+++++++++++++++++++\n",
      "C+++++++++++++++++++\n",
      "D++○+○+++++++●++++++\n",
      "E+++++++++++++++++++\n",
      "F+++++++++++++++++++\n",
      "G+++++++++++++++++++\n",
      "H+++++++++++++++++++\n",
      "I+++++++++++++++++++\n",
      "J+++++++++++++++++++\n",
      "K+++++++○+++++++++++\n",
      "L+++++++++++++++++++\n",
      "M+++++++++++++++++++\n",
      "N+++++++++++++++++++\n",
      "O+++++++++++++++++++\n",
      "Side to move: Right\n",
      "Moves made: 0\n",
      "Ball at: [ 3 12]\n",
      "\n",
      "0.4451442360877991\n",
      "          1111111111\n",
      " 1234567890123456789\n",
      "A+++++++++++++++++++\n",
      "B+++++++++++++++○++○\n",
      "C+++++++++++++++++++\n",
      "D+++++++++++++++++++\n",
      "E+++++++++++++++++++\n",
      "F+++++++++++++++++++\n",
      "G++++++++++○++++++++\n",
      "H+++++++++++++++++++\n",
      "I+++++++++++++++++++\n",
      "J+++++++++++++++++++\n",
      "K++++++++++++++++++○\n",
      "L++○+++++++++++○++++\n",
      "M+●+++++++++++++++++\n",
      "N++++++++++○+○++++++\n",
      "O+++++++++++++++++++\n",
      "Side to move: Right\n",
      "Moves made: 0\n",
      "Ball at: [12  1]\n",
      "\n",
      "0.9285598260428426\n",
      "          1111111111\n",
      " 1234567890123456789\n",
      "A++○+++++○+++++++○++\n",
      "B○+○+++++++++++○++++\n",
      "C+++++++++++++++++++\n",
      "D+++○+++++++++++++++\n",
      "E++++++○++++++++++++\n",
      "F○○+++○+++++++○+++++\n",
      "G○++++++++++++++++++\n",
      "H++++++++○++++++++++\n",
      "I++++++++++++++++++○\n",
      "J○+++++○+++++++○++++\n",
      "K+++++++++++++++++++\n",
      "L+++++++++++○++○+++○\n",
      "M++++++++++++++++●++\n",
      "N++○○+++++○○++++++++\n",
      "O++++++++++++++++○++\n",
      "Side to move: Right\n",
      "Moves made: 0\n",
      "Ball at: [12 16]\n",
      "\n",
      "0.339968001982745\n",
      "          1111111111\n",
      " 1234567890123456789\n",
      "A+++++++++++++++++++\n",
      "B+++++++++++++++++++\n",
      "C++++++●++++++++++++\n",
      "D+++++++++++++++++++\n",
      "E+++++++++++++++++++\n",
      "F+++++++++++++++++++\n",
      "G+++++++++++++++++++\n",
      "H+++++++++++++++++++\n",
      "I+++++++++++++++++++\n",
      "J+++++++++++++++++++\n",
      "K+++++++++++++++++++\n",
      "L+++++++++++++++++++\n",
      "M++++++++○++++++++++\n",
      "N+++++++++++++++++++\n",
      "O+++++++++++++++++++\n",
      "Side to move: Left\n",
      "Moves made: 0\n",
      "Ball at: [2 6]\n",
      "\n",
      "0.42810717674921145\n",
      "          1111111111\n",
      " 1234567890123456789\n",
      "A++++++++++++++++○++\n",
      "B++++++++●+++++++++○\n",
      "C+++++++++++++++++++\n",
      "D++++○++++○+○+++++++\n",
      "E+++++++○+++++++○+++\n",
      "F+++++○+++++++++++++\n",
      "G+++++++++++++○++○++\n",
      "H++++++++++++○++++++\n",
      "I++○++++++++++++++++\n",
      "J+++++++++++++++++++\n",
      "K+○+++++++++++++++++\n",
      "L○++++++++++○+++++++\n",
      "M+○++++○++++++++++++\n",
      "N+++++++++++++++++++\n",
      "O+++++++++++++++++++\n",
      "Side to move: Left\n",
      "Moves made: 0\n",
      "Ball at: [1 8]\n",
      "\n",
      "0.44810355079896524\n"
     ]
    }
   ],
   "source": [
    "for (b,s) in random_board_pairs[-10:]:\n",
    "    b.pretty_print_details()\n",
    "    print(s)"
   ]
  },
  {
   "cell_type": "code",
   "execution_count": 7,
   "id": "apparent-breast",
   "metadata": {},
   "outputs": [
    {
     "data": {
      "text/plain": [
       "1664"
      ]
     },
     "execution_count": 7,
     "metadata": {},
     "output_type": "execute_result"
    }
   ],
   "source": [
    "3025-1361"
   ]
  },
  {
   "cell_type": "code",
   "execution_count": 8,
   "id": "rough-surgeon",
   "metadata": {},
   "outputs": [
    {
     "data": {
      "text/plain": [
       "51.92307692307692"
      ]
     },
     "execution_count": 8,
     "metadata": {},
     "output_type": "execute_result"
    }
   ],
   "source": [
    "86400/1664"
   ]
  },
  {
   "cell_type": "markdown",
   "id": "exceptional-deficit",
   "metadata": {},
   "source": [
    "So 1664 boards a day, or one every 52 seconds. That's only 25% slower than my Mac\n",
    "\n"
   ]
  },
  {
   "cell_type": "code",
   "execution_count": 9,
   "id": "sophisticated-reliance",
   "metadata": {},
   "outputs": [
    {
     "data": {
      "text/plain": [
       "10.201322115384615"
      ]
     },
     "execution_count": 9,
     "metadata": {},
     "output_type": "execute_result"
    }
   ],
   "source": [
    "(20000-3025)/1664"
   ]
  },
  {
   "cell_type": "code",
   "execution_count": 5,
   "id": "classified-treaty",
   "metadata": {},
   "outputs": [],
   "source": [
    "import pickle\n",
    "random_board_pairs = []\n",
    "with open(\"2021-09-18-mcts-v3-boards13-random.pickle\", \"rb\") as f:\n",
    "    try:\n",
    "        while True:\n",
    "            random_board_pairs.append(pickle.load(f))\n",
    "    except EOFError:\n",
    "        pass"
   ]
  },
  {
   "cell_type": "code",
   "execution_count": 6,
   "id": "silent-server",
   "metadata": {},
   "outputs": [
    {
     "data": {
      "text/plain": [
       "9625"
      ]
     },
     "execution_count": 6,
     "metadata": {},
     "output_type": "execute_result"
    }
   ],
   "source": [
    "len(random_board_pairs)"
   ]
  },
  {
   "cell_type": "markdown",
   "id": "burning-tractor",
   "metadata": {},
   "source": [
    "So I expect it'll be done in about 10 more days. So check back on Oct 4 after 1500"
   ]
  },
  {
   "cell_type": "code",
   "execution_count": 1,
   "id": "efficient-tribute",
   "metadata": {},
   "outputs": [
    {
     "name": "stdout",
     "output_type": "stream",
     "text": [
      "INFO:tensorflow:Enabling eager execution\n",
      "INFO:tensorflow:Enabling v2 tensorshape\n",
      "INFO:tensorflow:Enabling resource variables\n",
      "INFO:tensorflow:Enabling tensor equality\n",
      "INFO:tensorflow:Enabling control flow v2\n"
     ]
    }
   ],
   "source": [
    "import pickle\n",
    "random_board_pairs = []\n",
    "with open(\"2021-09-18-mcts-v3-boards13-random.pickle\", \"rb\") as f:\n",
    "    try:\n",
    "        while True:\n",
    "            random_board_pairs.append(pickle.load(f))\n",
    "    except EOFError:\n",
    "        pass"
   ]
  },
  {
   "cell_type": "code",
   "execution_count": 2,
   "id": "front-timothy",
   "metadata": {},
   "outputs": [
    {
     "data": {
      "text/plain": [
       "10045"
      ]
     },
     "execution_count": 2,
     "metadata": {},
     "output_type": "execute_result"
    }
   ],
   "source": [
    "len(random_board_pairs)"
   ]
  },
  {
   "cell_type": "code",
   "execution_count": 1,
   "id": "unknown-assault",
   "metadata": {},
   "outputs": [
    {
     "name": "stdout",
     "output_type": "stream",
     "text": [
      "INFO:tensorflow:Enabling eager execution\n",
      "INFO:tensorflow:Enabling v2 tensorshape\n",
      "INFO:tensorflow:Enabling resource variables\n",
      "INFO:tensorflow:Enabling tensor equality\n",
      "INFO:tensorflow:Enabling control flow v2\n"
     ]
    }
   ],
   "source": [
    "import pickle\n",
    "random_board_pairs = []\n",
    "with open(\"2021-09-18-mcts-v3-boards13-random.pickle\", \"rb\") as f:\n",
    "    try:\n",
    "        while True:\n",
    "            random_board_pairs.append(pickle.load(f))\n",
    "    except EOFError:\n",
    "        pass"
   ]
  },
  {
   "cell_type": "code",
   "execution_count": 2,
   "id": "negative-midnight",
   "metadata": {},
   "outputs": [
    {
     "data": {
      "text/plain": [
       "11795"
      ]
     },
     "execution_count": 2,
     "metadata": {},
     "output_type": "execute_result"
    }
   ],
   "source": [
    "len(random_board_pairs)"
   ]
  },
  {
   "cell_type": "code",
   "execution_count": 1,
   "id": "specialized-growing",
   "metadata": {},
   "outputs": [
    {
     "name": "stdout",
     "output_type": "stream",
     "text": [
      "INFO:tensorflow:Enabling eager execution\n",
      "INFO:tensorflow:Enabling v2 tensorshape\n",
      "INFO:tensorflow:Enabling resource variables\n",
      "INFO:tensorflow:Enabling tensor equality\n",
      "INFO:tensorflow:Enabling control flow v2\n"
     ]
    }
   ],
   "source": [
    "import pickle\n",
    "random_board_pairs = []\n",
    "with open(\"2021-09-18-mcts-v3-boards13-random.pickle\", \"rb\") as f:\n",
    "    try:\n",
    "        while True:\n",
    "            random_board_pairs.append(pickle.load(f))\n",
    "    except EOFError:\n",
    "        pass"
   ]
  },
  {
   "cell_type": "code",
   "execution_count": 2,
   "id": "korean-musical",
   "metadata": {},
   "outputs": [
    {
     "data": {
      "text/plain": [
       "14452"
      ]
     },
     "execution_count": 2,
     "metadata": {},
     "output_type": "execute_result"
    }
   ],
   "source": [
    "len(random_board_pairs)"
   ]
  },
  {
   "cell_type": "code",
   "execution_count": 1,
   "id": "embedded-substitute",
   "metadata": {},
   "outputs": [
    {
     "name": "stdout",
     "output_type": "stream",
     "text": [
      "INFO:tensorflow:Enabling eager execution\n",
      "INFO:tensorflow:Enabling v2 tensorshape\n",
      "INFO:tensorflow:Enabling resource variables\n",
      "INFO:tensorflow:Enabling tensor equality\n",
      "INFO:tensorflow:Enabling control flow v2\n"
     ]
    }
   ],
   "source": [
    "import pickle\n",
    "random_board_pairs = []\n",
    "with open(\"2021-09-18-mcts-v3-boards13-random.pickle\", \"rb\") as f:\n",
    "    try:\n",
    "        while True:\n",
    "            random_board_pairs.append(pickle.load(f))\n",
    "    except EOFError:\n",
    "        pass"
   ]
  },
  {
   "cell_type": "code",
   "execution_count": 2,
   "id": "sustained-victorian",
   "metadata": {},
   "outputs": [
    {
     "data": {
      "text/plain": [
       "16746"
      ]
     },
     "execution_count": 2,
     "metadata": {},
     "output_type": "execute_result"
    }
   ],
   "source": [
    "len(random_board_pairs)"
   ]
  },
  {
   "cell_type": "code",
   "execution_count": 1,
   "id": "mineral-castle",
   "metadata": {},
   "outputs": [
    {
     "name": "stdout",
     "output_type": "stream",
     "text": [
      "INFO:tensorflow:Enabling eager execution\n",
      "INFO:tensorflow:Enabling v2 tensorshape\n",
      "INFO:tensorflow:Enabling resource variables\n",
      "INFO:tensorflow:Enabling tensor equality\n",
      "INFO:tensorflow:Enabling control flow v2\n"
     ]
    }
   ],
   "source": [
    "import pickle\n",
    "random_board_pairs = []\n",
    "with open(\"2021-09-18-mcts-v3-boards13-random.pickle\", \"rb\") as f:\n",
    "    try:\n",
    "        while True:\n",
    "            random_board_pairs.append(pickle.load(f))\n",
    "    except EOFError:\n",
    "        pass"
   ]
  },
  {
   "cell_type": "code",
   "execution_count": 2,
   "id": "sorted-mattress",
   "metadata": {},
   "outputs": [
    {
     "data": {
      "text/plain": [
       "16756"
      ]
     },
     "execution_count": 2,
     "metadata": {},
     "output_type": "execute_result"
    }
   ],
   "source": [
    "len(random_board_pairs)"
   ]
  },
  {
   "cell_type": "code",
   "execution_count": 1,
   "id": "outer-arlington",
   "metadata": {},
   "outputs": [
    {
     "name": "stdout",
     "output_type": "stream",
     "text": [
      "INFO:tensorflow:Enabling eager execution\n",
      "INFO:tensorflow:Enabling v2 tensorshape\n",
      "INFO:tensorflow:Enabling resource variables\n",
      "INFO:tensorflow:Enabling tensor equality\n",
      "INFO:tensorflow:Enabling control flow v2\n"
     ]
    }
   ],
   "source": [
    "import pickle\n",
    "random_board_pairs = []\n",
    "with open(\"2021-09-18-mcts-v3-boards13-random.pickle\", \"rb\") as f:\n",
    "    try:\n",
    "        while True:\n",
    "            random_board_pairs.append(pickle.load(f))\n",
    "    except EOFError:\n",
    "        pass"
   ]
  },
  {
   "cell_type": "code",
   "execution_count": 2,
   "id": "transparent-arrow",
   "metadata": {},
   "outputs": [
    {
     "data": {
      "text/plain": [
       "17661"
      ]
     },
     "execution_count": 2,
     "metadata": {},
     "output_type": "execute_result"
    }
   ],
   "source": [
    "len(random_board_pairs)"
   ]
  },
  {
   "cell_type": "code",
   "execution_count": 3,
   "id": "matched-newman",
   "metadata": {},
   "outputs": [],
   "source": [
    "import pickle\n",
    "random_board_pairs = []\n",
    "with open(\"2021-09-18-mcts-v3-boards13-random.pickle\", \"rb\") as f:\n",
    "    try:\n",
    "        while True:\n",
    "            random_board_pairs.append(pickle.load(f))\n",
    "    except EOFError:\n",
    "        pass"
   ]
  },
  {
   "cell_type": "code",
   "execution_count": 4,
   "id": "celtic-platform",
   "metadata": {
    "scrolled": true
   },
   "outputs": [
    {
     "data": {
      "text/plain": [
       "19277"
      ]
     },
     "execution_count": 4,
     "metadata": {},
     "output_type": "execute_result"
    }
   ],
   "source": [
    "len(random_board_pairs)"
   ]
  },
  {
   "cell_type": "code",
   "execution_count": 5,
   "id": "secure-perception",
   "metadata": {},
   "outputs": [],
   "source": [
    "import pickle\n",
    "random_board_pairs = []\n",
    "with open(\"2021-09-18-mcts-v3-boards13-random.pickle\", \"rb\") as f:\n",
    "    try:\n",
    "        while True:\n",
    "            random_board_pairs.append(pickle.load(f))\n",
    "    except EOFError:\n",
    "        pass"
   ]
  },
  {
   "cell_type": "code",
   "execution_count": 6,
   "id": "noble-springfield",
   "metadata": {
    "scrolled": true
   },
   "outputs": [
    {
     "data": {
      "text/plain": [
       "20155"
      ]
     },
     "execution_count": 6,
     "metadata": {},
     "output_type": "execute_result"
    }
   ],
   "source": [
    "len(random_board_pairs)"
   ]
  },
  {
   "cell_type": "code",
   "execution_count": 7,
   "id": "stone-event",
   "metadata": {},
   "outputs": [],
   "source": [
    "import pickle\n",
    "random_board_pairs = []\n",
    "with open(\"2021-09-18-mcts-v3-boards13-random.pickle\", \"rb\") as f:\n",
    "    try:\n",
    "        while True:\n",
    "            random_board_pairs.append(pickle.load(f))\n",
    "    except EOFError:\n",
    "        pass"
   ]
  },
  {
   "cell_type": "code",
   "execution_count": 8,
   "id": "powerful-ecology",
   "metadata": {
    "scrolled": true
   },
   "outputs": [
    {
     "data": {
      "text/plain": [
       "20156"
      ]
     },
     "execution_count": 8,
     "metadata": {},
     "output_type": "execute_result"
    }
   ],
   "source": [
    "len(random_board_pairs)"
   ]
  },
  {
   "cell_type": "code",
   "execution_count": null,
   "id": "armed-skating",
   "metadata": {},
   "outputs": [],
   "source": []
  }
 ],
 "metadata": {
  "kernelspec": {
   "display_name": "Python 3",
   "language": "python",
   "name": "python3"
  },
  "language_info": {
   "codemirror_mode": {
    "name": "ipython",
    "version": 3
   },
   "file_extension": ".py",
   "mimetype": "text/x-python",
   "name": "python",
   "nbconvert_exporter": "python",
   "pygments_lexer": "ipython3",
   "version": "3.9.2"
  }
 },
 "nbformat": 4,
 "nbformat_minor": 5
}
