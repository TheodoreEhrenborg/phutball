{
 "cells": [
  {
   "cell_type": "code",
   "execution_count": 1,
   "id": "promising-falls",
   "metadata": {},
   "outputs": [],
   "source": [
    "import numpy"
   ]
  },
  {
   "cell_type": "code",
   "execution_count": 2,
   "id": "direct-practice",
   "metadata": {},
   "outputs": [
    {
     "name": "stdout",
     "output_type": "stream",
     "text": [
      "INFO:tensorflow:Enabling eager execution\n",
      "INFO:tensorflow:Enabling v2 tensorshape\n",
      "INFO:tensorflow:Enabling resource variables\n",
      "INFO:tensorflow:Enabling tensor equality\n",
      "INFO:tensorflow:Enabling control flow v2\n"
     ]
    }
   ],
   "source": [
    "import tensorflow"
   ]
  },
  {
   "cell_type": "code",
   "execution_count": 3,
   "id": "humanitarian-factor",
   "metadata": {},
   "outputs": [],
   "source": [
    "import main, pickle"
   ]
  },
  {
   "cell_type": "code",
   "execution_count": 6,
   "id": "located-burlington",
   "metadata": {},
   "outputs": [],
   "source": [
    "random_board_pairs = []\n",
    "with open(\"2021-09-18-mcts-v3-boards13-random.pickle\", \"rb\") as f:\n",
    "    try:\n",
    "        while True:\n",
    "            random_board_pairs.append(pickle.load(f))\n",
    "    except EOFError:\n",
    "        pass"
   ]
  },
  {
   "cell_type": "code",
   "execution_count": 7,
   "id": "different-tuesday",
   "metadata": {},
   "outputs": [
    {
     "data": {
      "text/plain": [
       "20156"
      ]
     },
     "execution_count": 7,
     "metadata": {},
     "output_type": "execute_result"
    }
   ],
   "source": [
    "len(random_board_pairs)"
   ]
  },
  {
   "cell_type": "code",
   "execution_count": 4,
   "id": "criminal-nevada",
   "metadata": {},
   "outputs": [],
   "source": [
    "game_board_pairs = []\n",
    "with open(\"2021-10-12-mcts-v3-boards14-games.pickle\", \"rb\") as f:\n",
    "    try:\n",
    "        while True:\n",
    "            game_board_pairs.append(pickle.load(f))\n",
    "    except EOFError:\n",
    "        pass"
   ]
  },
  {
   "cell_type": "code",
   "execution_count": 5,
   "id": "incident-import",
   "metadata": {},
   "outputs": [
    {
     "data": {
      "text/plain": [
       "21652"
      ]
     },
     "execution_count": 5,
     "metadata": {},
     "output_type": "execute_result"
    }
   ],
   "source": [
    "len(game_board_pairs)"
   ]
  },
  {
   "cell_type": "code",
   "execution_count": 8,
   "id": "authentic-entrance",
   "metadata": {},
   "outputs": [],
   "source": [
    "random_inputs = []\n",
    "random_outputs = []\n",
    "for p in random_board_pairs:\n",
    "    random_inputs.append(p[0].get_flipped_3d_array())\n",
    "    random_outputs.append(float(p[1]))"
   ]
  },
  {
   "cell_type": "code",
   "execution_count": 9,
   "id": "trained-wellington",
   "metadata": {},
   "outputs": [],
   "source": [
    "game_inputs = []\n",
    "game_outputs = []\n",
    "for p in game_board_pairs:\n",
    "    game_inputs.append(p[0].get_flipped_3d_array())\n",
    "    game_outputs.append(float(p[1]))"
   ]
  },
  {
   "cell_type": "code",
   "execution_count": 10,
   "id": "documented-republican",
   "metadata": {},
   "outputs": [],
   "source": [
    "import numpy as np"
   ]
  },
  {
   "cell_type": "code",
   "execution_count": 11,
   "id": "announced-humanitarian",
   "metadata": {},
   "outputs": [],
   "source": [
    "game_inputs = np.array(game_inputs)\n",
    "random_inputs = np.array(random_inputs)\n",
    "game_outputs = np.array(game_outputs)\n",
    "random_outputs = np.array(random_outputs)"
   ]
  },
  {
   "cell_type": "code",
   "execution_count": 12,
   "id": "facial-carbon",
   "metadata": {},
   "outputs": [],
   "source": [
    "random_mark = int(len(random_outputs)*0.8)"
   ]
  },
  {
   "cell_type": "code",
   "execution_count": 13,
   "id": "adjustable-variance",
   "metadata": {},
   "outputs": [],
   "source": [
    "game_mark = int(len(game_outputs)*0.8)"
   ]
  },
  {
   "cell_type": "code",
   "execution_count": 14,
   "id": "union-boring",
   "metadata": {},
   "outputs": [
    {
     "name": "stdout",
     "output_type": "stream",
     "text": [
      "16124 17321\n"
     ]
    }
   ],
   "source": [
    "print(random_mark, game_mark)"
   ]
  },
  {
   "cell_type": "code",
   "execution_count": 15,
   "id": "fifteen-clerk",
   "metadata": {},
   "outputs": [],
   "source": [
    "train_inputs = np.concatenate((random_inputs[0:random_mark] , game_inputs[0:game_mark] \n",
    "                               , random_inputs[random_mark:] ,  game_inputs[game_mark:])) "
   ]
  },
  {
   "cell_type": "code",
   "execution_count": 16,
   "id": "toxic-street",
   "metadata": {},
   "outputs": [],
   "source": [
    "train_outputs = np.concatenate(( random_outputs[0:random_mark],\n",
    "                                 game_outputs[0:game_mark],\n",
    "                                random_outputs[random_mark:] ,\n",
    "                                game_outputs[game_mark:] ))"
   ]
  },
  {
   "cell_type": "code",
   "execution_count": 17,
   "id": "demanding-representation",
   "metadata": {},
   "outputs": [],
   "source": [
    "from tensorflow import keras\n",
    "from tensorflow.keras import layers\n",
    "import tensorflow as tf"
   ]
  },
  {
   "cell_type": "code",
   "execution_count": 18,
   "id": "difficult-middle",
   "metadata": {},
   "outputs": [],
   "source": [
    "model2 = keras.Sequential()\n",
    "model2.add(layers.Conv2D(32, (3, 3), activation='relu', input_shape=(19, 15, 2)))\n",
    "model2.add(layers.Conv2D(64, (3, 3), activation='relu'))"
   ]
  },
  {
   "cell_type": "code",
   "execution_count": 19,
   "id": "architectural-stretch",
   "metadata": {},
   "outputs": [],
   "source": [
    "model2.add(layers.Flatten())\n",
    "model2.add(layers.Dense(256, activation='relu'))\n",
    "model2.add(layers.Dense(1, activation='relu'))"
   ]
  },
  {
   "cell_type": "code",
   "execution_count": 20,
   "id": "efficient-freeware",
   "metadata": {},
   "outputs": [],
   "source": [
    "model2.compile(loss='mean_absolute_error',optimizer=tf.keras.optimizers.Adam(0.001))"
   ]
  },
  {
   "cell_type": "code",
   "execution_count": 21,
   "id": "authorized-procurement",
   "metadata": {},
   "outputs": [
    {
     "name": "stdout",
     "output_type": "stream",
     "text": [
      "Model: \"sequential\"\n",
      "_________________________________________________________________\n",
      "Layer (type)                 Output Shape              Param #   \n",
      "=================================================================\n",
      "conv2d (Conv2D)              (None, 17, 13, 32)        608       \n",
      "_________________________________________________________________\n",
      "conv2d_1 (Conv2D)            (None, 15, 11, 64)        18496     \n",
      "_________________________________________________________________\n",
      "flatten (Flatten)            (None, 10560)             0         \n",
      "_________________________________________________________________\n",
      "dense (Dense)                (None, 256)               2703616   \n",
      "_________________________________________________________________\n",
      "dense_1 (Dense)              (None, 1)                 257       \n",
      "=================================================================\n",
      "Total params: 2,722,977\n",
      "Trainable params: 2,722,977\n",
      "Non-trainable params: 0\n",
      "_________________________________________________________________\n"
     ]
    }
   ],
   "source": [
    "model2.summary()"
   ]
  },
  {
   "cell_type": "code",
   "execution_count": 22,
   "id": "remarkable-lodging",
   "metadata": {},
   "outputs": [
    {
     "name": "stdout",
     "output_type": "stream",
     "text": [
      "Epoch 1/10\n",
      "1046/1046 [==============================] - 25s 23ms/step - loss: 0.1010 - val_loss: 0.0582\n",
      "Epoch 2/10\n",
      "1046/1046 [==============================] - 23s 22ms/step - loss: 0.0552 - val_loss: 0.0536\n",
      "Epoch 3/10\n",
      "1046/1046 [==============================] - 23s 22ms/step - loss: 0.0505 - val_loss: 0.0580\n",
      "Epoch 4/10\n",
      "1046/1046 [==============================] - 23s 22ms/step - loss: 0.0477 - val_loss: 0.0495\n",
      "Epoch 5/10\n",
      "1046/1046 [==============================] - 23s 22ms/step - loss: 0.0452 - val_loss: 0.0488\n",
      "Epoch 6/10\n",
      "1046/1046 [==============================] - 23s 22ms/step - loss: 0.0429 - val_loss: 0.0498\n",
      "Epoch 7/10\n",
      "1046/1046 [==============================] - 25s 24ms/step - loss: 0.0406 - val_loss: 0.0517\n",
      "Epoch 8/10\n",
      "1046/1046 [==============================] - 29s 28ms/step - loss: 0.0387 - val_loss: 0.0504\n",
      "Epoch 9/10\n",
      "1046/1046 [==============================] - 31s 29ms/step - loss: 0.0370 - val_loss: 0.0484\n",
      "Epoch 10/10\n",
      "1046/1046 [==============================] - 30s 28ms/step - loss: 0.0350 - val_loss: 0.0495\n"
     ]
    },
    {
     "data": {
      "text/plain": [
       "<tensorflow.python.keras.callbacks.History at 0x18a177520>"
      ]
     },
     "execution_count": 22,
     "metadata": {},
     "output_type": "execute_result"
    }
   ],
   "source": [
    "model2.fit(train_inputs, train_outputs, epochs=10, validation_split = 0.2)"
   ]
  },
  {
   "cell_type": "markdown",
   "id": "powered-equilibrium",
   "metadata": {},
   "source": [
    "When training v3 (which did better than v2), CV loss was about 0.029-30. \n",
    "\n",
    "When training v4 (which wasn't an improvement and in fact might have done worse than v3), CV loss was about 0.028-29\n",
    "\n",
    "When training v5 (which didn't do better than neural net v3), CV loss was about 0.048\n",
    "                                                                                 \n",
    "Now v7's CV loss has plateaued at 0.049. Hmm. Maybe that's just a reflection of the fact that v5 and v7's data came from MCTS? I hope the data isn't messy\n",
    "\n",
    "MCTS5 was supposed to generate less messy data, but I nixed that because it lost to MCTS3\n",
    "\n",
    "(Note: I trained options for a v6, but never saved one bc the CV lossses didn't look better than for v5, and it was the same data anyway)"
   ]
  },
  {
   "cell_type": "code",
   "execution_count": 23,
   "id": "expanded-wiring",
   "metadata": {},
   "outputs": [
    {
     "name": "stdout",
     "output_type": "stream",
     "text": [
      "INFO:tensorflow:Assets written to: saved_model/2021-10-26-v7-model/assets\n"
     ]
    }
   ],
   "source": [
    "model2.save('saved_model/2021-10-26-v7-model')"
   ]
  },
  {
   "cell_type": "code",
   "execution_count": null,
   "id": "invalid-optics",
   "metadata": {},
   "outputs": [],
   "source": []
  },
  {
   "cell_type": "code",
   "execution_count": null,
   "id": "utility-islam",
   "metadata": {},
   "outputs": [],
   "source": []
  },
  {
   "cell_type": "code",
   "execution_count": null,
   "id": "desperate-equilibrium",
   "metadata": {},
   "outputs": [],
   "source": []
  },
  {
   "cell_type": "markdown",
   "id": "reserved-zimbabwe",
   "metadata": {},
   "source": [
    "Maybe I need pooling?? Or an extra Conv2d layer? "
   ]
  },
  {
   "cell_type": "markdown",
   "id": "virtual-economy",
   "metadata": {},
   "source": [
    "Model3 has an extra conv2d layer"
   ]
  },
  {
   "cell_type": "code",
   "execution_count": 16,
   "id": "psychological-viking",
   "metadata": {},
   "outputs": [],
   "source": [
    "model3 = keras.Sequential()\n",
    "model3.add(layers.Conv2D(32, (3, 3), activation='relu', input_shape=(19, 15, 2)))\n",
    "model3.add(layers.Conv2D(64, (3, 3), activation='relu'))\n",
    "model3.add(layers.Conv2D(64, (3, 3), activation='relu'))"
   ]
  },
  {
   "cell_type": "code",
   "execution_count": 17,
   "id": "monthly-reward",
   "metadata": {},
   "outputs": [],
   "source": [
    "model3.add(layers.Flatten())\n",
    "model3.add(layers.Dense(256, activation='relu'))\n",
    "model3.add(layers.Dense(1, activation='relu'))"
   ]
  },
  {
   "cell_type": "code",
   "execution_count": 19,
   "id": "boolean-contemporary",
   "metadata": {
    "scrolled": true
   },
   "outputs": [
    {
     "name": "stdout",
     "output_type": "stream",
     "text": [
      "Model: \"sequential\"\n",
      "_________________________________________________________________\n",
      "Layer (type)                 Output Shape              Param #   \n",
      "=================================================================\n",
      "conv2d (Conv2D)              (None, 17, 13, 32)        608       \n",
      "_________________________________________________________________\n",
      "conv2d_1 (Conv2D)            (None, 15, 11, 64)        18496     \n",
      "_________________________________________________________________\n",
      "conv2d_2 (Conv2D)            (None, 13, 9, 64)         36928     \n",
      "_________________________________________________________________\n",
      "flatten (Flatten)            (None, 7488)              0         \n",
      "_________________________________________________________________\n",
      "dense (Dense)                (None, 256)               1917184   \n",
      "_________________________________________________________________\n",
      "dense_1 (Dense)              (None, 1)                 257       \n",
      "=================================================================\n",
      "Total params: 1,973,473\n",
      "Trainable params: 1,973,473\n",
      "Non-trainable params: 0\n",
      "_________________________________________________________________\n"
     ]
    }
   ],
   "source": [
    "model3.summary()"
   ]
  },
  {
   "cell_type": "markdown",
   "id": "technical-adrian",
   "metadata": {},
   "source": [
    "I have fewer parameters? Because the last conv layer made the array narrower than it was tall, so I didn't need as much dense?"
   ]
  },
  {
   "cell_type": "code",
   "execution_count": 21,
   "id": "detected-meditation",
   "metadata": {},
   "outputs": [],
   "source": [
    "model3.compile(loss='mean_absolute_error',optimizer=tf.keras.optimizers.Adam(0.001))"
   ]
  },
  {
   "cell_type": "code",
   "execution_count": 21,
   "id": "previous-problem",
   "metadata": {},
   "outputs": [
    {
     "name": "stdout",
     "output_type": "stream",
     "text": [
      "Epoch 1/10\n",
      "1136/1136 [==============================] - 23s 20ms/step - loss: 0.1007 - val_loss: 0.0646\n",
      "Epoch 2/10\n",
      "1136/1136 [==============================] - 23s 20ms/step - loss: 0.0521 - val_loss: 0.0523\n",
      "Epoch 3/10\n",
      "1136/1136 [==============================] - 23s 20ms/step - loss: 0.0477 - val_loss: 0.0491\n",
      "Epoch 4/10\n",
      "1136/1136 [==============================] - 23s 20ms/step - loss: 0.0441 - val_loss: 0.0503\n",
      "Epoch 5/10\n",
      "1136/1136 [==============================] - 23s 20ms/step - loss: 0.0418 - val_loss: 0.0490\n",
      "Epoch 6/10\n",
      "1136/1136 [==============================] - 23s 20ms/step - loss: 0.0392 - val_loss: 0.0468\n",
      "Epoch 7/10\n",
      "1136/1136 [==============================] - 23s 20ms/step - loss: 0.0372 - val_loss: 0.0497\n",
      "Epoch 8/10\n",
      "1136/1136 [==============================] - 23s 20ms/step - loss: 0.0350 - val_loss: 0.0485\n",
      "Epoch 9/10\n",
      "1136/1136 [==============================] - 23s 20ms/step - loss: 0.0327 - val_loss: 0.0459\n",
      "Epoch 10/10\n",
      "1136/1136 [==============================] - 23s 20ms/step - loss: 0.0310 - val_loss: 0.0473\n"
     ]
    },
    {
     "data": {
      "text/plain": [
       "<tensorflow.python.keras.callbacks.History at 0x18d72ab80>"
      ]
     },
     "execution_count": 21,
     "metadata": {},
     "output_type": "execute_result"
    }
   ],
   "source": [
    "model2.fit(train_inputs, train_outputs, epochs=10, validation_split = 0.2)"
   ]
  },
  {
   "cell_type": "markdown",
   "id": "blind-journalism",
   "metadata": {},
   "source": [
    "When training v4 (and the others, I think), the CV loss would be about 0.029. Now, when training v5, it's about 0.047. That's 62% higher. \n",
    "\n",
    "Maybe that's a good sign—the data is more complicated and matches the real world better, so the neural net has to struggle to learn it.\n",
    "\n",
    "Maybe that's a bad sign—the data has a lot of random noise, so the net has to struggle to learn it"
   ]
  },
  {
   "cell_type": "markdown",
   "id": "static-firmware",
   "metadata": {},
   "source": [
    "Aiming for below 0.047 CV loss"
   ]
  },
  {
   "cell_type": "code",
   "execution_count": 23,
   "id": "wooden-copper",
   "metadata": {
    "scrolled": true
   },
   "outputs": [
    {
     "name": "stdout",
     "output_type": "stream",
     "text": [
      "Epoch 1/10\n",
      "1136/1136 [==============================] - 35s 30ms/step - loss: 0.1009 - val_loss: 0.0562\n",
      "Epoch 2/10\n",
      "1136/1136 [==============================] - 34s 30ms/step - loss: 0.0521 - val_loss: 0.0528\n",
      "Epoch 3/10\n",
      "1136/1136 [==============================] - 35s 31ms/step - loss: 0.0462 - val_loss: 0.0440\n",
      "Epoch 4/10\n",
      "1136/1136 [==============================] - 52s 46ms/step - loss: 0.0425 - val_loss: 0.0439\n",
      "Epoch 5/10\n",
      "1136/1136 [==============================] - 40s 35ms/step - loss: 0.0404 - val_loss: 0.0431\n",
      "Epoch 6/10\n",
      "1136/1136 [==============================] - 42s 37ms/step - loss: 0.0386 - val_loss: 0.0435\n",
      "Epoch 7/10\n",
      "1136/1136 [==============================] - 43s 38ms/step - loss: 0.0367 - val_loss: 0.0440\n",
      "Epoch 8/10\n",
      "1136/1136 [==============================] - 45s 40ms/step - loss: 0.0354 - val_loss: 0.0401\n",
      "Epoch 9/10\n",
      "1136/1136 [==============================] - 45s 39ms/step - loss: 0.0342 - val_loss: 0.0407\n",
      "Epoch 10/10\n",
      "1136/1136 [==============================] - 46s 40ms/step - loss: 0.0330 - val_loss: 0.0411\n"
     ]
    },
    {
     "data": {
      "text/plain": [
       "<tensorflow.python.keras.callbacks.History at 0x184c8ce50>"
      ]
     },
     "execution_count": 23,
     "metadata": {},
     "output_type": "execute_result"
    }
   ],
   "source": [
    "model3.fit(train_inputs, train_outputs, epochs=10, validation_split = 0.2)"
   ]
  },
  {
   "cell_type": "markdown",
   "id": "biblical-hearts",
   "metadata": {},
   "source": [
    "Hmm, so CV loss is 0.041. 41e-2 is better than 47e-2, but I want to aim for 29e-2\n",
    "\n",
    "Let's add pooling between the Conv2Ds, like this: https://www.tensorflow.org/tutorials/images/cnn"
   ]
  },
  {
   "cell_type": "code",
   "execution_count": 27,
   "id": "superb-danger",
   "metadata": {},
   "outputs": [],
   "source": [
    "model4 = keras.Sequential()\n",
    "model4.add(layers.Conv2D(32, (3, 3), activation='relu', input_shape=(19, 15, 2)))\n",
    "model4.add(layers.MaxPooling2D((2, 2)))\n",
    "model4.add(layers.Conv2D(64, (3, 3), activation='relu'))\n",
    "model4.add(layers.Conv2D(64, (3, 3), activation='relu'))\n"
   ]
  },
  {
   "cell_type": "code",
   "execution_count": 28,
   "id": "swedish-australian",
   "metadata": {
    "scrolled": true
   },
   "outputs": [
    {
     "name": "stdout",
     "output_type": "stream",
     "text": [
      "Model: \"sequential_3\"\n",
      "_________________________________________________________________\n",
      "Layer (type)                 Output Shape              Param #   \n",
      "=================================================================\n",
      "conv2d_8 (Conv2D)            (None, 17, 13, 32)        608       \n",
      "_________________________________________________________________\n",
      "max_pooling2d_4 (MaxPooling2 (None, 8, 6, 32)          0         \n",
      "_________________________________________________________________\n",
      "conv2d_9 (Conv2D)            (None, 6, 4, 64)          18496     \n",
      "_________________________________________________________________\n",
      "conv2d_10 (Conv2D)           (None, 4, 2, 64)          36928     \n",
      "=================================================================\n",
      "Total params: 56,032\n",
      "Trainable params: 56,032\n",
      "Non-trainable params: 0\n",
      "_________________________________________________________________\n"
     ]
    }
   ],
   "source": [
    "model4.summary()"
   ]
  },
  {
   "cell_type": "code",
   "execution_count": 29,
   "id": "impaired-mobility",
   "metadata": {},
   "outputs": [],
   "source": [
    "model4.add(layers.Flatten())\n",
    "model4.add(layers.Dense(256, activation='relu'))\n",
    "model4.add(layers.Dense(1, activation='relu'))"
   ]
  },
  {
   "cell_type": "code",
   "execution_count": 30,
   "id": "informed-ranch",
   "metadata": {},
   "outputs": [
    {
     "name": "stdout",
     "output_type": "stream",
     "text": [
      "Model: \"sequential_3\"\n",
      "_________________________________________________________________\n",
      "Layer (type)                 Output Shape              Param #   \n",
      "=================================================================\n",
      "conv2d_8 (Conv2D)            (None, 17, 13, 32)        608       \n",
      "_________________________________________________________________\n",
      "max_pooling2d_4 (MaxPooling2 (None, 8, 6, 32)          0         \n",
      "_________________________________________________________________\n",
      "conv2d_9 (Conv2D)            (None, 6, 4, 64)          18496     \n",
      "_________________________________________________________________\n",
      "conv2d_10 (Conv2D)           (None, 4, 2, 64)          36928     \n",
      "_________________________________________________________________\n",
      "flatten_1 (Flatten)          (None, 512)               0         \n",
      "_________________________________________________________________\n",
      "dense_2 (Dense)              (None, 256)               131328    \n",
      "_________________________________________________________________\n",
      "dense_3 (Dense)              (None, 1)                 257       \n",
      "=================================================================\n",
      "Total params: 187,617\n",
      "Trainable params: 187,617\n",
      "Non-trainable params: 0\n",
      "_________________________________________________________________\n"
     ]
    }
   ],
   "source": [
    "model4.summary()"
   ]
  },
  {
   "cell_type": "markdown",
   "id": "featured-carroll",
   "metadata": {},
   "source": [
    "Pooling makes the model smaller"
   ]
  },
  {
   "cell_type": "code",
   "execution_count": 32,
   "id": "constitutional-sequence",
   "metadata": {},
   "outputs": [],
   "source": [
    "model4.compile(loss='mean_absolute_error',optimizer=tf.keras.optimizers.Adam(0.001))"
   ]
  },
  {
   "cell_type": "code",
   "execution_count": 33,
   "id": "speaking-drink",
   "metadata": {
    "scrolled": true
   },
   "outputs": [
    {
     "name": "stdout",
     "output_type": "stream",
     "text": [
      "Epoch 1/10\n",
      "1136/1136 [==============================] - 7s 6ms/step - loss: 0.1170 - val_loss: 0.0633\n",
      "Epoch 2/10\n",
      "1136/1136 [==============================] - 6s 6ms/step - loss: 0.0611 - val_loss: 0.0595\n",
      "Epoch 3/10\n",
      "1136/1136 [==============================] - 6s 6ms/step - loss: 0.0556 - val_loss: 0.0546\n",
      "Epoch 4/10\n",
      "1136/1136 [==============================] - 6s 6ms/step - loss: 0.0526 - val_loss: 0.0585\n",
      "Epoch 5/10\n",
      "1136/1136 [==============================] - 6s 6ms/step - loss: 0.0511 - val_loss: 0.0542\n",
      "Epoch 6/10\n",
      "1136/1136 [==============================] - 6s 6ms/step - loss: 0.0488 - val_loss: 0.0545\n",
      "Epoch 7/10\n",
      "1136/1136 [==============================] - 7s 6ms/step - loss: 0.0477 - val_loss: 0.0529\n",
      "Epoch 8/10\n",
      "1136/1136 [==============================] - 6s 6ms/step - loss: 0.0462 - val_loss: 0.0522\n",
      "Epoch 9/10\n",
      "1136/1136 [==============================] - 6s 6ms/step - loss: 0.0439 - val_loss: 0.0521\n",
      "Epoch 10/10\n",
      "1136/1136 [==============================] - 6s 6ms/step - loss: 0.0437 - val_loss: 0.0538\n"
     ]
    },
    {
     "data": {
      "text/plain": [
       "<tensorflow.python.keras.callbacks.History at 0x18736aa00>"
      ]
     },
     "execution_count": 33,
     "metadata": {},
     "output_type": "execute_result"
    }
   ],
   "source": [
    "model4.fit(train_inputs, train_outputs, epochs=10, validation_split = 0.2)"
   ]
  },
  {
   "cell_type": "code",
   "execution_count": 34,
   "id": "asian-sweden",
   "metadata": {
    "scrolled": false
   },
   "outputs": [
    {
     "name": "stdout",
     "output_type": "stream",
     "text": [
      "Epoch 1/10\n",
      "1136/1136 [==============================] - 7s 6ms/step - loss: 0.0423 - val_loss: 0.0545\n",
      "Epoch 2/10\n",
      "1136/1136 [==============================] - 7s 6ms/step - loss: 0.0411 - val_loss: 0.0533\n",
      "Epoch 3/10\n",
      "1136/1136 [==============================] - 8s 7ms/step - loss: 0.0402 - val_loss: 0.0522\n",
      "Epoch 4/10\n",
      "1136/1136 [==============================] - 7s 6ms/step - loss: 0.0387 - val_loss: 0.0529\n",
      "Epoch 5/10\n",
      "1136/1136 [==============================] - 7s 6ms/step - loss: 0.0378 - val_loss: 0.0537\n",
      "Epoch 6/10\n",
      "1136/1136 [==============================] - 7s 6ms/step - loss: 0.0371 - val_loss: 0.0537\n",
      "Epoch 7/10\n",
      "1136/1136 [==============================] - 7s 6ms/step - loss: 0.0358 - val_loss: 0.0541\n",
      "Epoch 8/10\n",
      "1136/1136 [==============================] - 7s 7ms/step - loss: 0.0350 - val_loss: 0.0551\n",
      "Epoch 9/10\n",
      "1136/1136 [==============================] - 7s 6ms/step - loss: 0.0343 - val_loss: 0.0548\n",
      "Epoch 10/10\n",
      "1136/1136 [==============================] - 8s 7ms/step - loss: 0.0334 - val_loss: 0.0532\n"
     ]
    },
    {
     "data": {
      "text/plain": [
       "<tensorflow.python.keras.callbacks.History at 0x1876f45e0>"
      ]
     },
     "execution_count": 34,
     "metadata": {},
     "output_type": "execute_result"
    }
   ],
   "source": [
    "model4.fit(train_inputs, train_outputs, epochs=10, validation_split = 0.2)"
   ]
  },
  {
   "cell_type": "markdown",
   "id": "eight-career",
   "metadata": {},
   "source": [
    "So this seems stuck at 53e-2"
   ]
  },
  {
   "cell_type": "code",
   "execution_count": 35,
   "id": "possible-globe",
   "metadata": {
    "scrolled": true
   },
   "outputs": [
    {
     "name": "stdout",
     "output_type": "stream",
     "text": [
      "Epoch 1/10\n",
      "1136/1136 [==============================] - 43s 38ms/step - loss: 0.0318 - val_loss: 0.0423\n",
      "Epoch 2/10\n",
      "1136/1136 [==============================] - 51s 45ms/step - loss: 0.0307 - val_loss: 0.0400\n",
      "Epoch 3/10\n",
      "1136/1136 [==============================] - 45s 40ms/step - loss: 0.0295 - val_loss: 0.0402\n",
      "Epoch 4/10\n",
      "1136/1136 [==============================] - 50s 44ms/step - loss: 0.0285 - val_loss: 0.0402\n",
      "Epoch 5/10\n",
      "1136/1136 [==============================] - 56s 49ms/step - loss: 0.0272 - val_loss: 0.0423\n",
      "Epoch 6/10\n",
      "1136/1136 [==============================] - 51s 45ms/step - loss: 0.0265 - val_loss: 0.0411\n",
      "Epoch 7/10\n",
      "1136/1136 [==============================] - 50s 44ms/step - loss: 0.0256 - val_loss: 0.0403\n",
      "Epoch 8/10\n",
      "1136/1136 [==============================] - 47s 42ms/step - loss: 0.0248 - val_loss: 0.0410\n",
      "Epoch 9/10\n",
      "1136/1136 [==============================] - 56s 50ms/step - loss: 0.0241 - val_loss: 0.0402\n",
      "Epoch 10/10\n",
      "1136/1136 [==============================] - 48s 43ms/step - loss: 0.0233 - val_loss: 0.0404\n"
     ]
    },
    {
     "data": {
      "text/plain": [
       "<tensorflow.python.keras.callbacks.History at 0x187424d60>"
      ]
     },
     "execution_count": 35,
     "metadata": {},
     "output_type": "execute_result"
    }
   ],
   "source": [
    "model3.fit(train_inputs, train_outputs, epochs=10, validation_split = 0.2)"
   ]
  },
  {
   "cell_type": "markdown",
   "id": "explicit-alias",
   "metadata": {},
   "source": [
    "And this is still stuck at 41e-2"
   ]
  },
  {
   "cell_type": "markdown",
   "id": "indie-governor",
   "metadata": {},
   "source": [
    "model5 has 4 conv layers"
   ]
  },
  {
   "cell_type": "code",
   "execution_count": 36,
   "id": "little-wheel",
   "metadata": {},
   "outputs": [],
   "source": [
    "model5 = keras.Sequential()\n",
    "model5.add(layers.Conv2D(32, (3, 3), activation='relu', input_shape=(19, 15, 2)))\n",
    "model5.add(layers.Conv2D(64, (3, 3), activation='relu'))\n",
    "model5.add(layers.Conv2D(64, (3, 3), activation='relu'))\n",
    "model5.add(layers.Conv2D(64, (3, 3), activation='relu'))\n"
   ]
  },
  {
   "cell_type": "code",
   "execution_count": 37,
   "id": "personalized-daisy",
   "metadata": {
    "scrolled": true
   },
   "outputs": [
    {
     "name": "stdout",
     "output_type": "stream",
     "text": [
      "Model: \"sequential_4\"\n",
      "_________________________________________________________________\n",
      "Layer (type)                 Output Shape              Param #   \n",
      "=================================================================\n",
      "conv2d_11 (Conv2D)           (None, 17, 13, 32)        608       \n",
      "_________________________________________________________________\n",
      "conv2d_12 (Conv2D)           (None, 15, 11, 64)        18496     \n",
      "_________________________________________________________________\n",
      "conv2d_13 (Conv2D)           (None, 13, 9, 64)         36928     \n",
      "_________________________________________________________________\n",
      "conv2d_14 (Conv2D)           (None, 11, 7, 64)         36928     \n",
      "=================================================================\n",
      "Total params: 92,960\n",
      "Trainable params: 92,960\n",
      "Non-trainable params: 0\n",
      "_________________________________________________________________\n"
     ]
    }
   ],
   "source": [
    "model5.summary()"
   ]
  },
  {
   "cell_type": "code",
   "execution_count": 38,
   "id": "korean-shirt",
   "metadata": {},
   "outputs": [],
   "source": [
    "model5.add(layers.Flatten())\n",
    "model5.add(layers.Dense(256, activation='relu'))\n",
    "model5.add(layers.Dense(1, activation='relu'))"
   ]
  },
  {
   "cell_type": "code",
   "execution_count": 40,
   "id": "matched-union",
   "metadata": {},
   "outputs": [
    {
     "name": "stdout",
     "output_type": "stream",
     "text": [
      "Model: \"sequential_4\"\n",
      "_________________________________________________________________\n",
      "Layer (type)                 Output Shape              Param #   \n",
      "=================================================================\n",
      "conv2d_11 (Conv2D)           (None, 17, 13, 32)        608       \n",
      "_________________________________________________________________\n",
      "conv2d_12 (Conv2D)           (None, 15, 11, 64)        18496     \n",
      "_________________________________________________________________\n",
      "conv2d_13 (Conv2D)           (None, 13, 9, 64)         36928     \n",
      "_________________________________________________________________\n",
      "conv2d_14 (Conv2D)           (None, 11, 7, 64)         36928     \n",
      "_________________________________________________________________\n",
      "flatten_2 (Flatten)          (None, 4928)              0         \n",
      "_________________________________________________________________\n",
      "dense_4 (Dense)              (None, 256)               1261824   \n",
      "_________________________________________________________________\n",
      "dense_5 (Dense)              (None, 1)                 257       \n",
      "=================================================================\n",
      "Total params: 1,355,041\n",
      "Trainable params: 1,355,041\n",
      "Non-trainable params: 0\n",
      "_________________________________________________________________\n"
     ]
    }
   ],
   "source": [
    "model5.summary()"
   ]
  },
  {
   "cell_type": "markdown",
   "id": "decreased-basin",
   "metadata": {},
   "source": [
    "A little smaller than model3, but much larger than model 4"
   ]
  },
  {
   "cell_type": "code",
   "execution_count": 41,
   "id": "sufficient-samba",
   "metadata": {},
   "outputs": [],
   "source": [
    "model5.compile(loss='mean_absolute_error',optimizer=tf.keras.optimizers.Adam(0.001))"
   ]
  },
  {
   "cell_type": "code",
   "execution_count": 42,
   "id": "periodic-november",
   "metadata": {
    "scrolled": false
   },
   "outputs": [
    {
     "name": "stdout",
     "output_type": "stream",
     "text": [
      "Epoch 1/10\n",
      "1136/1136 [==============================] - 40s 35ms/step - loss: 0.1210 - val_loss: 0.0666\n",
      "Epoch 2/10\n",
      "1136/1136 [==============================] - 41s 36ms/step - loss: 0.0532 - val_loss: 0.0498\n",
      "Epoch 3/10\n",
      "1136/1136 [==============================] - 55s 48ms/step - loss: 0.0461 - val_loss: 0.0493\n",
      "Epoch 4/10\n",
      "1136/1136 [==============================] - 54s 47ms/step - loss: 0.0434 - val_loss: 0.0439\n",
      "Epoch 5/10\n",
      "1136/1136 [==============================] - 58s 51ms/step - loss: 0.0407 - val_loss: 0.0430\n",
      "Epoch 6/10\n",
      "1136/1136 [==============================] - 53s 46ms/step - loss: 0.0386 - val_loss: 0.0407\n",
      "Epoch 7/10\n",
      "1136/1136 [==============================] - 58s 51ms/step - loss: 0.0380 - val_loss: 0.0395\n",
      "Epoch 8/10\n",
      "1136/1136 [==============================] - 63s 56ms/step - loss: 0.0366 - val_loss: 0.0397\n",
      "Epoch 9/10\n",
      "1136/1136 [==============================] - 51s 45ms/step - loss: 0.0344 - val_loss: 0.0390\n",
      "Epoch 10/10\n",
      "1136/1136 [==============================] - 60s 53ms/step - loss: 0.0334 - val_loss: 0.0439\n"
     ]
    },
    {
     "data": {
      "text/plain": [
       "<tensorflow.python.keras.callbacks.History at 0x187427130>"
      ]
     },
     "execution_count": 42,
     "metadata": {},
     "output_type": "execute_result"
    }
   ],
   "source": [
    "model5.fit(train_inputs, train_outputs, epochs=10, validation_split = 0.2)"
   ]
  },
  {
   "cell_type": "markdown",
   "id": "final-alberta",
   "metadata": {},
   "source": [
    "Hmm. This got the CV error down to 39e-2, but then it jumped back up to 43e-2"
   ]
  },
  {
   "cell_type": "markdown",
   "id": "hairy-february",
   "metadata": {},
   "source": [
    "model6 has 3 conv layers, but the final one is a little larger so that it has the same number of parameters as model2"
   ]
  },
  {
   "cell_type": "code",
   "execution_count": 43,
   "id": "quiet-wheat",
   "metadata": {},
   "outputs": [],
   "source": [
    "model6 = keras.Sequential()\n",
    "model6.add(layers.Conv2D(32, (3, 3), activation='relu', input_shape=(19, 15, 2)))\n",
    "model6.add(layers.Conv2D(64, (3, 3), activation='relu'))\n",
    "model6.add(layers.Conv2D(90, (3, 3), activation='relu'))"
   ]
  },
  {
   "cell_type": "code",
   "execution_count": 44,
   "id": "initial-charter",
   "metadata": {},
   "outputs": [],
   "source": [
    "model6.add(layers.Flatten())\n",
    "model6.add(layers.Dense(256, activation='relu'))\n",
    "model6.add(layers.Dense(1, activation='relu'))"
   ]
  },
  {
   "cell_type": "code",
   "execution_count": 45,
   "id": "apart-regression",
   "metadata": {
    "scrolled": true
   },
   "outputs": [
    {
     "name": "stdout",
     "output_type": "stream",
     "text": [
      "Model: \"sequential_5\"\n",
      "_________________________________________________________________\n",
      "Layer (type)                 Output Shape              Param #   \n",
      "=================================================================\n",
      "conv2d_15 (Conv2D)           (None, 17, 13, 32)        608       \n",
      "_________________________________________________________________\n",
      "conv2d_16 (Conv2D)           (None, 15, 11, 64)        18496     \n",
      "_________________________________________________________________\n",
      "conv2d_17 (Conv2D)           (None, 13, 9, 90)         51930     \n",
      "_________________________________________________________________\n",
      "flatten_3 (Flatten)          (None, 10530)             0         \n",
      "_________________________________________________________________\n",
      "dense_6 (Dense)              (None, 256)               2695936   \n",
      "_________________________________________________________________\n",
      "dense_7 (Dense)              (None, 1)                 257       \n",
      "=================================================================\n",
      "Total params: 2,767,227\n",
      "Trainable params: 2,767,227\n",
      "Non-trainable params: 0\n",
      "_________________________________________________________________\n"
     ]
    }
   ],
   "source": [
    "model6.summary()"
   ]
  },
  {
   "cell_type": "code",
   "execution_count": null,
   "id": "dutch-spider",
   "metadata": {},
   "outputs": [],
   "source": []
  },
  {
   "cell_type": "code",
   "execution_count": 46,
   "id": "physical-pressure",
   "metadata": {},
   "outputs": [],
   "source": [
    "model6.compile(loss='mean_absolute_error',optimizer=tf.keras.optimizers.Adam(0.001))"
   ]
  },
  {
   "cell_type": "code",
   "execution_count": 47,
   "id": "acquired-mounting",
   "metadata": {
    "scrolled": true
   },
   "outputs": [
    {
     "name": "stdout",
     "output_type": "stream",
     "text": [
      "Epoch 1/10\n",
      "1136/1136 [==============================] - 54s 47ms/step - loss: 0.1011 - val_loss: 0.0586\n",
      "Epoch 2/10\n",
      "1136/1136 [==============================] - 64s 56ms/step - loss: 0.0509 - val_loss: 0.0512\n",
      "Epoch 3/10\n",
      "1136/1136 [==============================] - 55s 48ms/step - loss: 0.0455 - val_loss: 0.0448\n",
      "Epoch 4/10\n",
      "1136/1136 [==============================] - 50s 44ms/step - loss: 0.0425 - val_loss: 0.0442\n",
      "Epoch 5/10\n",
      "1136/1136 [==============================] - 57s 50ms/step - loss: 0.0405 - val_loss: 0.0444\n",
      "Epoch 6/10\n",
      "1136/1136 [==============================] - 61s 54ms/step - loss: 0.0384 - val_loss: 0.0424\n",
      "Epoch 7/10\n",
      "1136/1136 [==============================] - 50s 44ms/step - loss: 0.0361 - val_loss: 0.0443\n",
      "Epoch 8/10\n",
      "1136/1136 [==============================] - 61s 54ms/step - loss: 0.0345 - val_loss: 0.0409\n",
      "Epoch 9/10\n",
      "1136/1136 [==============================] - 52s 46ms/step - loss: 0.0329 - val_loss: 0.0415\n",
      "Epoch 10/10\n",
      "1136/1136 [==============================] - 51s 45ms/step - loss: 0.0318 - val_loss: 0.0404\n"
     ]
    },
    {
     "data": {
      "text/plain": [
       "<tensorflow.python.keras.callbacks.History at 0x187473e50>"
      ]
     },
     "execution_count": 47,
     "metadata": {},
     "output_type": "execute_result"
    }
   ],
   "source": [
    "model6.fit(train_inputs, train_outputs, epochs=10, validation_split = 0.2)"
   ]
  },
  {
   "cell_type": "code",
   "execution_count": 48,
   "id": "dominican-batch",
   "metadata": {
    "scrolled": false
   },
   "outputs": [
    {
     "name": "stdout",
     "output_type": "stream",
     "text": [
      "Epoch 1/3\n",
      "1136/1136 [==============================] - 38s 34ms/step - loss: 0.0312 - val_loss: 0.0402\n",
      "Epoch 2/3\n",
      "1136/1136 [==============================] - 46s 41ms/step - loss: 0.0299 - val_loss: 0.0406\n",
      "Epoch 3/3\n",
      "1136/1136 [==============================] - 66s 58ms/step - loss: 0.0286 - val_loss: 0.0415\n"
     ]
    },
    {
     "data": {
      "text/plain": [
       "<tensorflow.python.keras.callbacks.History at 0x18773edf0>"
      ]
     },
     "execution_count": 48,
     "metadata": {},
     "output_type": "execute_result"
    }
   ],
   "source": [
    "model6.fit(train_inputs, train_outputs, epochs=3, validation_split = 0.2)"
   ]
  },
  {
   "cell_type": "code",
   "execution_count": 49,
   "id": "excess-caution",
   "metadata": {},
   "outputs": [],
   "source": [
    "model7 = keras.Sequential()\n",
    "model7.add(layers.Conv2D(32, (3, 3), activation='relu', input_shape=(19, 15, 2)))\n",
    "model7.add(layers.Conv2D(64, (3, 3), activation='relu'))\n",
    "model7.add(layers.Conv2D(90, (3, 3), activation='relu'))"
   ]
  },
  {
   "cell_type": "code",
   "execution_count": 50,
   "id": "mineral-archives",
   "metadata": {},
   "outputs": [],
   "source": [
    "model7.add(layers.Flatten())\n",
    "model7.add(layers.Dense(256, activation='relu'))\n",
    "model7.add(layers.Dropout(0.5))\n",
    "model7.add(layers.Dense(1, activation='relu'))"
   ]
  },
  {
   "cell_type": "code",
   "execution_count": 51,
   "id": "primary-planning",
   "metadata": {
    "scrolled": true
   },
   "outputs": [
    {
     "name": "stdout",
     "output_type": "stream",
     "text": [
      "Model: \"sequential_6\"\n",
      "_________________________________________________________________\n",
      "Layer (type)                 Output Shape              Param #   \n",
      "=================================================================\n",
      "conv2d_18 (Conv2D)           (None, 17, 13, 32)        608       \n",
      "_________________________________________________________________\n",
      "conv2d_19 (Conv2D)           (None, 15, 11, 64)        18496     \n",
      "_________________________________________________________________\n",
      "conv2d_20 (Conv2D)           (None, 13, 9, 90)         51930     \n",
      "_________________________________________________________________\n",
      "flatten_4 (Flatten)          (None, 10530)             0         \n",
      "_________________________________________________________________\n",
      "dense_8 (Dense)              (None, 256)               2695936   \n",
      "_________________________________________________________________\n",
      "dropout (Dropout)            (None, 256)               0         \n",
      "_________________________________________________________________\n",
      "dense_9 (Dense)              (None, 1)                 257       \n",
      "=================================================================\n",
      "Total params: 2,767,227\n",
      "Trainable params: 2,767,227\n",
      "Non-trainable params: 0\n",
      "_________________________________________________________________\n"
     ]
    }
   ],
   "source": [
    "model7.summary()"
   ]
  },
  {
   "cell_type": "code",
   "execution_count": 52,
   "id": "beginning-rebecca",
   "metadata": {},
   "outputs": [],
   "source": [
    "model7.compile(loss='mean_absolute_error',optimizer=tf.keras.optimizers.Adam(0.001))"
   ]
  },
  {
   "cell_type": "code",
   "execution_count": 53,
   "id": "normal-wyoming",
   "metadata": {
    "scrolled": true
   },
   "outputs": [
    {
     "name": "stdout",
     "output_type": "stream",
     "text": [
      "Epoch 1/10\n",
      "1136/1136 [==============================] - 40s 35ms/step - loss: 0.1167 - val_loss: 0.0547\n",
      "Epoch 2/10\n",
      "1136/1136 [==============================] - 41s 36ms/step - loss: 0.0652 - val_loss: 0.0495\n",
      "Epoch 3/10\n",
      "1136/1136 [==============================] - 46s 41ms/step - loss: 0.0563 - val_loss: 0.0455\n",
      "Epoch 4/10\n",
      "1136/1136 [==============================] - 55s 49ms/step - loss: 0.0523 - val_loss: 0.0449\n",
      "Epoch 5/10\n",
      "1136/1136 [==============================] - 48s 42ms/step - loss: 0.0493 - val_loss: 0.0502\n",
      "Epoch 6/10\n",
      "1136/1136 [==============================] - 53s 47ms/step - loss: 0.0482 - val_loss: 0.0416\n",
      "Epoch 7/10\n",
      "1136/1136 [==============================] - 51s 45ms/step - loss: 0.0466 - val_loss: 0.0437\n",
      "Epoch 8/10\n",
      "1136/1136 [==============================] - 63s 55ms/step - loss: 0.0454 - val_loss: 0.0434\n",
      "Epoch 9/10\n",
      "1136/1136 [==============================] - 52s 46ms/step - loss: 0.0442 - val_loss: 0.0423\n",
      "Epoch 10/10\n",
      "1136/1136 [==============================] - 52s 46ms/step - loss: 0.0437 - val_loss: 0.0436\n"
     ]
    },
    {
     "data": {
      "text/plain": [
       "<tensorflow.python.keras.callbacks.History at 0x1878be1f0>"
      ]
     },
     "execution_count": 53,
     "metadata": {},
     "output_type": "execute_result"
    }
   ],
   "source": [
    "model7.fit(train_inputs, train_outputs, epochs=10, validation_split = 0.2)"
   ]
  },
  {
   "cell_type": "code",
   "execution_count": 57,
   "id": "forward-insulin",
   "metadata": {},
   "outputs": [],
   "source": [
    "model8=keras.Sequential()\n",
    "model8.add(layers.Dense(256, activation='relu',input_shape=(19, 15, 2)))\n",
    "model8.add(layers.Dropout(0.5))\n",
    "model8.add(layers.Dense(1, activation='relu'))"
   ]
  },
  {
   "cell_type": "code",
   "execution_count": 58,
   "id": "fundamental-commissioner",
   "metadata": {
    "scrolled": true
   },
   "outputs": [
    {
     "name": "stdout",
     "output_type": "stream",
     "text": [
      "Model: \"sequential_8\"\n",
      "_________________________________________________________________\n",
      "Layer (type)                 Output Shape              Param #   \n",
      "=================================================================\n",
      "dense_12 (Dense)             (None, 19, 15, 256)       768       \n",
      "_________________________________________________________________\n",
      "dropout_2 (Dropout)          (None, 19, 15, 256)       0         \n",
      "_________________________________________________________________\n",
      "dense_13 (Dense)             (None, 19, 15, 1)         257       \n",
      "=================================================================\n",
      "Total params: 1,025\n",
      "Trainable params: 1,025\n",
      "Non-trainable params: 0\n",
      "_________________________________________________________________\n"
     ]
    }
   ],
   "source": [
    "model8.summary()"
   ]
  },
  {
   "cell_type": "code",
   "execution_count": 52,
   "id": "interracial-benjamin",
   "metadata": {},
   "outputs": [],
   "source": [
    "model7.compile(loss='mean_absolute_error',optimizer=tf.keras.optimizers.Adam(0.001))"
   ]
  },
  {
   "cell_type": "code",
   "execution_count": 53,
   "id": "prime-block",
   "metadata": {
    "scrolled": true
   },
   "outputs": [
    {
     "name": "stdout",
     "output_type": "stream",
     "text": [
      "Epoch 1/10\n",
      "1136/1136 [==============================] - 40s 35ms/step - loss: 0.1167 - val_loss: 0.0547\n",
      "Epoch 2/10\n",
      "1136/1136 [==============================] - 41s 36ms/step - loss: 0.0652 - val_loss: 0.0495\n",
      "Epoch 3/10\n",
      "1136/1136 [==============================] - 46s 41ms/step - loss: 0.0563 - val_loss: 0.0455\n",
      "Epoch 4/10\n",
      "1136/1136 [==============================] - 55s 49ms/step - loss: 0.0523 - val_loss: 0.0449\n",
      "Epoch 5/10\n",
      "1136/1136 [==============================] - 48s 42ms/step - loss: 0.0493 - val_loss: 0.0502\n",
      "Epoch 6/10\n",
      "1136/1136 [==============================] - 53s 47ms/step - loss: 0.0482 - val_loss: 0.0416\n",
      "Epoch 7/10\n",
      "1136/1136 [==============================] - 51s 45ms/step - loss: 0.0466 - val_loss: 0.0437\n",
      "Epoch 8/10\n",
      "1136/1136 [==============================] - 63s 55ms/step - loss: 0.0454 - val_loss: 0.0434\n",
      "Epoch 9/10\n",
      "1136/1136 [==============================] - 52s 46ms/step - loss: 0.0442 - val_loss: 0.0423\n",
      "Epoch 10/10\n",
      "1136/1136 [==============================] - 52s 46ms/step - loss: 0.0437 - val_loss: 0.0436\n"
     ]
    },
    {
     "data": {
      "text/plain": [
       "<tensorflow.python.keras.callbacks.History at 0x1878be1f0>"
      ]
     },
     "execution_count": 53,
     "metadata": {},
     "output_type": "execute_result"
    }
   ],
   "source": [
    "model7.fit(train_inputs, train_outputs, epochs=10, validation_split = 0.2)"
   ]
  },
  {
   "cell_type": "code",
   "execution_count": null,
   "id": "incoming-trouble",
   "metadata": {},
   "outputs": [],
   "source": []
  }
 ],
 "metadata": {
  "kernelspec": {
   "display_name": "Python 3",
   "language": "python",
   "name": "python3"
  },
  "language_info": {
   "codemirror_mode": {
    "name": "ipython",
    "version": 3
   },
   "file_extension": ".py",
   "mimetype": "text/x-python",
   "name": "python",
   "nbconvert_exporter": "python",
   "pygments_lexer": "ipython3",
   "version": "3.9.2"
  }
 },
 "nbformat": 4,
 "nbformat_minor": 5
}
