{
 "cells": [
  {
   "cell_type": "code",
   "execution_count": 1,
   "id": "geographic-sigma",
   "metadata": {},
   "outputs": [],
   "source": [
    "import numpy"
   ]
  },
  {
   "cell_type": "code",
   "execution_count": 2,
   "id": "encouraging-sunset",
   "metadata": {},
   "outputs": [
    {
     "name": "stdout",
     "output_type": "stream",
     "text": [
      "INFO:tensorflow:Enabling eager execution\n",
      "INFO:tensorflow:Enabling v2 tensorshape\n",
      "INFO:tensorflow:Enabling resource variables\n",
      "INFO:tensorflow:Enabling tensor equality\n",
      "INFO:tensorflow:Enabling control flow v2\n"
     ]
    }
   ],
   "source": [
    "import tensorflow"
   ]
  },
  {
   "cell_type": "code",
   "execution_count": 3,
   "id": "humanitarian-factor",
   "metadata": {},
   "outputs": [],
   "source": [
    "import main, pickle"
   ]
  },
  {
   "cell_type": "code",
   "execution_count": 6,
   "id": "located-burlington",
   "metadata": {},
   "outputs": [],
   "source": [
    "random_board_pairs = []\n",
    "with open(\"2021-09-18-mcts-v3-boards13-random.pickle\", \"rb\") as f:\n",
    "    try:\n",
    "        while True:\n",
    "            random_board_pairs.append(pickle.load(f))\n",
    "    except EOFError:\n",
    "        pass"
   ]
  },
  {
   "cell_type": "code",
   "execution_count": 7,
   "id": "different-tuesday",
   "metadata": {},
   "outputs": [
    {
     "data": {
      "text/plain": [
       "20156"
      ]
     },
     "execution_count": 7,
     "metadata": {},
     "output_type": "execute_result"
    }
   ],
   "source": [
    "len(random_board_pairs)"
   ]
  },
  {
   "cell_type": "code",
   "execution_count": 4,
   "id": "criminal-nevada",
   "metadata": {},
   "outputs": [],
   "source": [
    "game_board_pairs = []\n",
    "with open(\"2021-10-12-mcts-v3-boards14-games.pickle\", \"rb\") as f:\n",
    "    try:\n",
    "        while True:\n",
    "            game_board_pairs.append(pickle.load(f))\n",
    "    except EOFError:\n",
    "        pass"
   ]
  },
  {
   "cell_type": "code",
   "execution_count": 5,
   "id": "incident-import",
   "metadata": {},
   "outputs": [
    {
     "data": {
      "text/plain": [
       "21652"
      ]
     },
     "execution_count": 5,
     "metadata": {},
     "output_type": "execute_result"
    }
   ],
   "source": [
    "len(game_board_pairs)"
   ]
  },
  {
   "cell_type": "code",
   "execution_count": 8,
   "id": "authentic-entrance",
   "metadata": {},
   "outputs": [],
   "source": [
    "random_inputs = []\n",
    "random_outputs = []\n",
    "for p in random_board_pairs:\n",
    "    random_inputs.append(p[0].get_flipped_3d_array())\n",
    "    random_outputs.append(float(p[1]))"
   ]
  },
  {
   "cell_type": "code",
   "execution_count": 9,
   "id": "trained-wellington",
   "metadata": {},
   "outputs": [],
   "source": [
    "game_inputs = []\n",
    "game_outputs = []\n",
    "for p in game_board_pairs:\n",
    "    game_inputs.append(p[0].get_flipped_3d_array())\n",
    "    game_outputs.append(float(p[1]))"
   ]
  },
  {
   "cell_type": "code",
   "execution_count": 10,
   "id": "documented-republican",
   "metadata": {},
   "outputs": [],
   "source": [
    "import numpy as np"
   ]
  },
  {
   "cell_type": "code",
   "execution_count": 11,
   "id": "announced-humanitarian",
   "metadata": {},
   "outputs": [],
   "source": [
    "game_inputs = np.array(game_inputs)\n",
    "random_inputs = np.array(random_inputs)\n",
    "game_outputs = np.array(game_outputs)\n",
    "random_outputs = np.array(random_outputs)"
   ]
  },
  {
   "cell_type": "code",
   "execution_count": 12,
   "id": "facial-carbon",
   "metadata": {},
   "outputs": [],
   "source": [
    "random_mark = int(len(random_outputs)*0.8)"
   ]
  },
  {
   "cell_type": "code",
   "execution_count": 13,
   "id": "adjustable-variance",
   "metadata": {},
   "outputs": [],
   "source": [
    "game_mark = int(len(game_outputs)*0.8)"
   ]
  },
  {
   "cell_type": "code",
   "execution_count": 14,
   "id": "union-boring",
   "metadata": {},
   "outputs": [
    {
     "name": "stdout",
     "output_type": "stream",
     "text": [
      "16124 17321\n"
     ]
    }
   ],
   "source": [
    "print(random_mark, game_mark)"
   ]
  },
  {
   "cell_type": "code",
   "execution_count": 15,
   "id": "fifteen-clerk",
   "metadata": {},
   "outputs": [],
   "source": [
    "train_inputs = np.concatenate((random_inputs[0:random_mark] , game_inputs[0:game_mark] \n",
    "                               , random_inputs[random_mark:] ,  game_inputs[game_mark:])) "
   ]
  },
  {
   "cell_type": "code",
   "execution_count": 16,
   "id": "toxic-street",
   "metadata": {},
   "outputs": [],
   "source": [
    "train_outputs = np.concatenate(( random_outputs[0:random_mark],\n",
    "                                 game_outputs[0:game_mark],\n",
    "                                random_outputs[random_mark:] ,\n",
    "                                game_outputs[game_mark:] ))"
   ]
  },
  {
   "cell_type": "code",
   "execution_count": 17,
   "id": "demanding-representation",
   "metadata": {},
   "outputs": [],
   "source": [
    "from tensorflow import keras\n",
    "from tensorflow.keras import layers\n",
    "import tensorflow as tf"
   ]
  },
  {
   "cell_type": "code",
   "execution_count": 18,
   "id": "common-integer",
   "metadata": {},
   "outputs": [],
   "source": [
    "model2 = keras.Sequential()\n",
    "model2.add(layers.Conv2D(32, (3, 3), activation='relu', input_shape=(19, 15, 2)))\n",
    "model2.add(layers.Conv2D(64, (3, 3), activation='relu'))"
   ]
  },
  {
   "cell_type": "code",
   "execution_count": 19,
   "id": "upset-mediterranean",
   "metadata": {},
   "outputs": [],
   "source": [
    "model2.add(layers.Flatten())\n",
    "model2.add(layers.Dense(256, activation='relu'))\n",
    "model2.add(layers.Dense(1, activation='relu'))"
   ]
  },
  {
   "cell_type": "code",
   "execution_count": 20,
   "id": "varying-gross",
   "metadata": {},
   "outputs": [],
   "source": [
    "model2.compile(loss='mean_absolute_error',optimizer=tf.keras.optimizers.Adam(0.001))"
   ]
  },
  {
   "cell_type": "code",
   "execution_count": 21,
   "id": "cathedral-allocation",
   "metadata": {},
   "outputs": [
    {
     "name": "stdout",
     "output_type": "stream",
     "text": [
      "Model: \"sequential\"\n",
      "_________________________________________________________________\n",
      "Layer (type)                 Output Shape              Param #   \n",
      "=================================================================\n",
      "conv2d (Conv2D)              (None, 17, 13, 32)        608       \n",
      "_________________________________________________________________\n",
      "conv2d_1 (Conv2D)            (None, 15, 11, 64)        18496     \n",
      "_________________________________________________________________\n",
      "flatten (Flatten)            (None, 10560)             0         \n",
      "_________________________________________________________________\n",
      "dense (Dense)                (None, 256)               2703616   \n",
      "_________________________________________________________________\n",
      "dense_1 (Dense)              (None, 1)                 257       \n",
      "=================================================================\n",
      "Total params: 2,722,977\n",
      "Trainable params: 2,722,977\n",
      "Non-trainable params: 0\n",
      "_________________________________________________________________\n"
     ]
    }
   ],
   "source": [
    "model2.summary()"
   ]
  },
  {
   "cell_type": "code",
   "execution_count": 22,
   "id": "female-demand",
   "metadata": {},
   "outputs": [
    {
     "name": "stdout",
     "output_type": "stream",
     "text": [
      "Epoch 1/10\n",
      "1046/1046 [==============================] - 25s 23ms/step - loss: 0.1010 - val_loss: 0.0582\n",
      "Epoch 2/10\n",
      "1046/1046 [==============================] - 23s 22ms/step - loss: 0.0552 - val_loss: 0.0536\n",
      "Epoch 3/10\n",
      "1046/1046 [==============================] - 23s 22ms/step - loss: 0.0505 - val_loss: 0.0580\n",
      "Epoch 4/10\n",
      "1046/1046 [==============================] - 23s 22ms/step - loss: 0.0477 - val_loss: 0.0495\n",
      "Epoch 5/10\n",
      "1046/1046 [==============================] - 23s 22ms/step - loss: 0.0452 - val_loss: 0.0488\n",
      "Epoch 6/10\n",
      "1046/1046 [==============================] - 23s 22ms/step - loss: 0.0429 - val_loss: 0.0498\n",
      "Epoch 7/10\n",
      "1046/1046 [==============================] - 25s 24ms/step - loss: 0.0406 - val_loss: 0.0517\n",
      "Epoch 8/10\n",
      "1046/1046 [==============================] - 29s 28ms/step - loss: 0.0387 - val_loss: 0.0504\n",
      "Epoch 9/10\n",
      "1046/1046 [==============================] - 31s 29ms/step - loss: 0.0370 - val_loss: 0.0484\n",
      "Epoch 10/10\n",
      "1046/1046 [==============================] - 30s 28ms/step - loss: 0.0350 - val_loss: 0.0495\n"
     ]
    },
    {
     "data": {
      "text/plain": [
       "<tensorflow.python.keras.callbacks.History at 0x18a177520>"
      ]
     },
     "execution_count": 22,
     "metadata": {},
     "output_type": "execute_result"
    }
   ],
   "source": [
    "model2.fit(train_inputs, train_outputs, epochs=10, validation_split = 0.2)"
   ]
  },
  {
   "cell_type": "markdown",
   "id": "ecological-ranch",
   "metadata": {},
   "source": [
    "When training v3 (which did better than v2), CV loss was about 0.029-30. \n",
    "\n",
    "When training v4 (which wasn't an improvement and in fact might have done worse than v3), CV loss was about 0.028-29\n",
    "\n",
    "When training v5 (which didn't do better than neural net v3), CV loss was about 0.048\n",
    "                                                                                 \n",
    "Now v7's CV loss has plateaued at 0.049. Hmm. Maybe that's just a reflection of the fact that v5 and v7's data came from MCTS? I hope the data isn't messy\n",
    "\n",
    "MCTS5 was supposed to generate less messy data, but I nixed that because it lost to MCTS3\n",
    "\n",
    "(Note: I trained options for a v6, but never saved one bc the CV lossses didn't look better than for v5, and it was the same data anyway)"
   ]
  },
  {
   "cell_type": "code",
   "execution_count": 23,
   "id": "outdoor-punishment",
   "metadata": {},
   "outputs": [
    {
     "name": "stdout",
     "output_type": "stream",
     "text": [
      "INFO:tensorflow:Assets written to: saved_model/2021-10-26-v7-model/assets\n"
     ]
    }
   ],
   "source": [
    "model2.save('saved_model/2021-10-26-v7-model')"
   ]
  },
  {
   "cell_type": "code",
   "execution_count": null,
   "id": "atlantic-running",
   "metadata": {},
   "outputs": [],
   "source": []
  },
  {
   "cell_type": "code",
   "execution_count": null,
   "id": "median-planner",
   "metadata": {},
   "outputs": [],
   "source": []
  },
  {
   "cell_type": "code",
   "execution_count": null,
   "id": "relative-complexity",
   "metadata": {},
   "outputs": [],
   "source": []
  },
  {
   "cell_type": "code",
   "execution_count": null,
   "id": "incoming-trouble",
   "metadata": {},
   "outputs": [],
   "source": []
  }
 ],
 "metadata": {
  "kernelspec": {
   "display_name": "Python 3",
   "language": "python",
   "name": "python3"
  },
  "language_info": {
   "codemirror_mode": {
    "name": "ipython",
    "version": 3
   },
   "file_extension": ".py",
   "mimetype": "text/x-python",
   "name": "python",
   "nbconvert_exporter": "python",
   "pygments_lexer": "ipython3",
   "version": "3.9.2"
  }
 },
 "nbformat": 4,
 "nbformat_minor": 5
}
