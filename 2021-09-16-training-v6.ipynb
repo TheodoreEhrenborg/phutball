{
 "cells": [
  {
   "cell_type": "markdown",
   "id": "unable-procurement",
   "metadata": {},
   "source": [
    "Now we have enough data"
   ]
  },
  {
   "cell_type": "code",
   "execution_count": 1,
   "id": "humanitarian-factor",
   "metadata": {},
   "outputs": [
    {
     "name": "stdout",
     "output_type": "stream",
     "text": [
      "INFO:tensorflow:Enabling eager execution\n",
      "INFO:tensorflow:Enabling v2 tensorshape\n",
      "INFO:tensorflow:Enabling resource variables\n",
      "INFO:tensorflow:Enabling tensor equality\n",
      "INFO:tensorflow:Enabling control flow v2\n"
     ]
    }
   ],
   "source": [
    "import main, pickle"
   ]
  },
  {
   "cell_type": "code",
   "execution_count": 2,
   "id": "located-burlington",
   "metadata": {},
   "outputs": [],
   "source": [
    "random_board_pairs = []\n",
    "with open(\"2021-09-09-mcts-v3-boards10-random.pickle\", \"rb\") as f:\n",
    "    try:\n",
    "        while True:\n",
    "            random_board_pairs.append(pickle.load(f))\n",
    "    except EOFError:\n",
    "        pass"
   ]
  },
  {
   "cell_type": "code",
   "execution_count": 3,
   "id": "different-tuesday",
   "metadata": {},
   "outputs": [
    {
     "data": {
      "text/plain": [
       "22721"
      ]
     },
     "execution_count": 3,
     "metadata": {},
     "output_type": "execute_result"
    }
   ],
   "source": [
    "len(random_board_pairs)"
   ]
  },
  {
   "cell_type": "code",
   "execution_count": 4,
   "id": "criminal-nevada",
   "metadata": {},
   "outputs": [],
   "source": [
    "game_board_pairs = []\n",
    "with open(\"2021-09-12-mcts-v3-boards11-games.pickle\", \"rb\") as f:\n",
    "    try:\n",
    "        while True:\n",
    "            game_board_pairs.append(pickle.load(f))\n",
    "    except EOFError:\n",
    "        pass"
   ]
  },
  {
   "cell_type": "code",
   "execution_count": 5,
   "id": "incident-import",
   "metadata": {},
   "outputs": [
    {
     "data": {
      "text/plain": [
       "22702"
      ]
     },
     "execution_count": 5,
     "metadata": {},
     "output_type": "execute_result"
    }
   ],
   "source": [
    "len(game_board_pairs)"
   ]
  },
  {
   "cell_type": "code",
   "execution_count": 6,
   "id": "authentic-entrance",
   "metadata": {},
   "outputs": [],
   "source": [
    "random_inputs = []\n",
    "random_outputs = []\n",
    "for p in random_board_pairs:\n",
    "    random_inputs.append(p[0].get_flipped_3d_array())\n",
    "    random_outputs.append(float(p[1]))"
   ]
  },
  {
   "cell_type": "code",
   "execution_count": 7,
   "id": "trained-wellington",
   "metadata": {},
   "outputs": [],
   "source": [
    "game_inputs = []\n",
    "game_outputs = []\n",
    "for p in game_board_pairs:\n",
    "    game_inputs.append(p[0].get_flipped_3d_array())\n",
    "    game_outputs.append(float(p[1]))"
   ]
  },
  {
   "cell_type": "code",
   "execution_count": 8,
   "id": "documented-republican",
   "metadata": {},
   "outputs": [],
   "source": [
    "import numpy as np"
   ]
  },
  {
   "cell_type": "code",
   "execution_count": 9,
   "id": "announced-humanitarian",
   "metadata": {},
   "outputs": [],
   "source": [
    "game_inputs = np.array(game_inputs)\n",
    "random_inputs = np.array(random_inputs)\n",
    "game_outputs = np.array(game_outputs)\n",
    "random_outputs = np.array(random_outputs)"
   ]
  },
  {
   "cell_type": "code",
   "execution_count": 10,
   "id": "facial-carbon",
   "metadata": {},
   "outputs": [],
   "source": [
    "random_mark = int(len(random_outputs)*0.8)"
   ]
  },
  {
   "cell_type": "code",
   "execution_count": 11,
   "id": "adjustable-variance",
   "metadata": {},
   "outputs": [],
   "source": [
    "game_mark = int(len(game_outputs)*0.8)"
   ]
  },
  {
   "cell_type": "code",
   "execution_count": 12,
   "id": "union-boring",
   "metadata": {},
   "outputs": [
    {
     "name": "stdout",
     "output_type": "stream",
     "text": [
      "18176 18161\n"
     ]
    }
   ],
   "source": [
    "print(random_mark, game_mark)"
   ]
  },
  {
   "cell_type": "code",
   "execution_count": 13,
   "id": "fifteen-clerk",
   "metadata": {},
   "outputs": [],
   "source": [
    "train_inputs = np.concatenate((random_inputs[0:random_mark] , game_inputs[0:game_mark] \n",
    "                               , random_inputs[random_mark:] ,  game_inputs[game_mark:])) "
   ]
  },
  {
   "cell_type": "code",
   "execution_count": 14,
   "id": "toxic-street",
   "metadata": {},
   "outputs": [],
   "source": [
    "train_outputs = np.concatenate(( random_outputs[0:random_mark],\n",
    "                                 game_outputs[0:game_mark],\n",
    "                                random_outputs[random_mark:] ,\n",
    "                                game_outputs[game_mark:] ))"
   ]
  },
  {
   "cell_type": "code",
   "execution_count": 15,
   "id": "demanding-representation",
   "metadata": {},
   "outputs": [],
   "source": [
    "from tensorflow import keras\n",
    "from tensorflow.keras import layers\n",
    "import tensorflow as tf"
   ]
  },
  {
   "cell_type": "markdown",
   "id": "dirty-employment",
   "metadata": {},
   "source": [
    "Maybe I need pooling?? Or an extra Conv2d layer? "
   ]
  },
  {
   "cell_type": "markdown",
   "id": "russian-hearing",
   "metadata": {},
   "source": [
    "Model3 has an extra conv2d layer"
   ]
  },
  {
   "cell_type": "code",
   "execution_count": 16,
   "id": "psychological-viking",
   "metadata": {},
   "outputs": [],
   "source": [
    "model3 = keras.Sequential()\n",
    "model3.add(layers.Conv2D(32, (3, 3), activation='relu', input_shape=(19, 15, 2)))\n",
    "model3.add(layers.Conv2D(64, (3, 3), activation='relu'))\n",
    "model3.add(layers.Conv2D(64, (3, 3), activation='relu'))"
   ]
  },
  {
   "cell_type": "code",
   "execution_count": 17,
   "id": "monthly-reward",
   "metadata": {},
   "outputs": [],
   "source": [
    "model3.add(layers.Flatten())\n",
    "model3.add(layers.Dense(256, activation='relu'))\n",
    "model3.add(layers.Dense(1, activation='relu'))"
   ]
  },
  {
   "cell_type": "code",
   "execution_count": 19,
   "id": "boolean-contemporary",
   "metadata": {
    "scrolled": true
   },
   "outputs": [
    {
     "name": "stdout",
     "output_type": "stream",
     "text": [
      "Model: \"sequential\"\n",
      "_________________________________________________________________\n",
      "Layer (type)                 Output Shape              Param #   \n",
      "=================================================================\n",
      "conv2d (Conv2D)              (None, 17, 13, 32)        608       \n",
      "_________________________________________________________________\n",
      "conv2d_1 (Conv2D)            (None, 15, 11, 64)        18496     \n",
      "_________________________________________________________________\n",
      "conv2d_2 (Conv2D)            (None, 13, 9, 64)         36928     \n",
      "_________________________________________________________________\n",
      "flatten (Flatten)            (None, 7488)              0         \n",
      "_________________________________________________________________\n",
      "dense (Dense)                (None, 256)               1917184   \n",
      "_________________________________________________________________\n",
      "dense_1 (Dense)              (None, 1)                 257       \n",
      "=================================================================\n",
      "Total params: 1,973,473\n",
      "Trainable params: 1,973,473\n",
      "Non-trainable params: 0\n",
      "_________________________________________________________________\n"
     ]
    }
   ],
   "source": [
    "model3.summary()"
   ]
  },
  {
   "cell_type": "markdown",
   "id": "french-physics",
   "metadata": {},
   "source": [
    "I have fewer parameters? Because the last conv layer made the array narrower than it was tall, so I didn't need as much dense?"
   ]
  },
  {
   "cell_type": "code",
   "execution_count": 21,
   "id": "detected-meditation",
   "metadata": {},
   "outputs": [],
   "source": [
    "model3.compile(loss='mean_absolute_error',optimizer=tf.keras.optimizers.Adam(0.001))"
   ]
  },
  {
   "cell_type": "code",
   "execution_count": 21,
   "id": "complicated-cabin",
   "metadata": {},
   "outputs": [
    {
     "name": "stdout",
     "output_type": "stream",
     "text": [
      "Epoch 1/10\n",
      "1136/1136 [==============================] - 23s 20ms/step - loss: 0.1007 - val_loss: 0.0646\n",
      "Epoch 2/10\n",
      "1136/1136 [==============================] - 23s 20ms/step - loss: 0.0521 - val_loss: 0.0523\n",
      "Epoch 3/10\n",
      "1136/1136 [==============================] - 23s 20ms/step - loss: 0.0477 - val_loss: 0.0491\n",
      "Epoch 4/10\n",
      "1136/1136 [==============================] - 23s 20ms/step - loss: 0.0441 - val_loss: 0.0503\n",
      "Epoch 5/10\n",
      "1136/1136 [==============================] - 23s 20ms/step - loss: 0.0418 - val_loss: 0.0490\n",
      "Epoch 6/10\n",
      "1136/1136 [==============================] - 23s 20ms/step - loss: 0.0392 - val_loss: 0.0468\n",
      "Epoch 7/10\n",
      "1136/1136 [==============================] - 23s 20ms/step - loss: 0.0372 - val_loss: 0.0497\n",
      "Epoch 8/10\n",
      "1136/1136 [==============================] - 23s 20ms/step - loss: 0.0350 - val_loss: 0.0485\n",
      "Epoch 9/10\n",
      "1136/1136 [==============================] - 23s 20ms/step - loss: 0.0327 - val_loss: 0.0459\n",
      "Epoch 10/10\n",
      "1136/1136 [==============================] - 23s 20ms/step - loss: 0.0310 - val_loss: 0.0473\n"
     ]
    },
    {
     "data": {
      "text/plain": [
       "<tensorflow.python.keras.callbacks.History at 0x18d72ab80>"
      ]
     },
     "execution_count": 21,
     "metadata": {},
     "output_type": "execute_result"
    }
   ],
   "source": [
    "model2.fit(train_inputs, train_outputs, epochs=10, validation_split = 0.2)"
   ]
  },
  {
   "cell_type": "markdown",
   "id": "blind-journalism",
   "metadata": {},
   "source": [
    "When training v4 (and the others, I think), the CV loss would be about 0.029. Now, when training v5, it's about 0.047. That's 62% higher. \n",
    "\n",
    "Maybe that's a good sign—the data is more complicated and matches the real world better, so the neural net has to struggle to learn it.\n",
    "\n",
    "Maybe that's a bad sign—the data has a lot of random noise, so the net has to struggle to learn it"
   ]
  },
  {
   "cell_type": "markdown",
   "id": "exempt-rotation",
   "metadata": {},
   "source": [
    "Aiming for below 0.047 CV loss"
   ]
  },
  {
   "cell_type": "code",
   "execution_count": 23,
   "id": "wooden-copper",
   "metadata": {
    "scrolled": true
   },
   "outputs": [
    {
     "name": "stdout",
     "output_type": "stream",
     "text": [
      "Epoch 1/10\n",
      "1136/1136 [==============================] - 35s 30ms/step - loss: 0.1009 - val_loss: 0.0562\n",
      "Epoch 2/10\n",
      "1136/1136 [==============================] - 34s 30ms/step - loss: 0.0521 - val_loss: 0.0528\n",
      "Epoch 3/10\n",
      "1136/1136 [==============================] - 35s 31ms/step - loss: 0.0462 - val_loss: 0.0440\n",
      "Epoch 4/10\n",
      "1136/1136 [==============================] - 52s 46ms/step - loss: 0.0425 - val_loss: 0.0439\n",
      "Epoch 5/10\n",
      "1136/1136 [==============================] - 40s 35ms/step - loss: 0.0404 - val_loss: 0.0431\n",
      "Epoch 6/10\n",
      "1136/1136 [==============================] - 42s 37ms/step - loss: 0.0386 - val_loss: 0.0435\n",
      "Epoch 7/10\n",
      "1136/1136 [==============================] - 43s 38ms/step - loss: 0.0367 - val_loss: 0.0440\n",
      "Epoch 8/10\n",
      "1136/1136 [==============================] - 45s 40ms/step - loss: 0.0354 - val_loss: 0.0401\n",
      "Epoch 9/10\n",
      "1136/1136 [==============================] - 45s 39ms/step - loss: 0.0342 - val_loss: 0.0407\n",
      "Epoch 10/10\n",
      "1136/1136 [==============================] - 46s 40ms/step - loss: 0.0330 - val_loss: 0.0411\n"
     ]
    },
    {
     "data": {
      "text/plain": [
       "<tensorflow.python.keras.callbacks.History at 0x184c8ce50>"
      ]
     },
     "execution_count": 23,
     "metadata": {},
     "output_type": "execute_result"
    }
   ],
   "source": [
    "model3.fit(train_inputs, train_outputs, epochs=10, validation_split = 0.2)"
   ]
  },
  {
   "cell_type": "markdown",
   "id": "behind-buffalo",
   "metadata": {},
   "source": [
    "Hmm, so CV loss is 0.041. 41e-2 is better than 47e-2, but I want to aim for 29e-2\n",
    "\n",
    "Let's add pooling between the Conv2Ds, like this: https://www.tensorflow.org/tutorials/images/cnn"
   ]
  },
  {
   "cell_type": "code",
   "execution_count": 27,
   "id": "german-algebra",
   "metadata": {},
   "outputs": [],
   "source": [
    "model4 = keras.Sequential()\n",
    "model4.add(layers.Conv2D(32, (3, 3), activation='relu', input_shape=(19, 15, 2)))\n",
    "model4.add(layers.MaxPooling2D((2, 2)))\n",
    "model4.add(layers.Conv2D(64, (3, 3), activation='relu'))\n",
    "model4.add(layers.Conv2D(64, (3, 3), activation='relu'))\n"
   ]
  },
  {
   "cell_type": "code",
   "execution_count": 28,
   "id": "large-chapel",
   "metadata": {
    "scrolled": true
   },
   "outputs": [
    {
     "name": "stdout",
     "output_type": "stream",
     "text": [
      "Model: \"sequential_3\"\n",
      "_________________________________________________________________\n",
      "Layer (type)                 Output Shape              Param #   \n",
      "=================================================================\n",
      "conv2d_8 (Conv2D)            (None, 17, 13, 32)        608       \n",
      "_________________________________________________________________\n",
      "max_pooling2d_4 (MaxPooling2 (None, 8, 6, 32)          0         \n",
      "_________________________________________________________________\n",
      "conv2d_9 (Conv2D)            (None, 6, 4, 64)          18496     \n",
      "_________________________________________________________________\n",
      "conv2d_10 (Conv2D)           (None, 4, 2, 64)          36928     \n",
      "=================================================================\n",
      "Total params: 56,032\n",
      "Trainable params: 56,032\n",
      "Non-trainable params: 0\n",
      "_________________________________________________________________\n"
     ]
    }
   ],
   "source": [
    "model4.summary()"
   ]
  },
  {
   "cell_type": "code",
   "execution_count": 29,
   "id": "german-blond",
   "metadata": {},
   "outputs": [],
   "source": [
    "model4.add(layers.Flatten())\n",
    "model4.add(layers.Dense(256, activation='relu'))\n",
    "model4.add(layers.Dense(1, activation='relu'))"
   ]
  },
  {
   "cell_type": "code",
   "execution_count": 30,
   "id": "informed-ranch",
   "metadata": {},
   "outputs": [
    {
     "name": "stdout",
     "output_type": "stream",
     "text": [
      "Model: \"sequential_3\"\n",
      "_________________________________________________________________\n",
      "Layer (type)                 Output Shape              Param #   \n",
      "=================================================================\n",
      "conv2d_8 (Conv2D)            (None, 17, 13, 32)        608       \n",
      "_________________________________________________________________\n",
      "max_pooling2d_4 (MaxPooling2 (None, 8, 6, 32)          0         \n",
      "_________________________________________________________________\n",
      "conv2d_9 (Conv2D)            (None, 6, 4, 64)          18496     \n",
      "_________________________________________________________________\n",
      "conv2d_10 (Conv2D)           (None, 4, 2, 64)          36928     \n",
      "_________________________________________________________________\n",
      "flatten_1 (Flatten)          (None, 512)               0         \n",
      "_________________________________________________________________\n",
      "dense_2 (Dense)              (None, 256)               131328    \n",
      "_________________________________________________________________\n",
      "dense_3 (Dense)              (None, 1)                 257       \n",
      "=================================================================\n",
      "Total params: 187,617\n",
      "Trainable params: 187,617\n",
      "Non-trainable params: 0\n",
      "_________________________________________________________________\n"
     ]
    }
   ],
   "source": [
    "model4.summary()"
   ]
  },
  {
   "cell_type": "markdown",
   "id": "essential-warrant",
   "metadata": {},
   "source": [
    "Pooling makes the model smaller"
   ]
  },
  {
   "cell_type": "code",
   "execution_count": 32,
   "id": "conceptual-republican",
   "metadata": {},
   "outputs": [],
   "source": [
    "model4.compile(loss='mean_absolute_error',optimizer=tf.keras.optimizers.Adam(0.001))"
   ]
  },
  {
   "cell_type": "code",
   "execution_count": 33,
   "id": "utility-savings",
   "metadata": {
    "scrolled": true
   },
   "outputs": [
    {
     "name": "stdout",
     "output_type": "stream",
     "text": [
      "Epoch 1/10\n",
      "1136/1136 [==============================] - 7s 6ms/step - loss: 0.1170 - val_loss: 0.0633\n",
      "Epoch 2/10\n",
      "1136/1136 [==============================] - 6s 6ms/step - loss: 0.0611 - val_loss: 0.0595\n",
      "Epoch 3/10\n",
      "1136/1136 [==============================] - 6s 6ms/step - loss: 0.0556 - val_loss: 0.0546\n",
      "Epoch 4/10\n",
      "1136/1136 [==============================] - 6s 6ms/step - loss: 0.0526 - val_loss: 0.0585\n",
      "Epoch 5/10\n",
      "1136/1136 [==============================] - 6s 6ms/step - loss: 0.0511 - val_loss: 0.0542\n",
      "Epoch 6/10\n",
      "1136/1136 [==============================] - 6s 6ms/step - loss: 0.0488 - val_loss: 0.0545\n",
      "Epoch 7/10\n",
      "1136/1136 [==============================] - 7s 6ms/step - loss: 0.0477 - val_loss: 0.0529\n",
      "Epoch 8/10\n",
      "1136/1136 [==============================] - 6s 6ms/step - loss: 0.0462 - val_loss: 0.0522\n",
      "Epoch 9/10\n",
      "1136/1136 [==============================] - 6s 6ms/step - loss: 0.0439 - val_loss: 0.0521\n",
      "Epoch 10/10\n",
      "1136/1136 [==============================] - 6s 6ms/step - loss: 0.0437 - val_loss: 0.0538\n"
     ]
    },
    {
     "data": {
      "text/plain": [
       "<tensorflow.python.keras.callbacks.History at 0x18736aa00>"
      ]
     },
     "execution_count": 33,
     "metadata": {},
     "output_type": "execute_result"
    }
   ],
   "source": [
    "model4.fit(train_inputs, train_outputs, epochs=10, validation_split = 0.2)"
   ]
  },
  {
   "cell_type": "code",
   "execution_count": 34,
   "id": "graphic-gibraltar",
   "metadata": {
    "scrolled": false
   },
   "outputs": [
    {
     "name": "stdout",
     "output_type": "stream",
     "text": [
      "Epoch 1/10\n",
      "1136/1136 [==============================] - 7s 6ms/step - loss: 0.0423 - val_loss: 0.0545\n",
      "Epoch 2/10\n",
      "1136/1136 [==============================] - 7s 6ms/step - loss: 0.0411 - val_loss: 0.0533\n",
      "Epoch 3/10\n",
      "1136/1136 [==============================] - 8s 7ms/step - loss: 0.0402 - val_loss: 0.0522\n",
      "Epoch 4/10\n",
      "1136/1136 [==============================] - 7s 6ms/step - loss: 0.0387 - val_loss: 0.0529\n",
      "Epoch 5/10\n",
      "1136/1136 [==============================] - 7s 6ms/step - loss: 0.0378 - val_loss: 0.0537\n",
      "Epoch 6/10\n",
      "1136/1136 [==============================] - 7s 6ms/step - loss: 0.0371 - val_loss: 0.0537\n",
      "Epoch 7/10\n",
      "1136/1136 [==============================] - 7s 6ms/step - loss: 0.0358 - val_loss: 0.0541\n",
      "Epoch 8/10\n",
      "1136/1136 [==============================] - 7s 7ms/step - loss: 0.0350 - val_loss: 0.0551\n",
      "Epoch 9/10\n",
      "1136/1136 [==============================] - 7s 6ms/step - loss: 0.0343 - val_loss: 0.0548\n",
      "Epoch 10/10\n",
      "1136/1136 [==============================] - 8s 7ms/step - loss: 0.0334 - val_loss: 0.0532\n"
     ]
    },
    {
     "data": {
      "text/plain": [
       "<tensorflow.python.keras.callbacks.History at 0x1876f45e0>"
      ]
     },
     "execution_count": 34,
     "metadata": {},
     "output_type": "execute_result"
    }
   ],
   "source": [
    "model4.fit(train_inputs, train_outputs, epochs=10, validation_split = 0.2)"
   ]
  },
  {
   "cell_type": "markdown",
   "id": "minimal-insulin",
   "metadata": {},
   "source": [
    "So this seems stuck at 53e-2"
   ]
  },
  {
   "cell_type": "code",
   "execution_count": 35,
   "id": "acute-skirt",
   "metadata": {
    "scrolled": true
   },
   "outputs": [
    {
     "name": "stdout",
     "output_type": "stream",
     "text": [
      "Epoch 1/10\n",
      "1136/1136 [==============================] - 43s 38ms/step - loss: 0.0318 - val_loss: 0.0423\n",
      "Epoch 2/10\n",
      "1136/1136 [==============================] - 51s 45ms/step - loss: 0.0307 - val_loss: 0.0400\n",
      "Epoch 3/10\n",
      "1136/1136 [==============================] - 45s 40ms/step - loss: 0.0295 - val_loss: 0.0402\n",
      "Epoch 4/10\n",
      "1136/1136 [==============================] - 50s 44ms/step - loss: 0.0285 - val_loss: 0.0402\n",
      "Epoch 5/10\n",
      "1136/1136 [==============================] - 56s 49ms/step - loss: 0.0272 - val_loss: 0.0423\n",
      "Epoch 6/10\n",
      "1136/1136 [==============================] - 51s 45ms/step - loss: 0.0265 - val_loss: 0.0411\n",
      "Epoch 7/10\n",
      "1136/1136 [==============================] - 50s 44ms/step - loss: 0.0256 - val_loss: 0.0403\n",
      "Epoch 8/10\n",
      "1136/1136 [==============================] - 47s 42ms/step - loss: 0.0248 - val_loss: 0.0410\n",
      "Epoch 9/10\n",
      "1136/1136 [==============================] - 56s 50ms/step - loss: 0.0241 - val_loss: 0.0402\n",
      "Epoch 10/10\n",
      "1136/1136 [==============================] - 48s 43ms/step - loss: 0.0233 - val_loss: 0.0404\n"
     ]
    },
    {
     "data": {
      "text/plain": [
       "<tensorflow.python.keras.callbacks.History at 0x187424d60>"
      ]
     },
     "execution_count": 35,
     "metadata": {},
     "output_type": "execute_result"
    }
   ],
   "source": [
    "model3.fit(train_inputs, train_outputs, epochs=10, validation_split = 0.2)"
   ]
  },
  {
   "cell_type": "markdown",
   "id": "fixed-silly",
   "metadata": {},
   "source": [
    "And this is still stuck at 41e-2"
   ]
  },
  {
   "cell_type": "markdown",
   "id": "dated-jones",
   "metadata": {},
   "source": [
    "model5 has 4 conv layers"
   ]
  },
  {
   "cell_type": "code",
   "execution_count": 36,
   "id": "heard-proxy",
   "metadata": {},
   "outputs": [],
   "source": [
    "model5 = keras.Sequential()\n",
    "model5.add(layers.Conv2D(32, (3, 3), activation='relu', input_shape=(19, 15, 2)))\n",
    "model5.add(layers.Conv2D(64, (3, 3), activation='relu'))\n",
    "model5.add(layers.Conv2D(64, (3, 3), activation='relu'))\n",
    "model5.add(layers.Conv2D(64, (3, 3), activation='relu'))\n"
   ]
  },
  {
   "cell_type": "code",
   "execution_count": 37,
   "id": "statistical-priority",
   "metadata": {
    "scrolled": true
   },
   "outputs": [
    {
     "name": "stdout",
     "output_type": "stream",
     "text": [
      "Model: \"sequential_4\"\n",
      "_________________________________________________________________\n",
      "Layer (type)                 Output Shape              Param #   \n",
      "=================================================================\n",
      "conv2d_11 (Conv2D)           (None, 17, 13, 32)        608       \n",
      "_________________________________________________________________\n",
      "conv2d_12 (Conv2D)           (None, 15, 11, 64)        18496     \n",
      "_________________________________________________________________\n",
      "conv2d_13 (Conv2D)           (None, 13, 9, 64)         36928     \n",
      "_________________________________________________________________\n",
      "conv2d_14 (Conv2D)           (None, 11, 7, 64)         36928     \n",
      "=================================================================\n",
      "Total params: 92,960\n",
      "Trainable params: 92,960\n",
      "Non-trainable params: 0\n",
      "_________________________________________________________________\n"
     ]
    }
   ],
   "source": [
    "model5.summary()"
   ]
  },
  {
   "cell_type": "code",
   "execution_count": 38,
   "id": "divine-headset",
   "metadata": {},
   "outputs": [],
   "source": [
    "model5.add(layers.Flatten())\n",
    "model5.add(layers.Dense(256, activation='relu'))\n",
    "model5.add(layers.Dense(1, activation='relu'))"
   ]
  },
  {
   "cell_type": "code",
   "execution_count": 40,
   "id": "mature-safety",
   "metadata": {},
   "outputs": [
    {
     "name": "stdout",
     "output_type": "stream",
     "text": [
      "Model: \"sequential_4\"\n",
      "_________________________________________________________________\n",
      "Layer (type)                 Output Shape              Param #   \n",
      "=================================================================\n",
      "conv2d_11 (Conv2D)           (None, 17, 13, 32)        608       \n",
      "_________________________________________________________________\n",
      "conv2d_12 (Conv2D)           (None, 15, 11, 64)        18496     \n",
      "_________________________________________________________________\n",
      "conv2d_13 (Conv2D)           (None, 13, 9, 64)         36928     \n",
      "_________________________________________________________________\n",
      "conv2d_14 (Conv2D)           (None, 11, 7, 64)         36928     \n",
      "_________________________________________________________________\n",
      "flatten_2 (Flatten)          (None, 4928)              0         \n",
      "_________________________________________________________________\n",
      "dense_4 (Dense)              (None, 256)               1261824   \n",
      "_________________________________________________________________\n",
      "dense_5 (Dense)              (None, 1)                 257       \n",
      "=================================================================\n",
      "Total params: 1,355,041\n",
      "Trainable params: 1,355,041\n",
      "Non-trainable params: 0\n",
      "_________________________________________________________________\n"
     ]
    }
   ],
   "source": [
    "model5.summary()"
   ]
  },
  {
   "cell_type": "markdown",
   "id": "played-error",
   "metadata": {},
   "source": [
    "A little smaller than model3, but much larger than model 4"
   ]
  },
  {
   "cell_type": "code",
   "execution_count": 41,
   "id": "hydraulic-boxing",
   "metadata": {},
   "outputs": [],
   "source": [
    "model5.compile(loss='mean_absolute_error',optimizer=tf.keras.optimizers.Adam(0.001))"
   ]
  },
  {
   "cell_type": "code",
   "execution_count": 42,
   "id": "second-justice",
   "metadata": {
    "scrolled": false
   },
   "outputs": [
    {
     "name": "stdout",
     "output_type": "stream",
     "text": [
      "Epoch 1/10\n",
      "1136/1136 [==============================] - 40s 35ms/step - loss: 0.1210 - val_loss: 0.0666\n",
      "Epoch 2/10\n",
      "1136/1136 [==============================] - 41s 36ms/step - loss: 0.0532 - val_loss: 0.0498\n",
      "Epoch 3/10\n",
      "1136/1136 [==============================] - 55s 48ms/step - loss: 0.0461 - val_loss: 0.0493\n",
      "Epoch 4/10\n",
      "1136/1136 [==============================] - 54s 47ms/step - loss: 0.0434 - val_loss: 0.0439\n",
      "Epoch 5/10\n",
      "1136/1136 [==============================] - 58s 51ms/step - loss: 0.0407 - val_loss: 0.0430\n",
      "Epoch 6/10\n",
      "1136/1136 [==============================] - 53s 46ms/step - loss: 0.0386 - val_loss: 0.0407\n",
      "Epoch 7/10\n",
      "1136/1136 [==============================] - 58s 51ms/step - loss: 0.0380 - val_loss: 0.0395\n",
      "Epoch 8/10\n",
      "1136/1136 [==============================] - 63s 56ms/step - loss: 0.0366 - val_loss: 0.0397\n",
      "Epoch 9/10\n",
      "1136/1136 [==============================] - 51s 45ms/step - loss: 0.0344 - val_loss: 0.0390\n",
      "Epoch 10/10\n",
      "1136/1136 [==============================] - 60s 53ms/step - loss: 0.0334 - val_loss: 0.0439\n"
     ]
    },
    {
     "data": {
      "text/plain": [
       "<tensorflow.python.keras.callbacks.History at 0x187427130>"
      ]
     },
     "execution_count": 42,
     "metadata": {},
     "output_type": "execute_result"
    }
   ],
   "source": [
    "model5.fit(train_inputs, train_outputs, epochs=10, validation_split = 0.2)"
   ]
  },
  {
   "cell_type": "markdown",
   "id": "pretty-variance",
   "metadata": {},
   "source": [
    "Hmm. This got the CV error down to 39e-2, but then it jumped back up to 43e-2"
   ]
  },
  {
   "cell_type": "markdown",
   "id": "innovative-geography",
   "metadata": {},
   "source": [
    "model6 has 3 conv layers, but the final one is a little larger so that it has the same number of parameters as model2"
   ]
  },
  {
   "cell_type": "code",
   "execution_count": 43,
   "id": "promising-salon",
   "metadata": {},
   "outputs": [],
   "source": [
    "model6 = keras.Sequential()\n",
    "model6.add(layers.Conv2D(32, (3, 3), activation='relu', input_shape=(19, 15, 2)))\n",
    "model6.add(layers.Conv2D(64, (3, 3), activation='relu'))\n",
    "model6.add(layers.Conv2D(90, (3, 3), activation='relu'))"
   ]
  },
  {
   "cell_type": "code",
   "execution_count": 44,
   "id": "auburn-houston",
   "metadata": {},
   "outputs": [],
   "source": [
    "model6.add(layers.Flatten())\n",
    "model6.add(layers.Dense(256, activation='relu'))\n",
    "model6.add(layers.Dense(1, activation='relu'))"
   ]
  },
  {
   "cell_type": "code",
   "execution_count": 45,
   "id": "competent-month",
   "metadata": {
    "scrolled": true
   },
   "outputs": [
    {
     "name": "stdout",
     "output_type": "stream",
     "text": [
      "Model: \"sequential_5\"\n",
      "_________________________________________________________________\n",
      "Layer (type)                 Output Shape              Param #   \n",
      "=================================================================\n",
      "conv2d_15 (Conv2D)           (None, 17, 13, 32)        608       \n",
      "_________________________________________________________________\n",
      "conv2d_16 (Conv2D)           (None, 15, 11, 64)        18496     \n",
      "_________________________________________________________________\n",
      "conv2d_17 (Conv2D)           (None, 13, 9, 90)         51930     \n",
      "_________________________________________________________________\n",
      "flatten_3 (Flatten)          (None, 10530)             0         \n",
      "_________________________________________________________________\n",
      "dense_6 (Dense)              (None, 256)               2695936   \n",
      "_________________________________________________________________\n",
      "dense_7 (Dense)              (None, 1)                 257       \n",
      "=================================================================\n",
      "Total params: 2,767,227\n",
      "Trainable params: 2,767,227\n",
      "Non-trainable params: 0\n",
      "_________________________________________________________________\n"
     ]
    }
   ],
   "source": [
    "model6.summary()"
   ]
  },
  {
   "cell_type": "code",
   "execution_count": null,
   "id": "civilian-orbit",
   "metadata": {},
   "outputs": [],
   "source": []
  },
  {
   "cell_type": "code",
   "execution_count": 46,
   "id": "coastal-helmet",
   "metadata": {},
   "outputs": [],
   "source": [
    "model6.compile(loss='mean_absolute_error',optimizer=tf.keras.optimizers.Adam(0.001))"
   ]
  },
  {
   "cell_type": "code",
   "execution_count": 47,
   "id": "fifteen-arctic",
   "metadata": {
    "scrolled": true
   },
   "outputs": [
    {
     "name": "stdout",
     "output_type": "stream",
     "text": [
      "Epoch 1/10\n",
      "1136/1136 [==============================] - 54s 47ms/step - loss: 0.1011 - val_loss: 0.0586\n",
      "Epoch 2/10\n",
      "1136/1136 [==============================] - 64s 56ms/step - loss: 0.0509 - val_loss: 0.0512\n",
      "Epoch 3/10\n",
      "1136/1136 [==============================] - 55s 48ms/step - loss: 0.0455 - val_loss: 0.0448\n",
      "Epoch 4/10\n",
      "1136/1136 [==============================] - 50s 44ms/step - loss: 0.0425 - val_loss: 0.0442\n",
      "Epoch 5/10\n",
      "1136/1136 [==============================] - 57s 50ms/step - loss: 0.0405 - val_loss: 0.0444\n",
      "Epoch 6/10\n",
      "1136/1136 [==============================] - 61s 54ms/step - loss: 0.0384 - val_loss: 0.0424\n",
      "Epoch 7/10\n",
      "1136/1136 [==============================] - 50s 44ms/step - loss: 0.0361 - val_loss: 0.0443\n",
      "Epoch 8/10\n",
      "1136/1136 [==============================] - 61s 54ms/step - loss: 0.0345 - val_loss: 0.0409\n",
      "Epoch 9/10\n",
      "1136/1136 [==============================] - 52s 46ms/step - loss: 0.0329 - val_loss: 0.0415\n",
      "Epoch 10/10\n",
      "1136/1136 [==============================] - 51s 45ms/step - loss: 0.0318 - val_loss: 0.0404\n"
     ]
    },
    {
     "data": {
      "text/plain": [
       "<tensorflow.python.keras.callbacks.History at 0x187473e50>"
      ]
     },
     "execution_count": 47,
     "metadata": {},
     "output_type": "execute_result"
    }
   ],
   "source": [
    "model6.fit(train_inputs, train_outputs, epochs=10, validation_split = 0.2)"
   ]
  },
  {
   "cell_type": "code",
   "execution_count": 48,
   "id": "computational-passing",
   "metadata": {
    "scrolled": false
   },
   "outputs": [
    {
     "name": "stdout",
     "output_type": "stream",
     "text": [
      "Epoch 1/3\n",
      "1136/1136 [==============================] - 38s 34ms/step - loss: 0.0312 - val_loss: 0.0402\n",
      "Epoch 2/3\n",
      "1136/1136 [==============================] - 46s 41ms/step - loss: 0.0299 - val_loss: 0.0406\n",
      "Epoch 3/3\n",
      "1136/1136 [==============================] - 66s 58ms/step - loss: 0.0286 - val_loss: 0.0415\n"
     ]
    },
    {
     "data": {
      "text/plain": [
       "<tensorflow.python.keras.callbacks.History at 0x18773edf0>"
      ]
     },
     "execution_count": 48,
     "metadata": {},
     "output_type": "execute_result"
    }
   ],
   "source": [
    "model6.fit(train_inputs, train_outputs, epochs=3, validation_split = 0.2)"
   ]
  },
  {
   "cell_type": "code",
   "execution_count": 49,
   "id": "hungry-davis",
   "metadata": {},
   "outputs": [],
   "source": [
    "model7 = keras.Sequential()\n",
    "model7.add(layers.Conv2D(32, (3, 3), activation='relu', input_shape=(19, 15, 2)))\n",
    "model7.add(layers.Conv2D(64, (3, 3), activation='relu'))\n",
    "model7.add(layers.Conv2D(90, (3, 3), activation='relu'))"
   ]
  },
  {
   "cell_type": "code",
   "execution_count": 50,
   "id": "colonial-basketball",
   "metadata": {},
   "outputs": [],
   "source": [
    "model7.add(layers.Flatten())\n",
    "model7.add(layers.Dense(256, activation='relu'))\n",
    "model7.add(layers.Dropout(0.5))\n",
    "model7.add(layers.Dense(1, activation='relu'))"
   ]
  },
  {
   "cell_type": "code",
   "execution_count": 51,
   "id": "complicated-buying",
   "metadata": {
    "scrolled": true
   },
   "outputs": [
    {
     "name": "stdout",
     "output_type": "stream",
     "text": [
      "Model: \"sequential_6\"\n",
      "_________________________________________________________________\n",
      "Layer (type)                 Output Shape              Param #   \n",
      "=================================================================\n",
      "conv2d_18 (Conv2D)           (None, 17, 13, 32)        608       \n",
      "_________________________________________________________________\n",
      "conv2d_19 (Conv2D)           (None, 15, 11, 64)        18496     \n",
      "_________________________________________________________________\n",
      "conv2d_20 (Conv2D)           (None, 13, 9, 90)         51930     \n",
      "_________________________________________________________________\n",
      "flatten_4 (Flatten)          (None, 10530)             0         \n",
      "_________________________________________________________________\n",
      "dense_8 (Dense)              (None, 256)               2695936   \n",
      "_________________________________________________________________\n",
      "dropout (Dropout)            (None, 256)               0         \n",
      "_________________________________________________________________\n",
      "dense_9 (Dense)              (None, 1)                 257       \n",
      "=================================================================\n",
      "Total params: 2,767,227\n",
      "Trainable params: 2,767,227\n",
      "Non-trainable params: 0\n",
      "_________________________________________________________________\n"
     ]
    }
   ],
   "source": [
    "model7.summary()"
   ]
  },
  {
   "cell_type": "code",
   "execution_count": 52,
   "id": "backed-associate",
   "metadata": {},
   "outputs": [],
   "source": [
    "model7.compile(loss='mean_absolute_error',optimizer=tf.keras.optimizers.Adam(0.001))"
   ]
  },
  {
   "cell_type": "code",
   "execution_count": 53,
   "id": "organic-pepper",
   "metadata": {
    "scrolled": true
   },
   "outputs": [
    {
     "name": "stdout",
     "output_type": "stream",
     "text": [
      "Epoch 1/10\n",
      "1136/1136 [==============================] - 40s 35ms/step - loss: 0.1167 - val_loss: 0.0547\n",
      "Epoch 2/10\n",
      "1136/1136 [==============================] - 41s 36ms/step - loss: 0.0652 - val_loss: 0.0495\n",
      "Epoch 3/10\n",
      "1136/1136 [==============================] - 46s 41ms/step - loss: 0.0563 - val_loss: 0.0455\n",
      "Epoch 4/10\n",
      "1136/1136 [==============================] - 55s 49ms/step - loss: 0.0523 - val_loss: 0.0449\n",
      "Epoch 5/10\n",
      "1136/1136 [==============================] - 48s 42ms/step - loss: 0.0493 - val_loss: 0.0502\n",
      "Epoch 6/10\n",
      "1136/1136 [==============================] - 53s 47ms/step - loss: 0.0482 - val_loss: 0.0416\n",
      "Epoch 7/10\n",
      "1136/1136 [==============================] - 51s 45ms/step - loss: 0.0466 - val_loss: 0.0437\n",
      "Epoch 8/10\n",
      "1136/1136 [==============================] - 63s 55ms/step - loss: 0.0454 - val_loss: 0.0434\n",
      "Epoch 9/10\n",
      "1136/1136 [==============================] - 52s 46ms/step - loss: 0.0442 - val_loss: 0.0423\n",
      "Epoch 10/10\n",
      "1136/1136 [==============================] - 52s 46ms/step - loss: 0.0437 - val_loss: 0.0436\n"
     ]
    },
    {
     "data": {
      "text/plain": [
       "<tensorflow.python.keras.callbacks.History at 0x1878be1f0>"
      ]
     },
     "execution_count": 53,
     "metadata": {},
     "output_type": "execute_result"
    }
   ],
   "source": [
    "model7.fit(train_inputs, train_outputs, epochs=10, validation_split = 0.2)"
   ]
  },
  {
   "cell_type": "code",
   "execution_count": 57,
   "id": "filled-crisis",
   "metadata": {},
   "outputs": [],
   "source": [
    "model8=keras.Sequential()\n",
    "model8.add(layers.Dense(256, activation='relu',input_shape=(19, 15, 2)))\n",
    "model8.add(layers.Dropout(0.5))\n",
    "model8.add(layers.Dense(1, activation='relu'))"
   ]
  },
  {
   "cell_type": "code",
   "execution_count": 58,
   "id": "adjacent-canvas",
   "metadata": {
    "scrolled": true
   },
   "outputs": [
    {
     "name": "stdout",
     "output_type": "stream",
     "text": [
      "Model: \"sequential_8\"\n",
      "_________________________________________________________________\n",
      "Layer (type)                 Output Shape              Param #   \n",
      "=================================================================\n",
      "dense_12 (Dense)             (None, 19, 15, 256)       768       \n",
      "_________________________________________________________________\n",
      "dropout_2 (Dropout)          (None, 19, 15, 256)       0         \n",
      "_________________________________________________________________\n",
      "dense_13 (Dense)             (None, 19, 15, 1)         257       \n",
      "=================================================================\n",
      "Total params: 1,025\n",
      "Trainable params: 1,025\n",
      "Non-trainable params: 0\n",
      "_________________________________________________________________\n"
     ]
    }
   ],
   "source": [
    "model8.summary()"
   ]
  },
  {
   "cell_type": "code",
   "execution_count": 52,
   "id": "competitive-richards",
   "metadata": {},
   "outputs": [],
   "source": [
    "model7.compile(loss='mean_absolute_error',optimizer=tf.keras.optimizers.Adam(0.001))"
   ]
  },
  {
   "cell_type": "code",
   "execution_count": 53,
   "id": "economic-profession",
   "metadata": {
    "scrolled": true
   },
   "outputs": [
    {
     "name": "stdout",
     "output_type": "stream",
     "text": [
      "Epoch 1/10\n",
      "1136/1136 [==============================] - 40s 35ms/step - loss: 0.1167 - val_loss: 0.0547\n",
      "Epoch 2/10\n",
      "1136/1136 [==============================] - 41s 36ms/step - loss: 0.0652 - val_loss: 0.0495\n",
      "Epoch 3/10\n",
      "1136/1136 [==============================] - 46s 41ms/step - loss: 0.0563 - val_loss: 0.0455\n",
      "Epoch 4/10\n",
      "1136/1136 [==============================] - 55s 49ms/step - loss: 0.0523 - val_loss: 0.0449\n",
      "Epoch 5/10\n",
      "1136/1136 [==============================] - 48s 42ms/step - loss: 0.0493 - val_loss: 0.0502\n",
      "Epoch 6/10\n",
      "1136/1136 [==============================] - 53s 47ms/step - loss: 0.0482 - val_loss: 0.0416\n",
      "Epoch 7/10\n",
      "1136/1136 [==============================] - 51s 45ms/step - loss: 0.0466 - val_loss: 0.0437\n",
      "Epoch 8/10\n",
      "1136/1136 [==============================] - 63s 55ms/step - loss: 0.0454 - val_loss: 0.0434\n",
      "Epoch 9/10\n",
      "1136/1136 [==============================] - 52s 46ms/step - loss: 0.0442 - val_loss: 0.0423\n",
      "Epoch 10/10\n",
      "1136/1136 [==============================] - 52s 46ms/step - loss: 0.0437 - val_loss: 0.0436\n"
     ]
    },
    {
     "data": {
      "text/plain": [
       "<tensorflow.python.keras.callbacks.History at 0x1878be1f0>"
      ]
     },
     "execution_count": 53,
     "metadata": {},
     "output_type": "execute_result"
    }
   ],
   "source": [
    "model7.fit(train_inputs, train_outputs, epochs=10, validation_split = 0.2)"
   ]
  },
  {
   "cell_type": "code",
   "execution_count": null,
   "id": "inner-bachelor",
   "metadata": {},
   "outputs": [],
   "source": []
  }
 ],
 "metadata": {
  "kernelspec": {
   "display_name": "Python 3",
   "language": "python",
   "name": "python3"
  },
  "language_info": {
   "codemirror_mode": {
    "name": "ipython",
    "version": 3
   },
   "file_extension": ".py",
   "mimetype": "text/x-python",
   "name": "python",
   "nbconvert_exporter": "python",
   "pygments_lexer": "ipython3",
   "version": "3.9.2"
  }
 },
 "nbformat": 4,
 "nbformat_minor": 5
}
