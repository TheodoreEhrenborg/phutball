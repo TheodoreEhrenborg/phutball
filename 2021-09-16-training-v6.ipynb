{
 "cells": [
  {
   "cell_type": "markdown",
   "id": "unable-procurement",
   "metadata": {},
   "source": [
    "Now we have enough data"
   ]
  },
  {
   "cell_type": "code",
   "execution_count": 1,
   "id": "humanitarian-factor",
   "metadata": {},
   "outputs": [
    {
     "name": "stdout",
     "output_type": "stream",
     "text": [
      "INFO:tensorflow:Enabling eager execution\n",
      "INFO:tensorflow:Enabling v2 tensorshape\n",
      "INFO:tensorflow:Enabling resource variables\n",
      "INFO:tensorflow:Enabling tensor equality\n",
      "INFO:tensorflow:Enabling control flow v2\n"
     ]
    }
   ],
   "source": [
    "import main, pickle"
   ]
  },
  {
   "cell_type": "code",
   "execution_count": 2,
   "id": "located-burlington",
   "metadata": {},
   "outputs": [],
   "source": [
    "random_board_pairs = []\n",
    "with open(\"2021-09-09-mcts-v3-boards10-random.pickle\", \"rb\") as f:\n",
    "    try:\n",
    "        while True:\n",
    "            random_board_pairs.append(pickle.load(f))\n",
    "    except EOFError:\n",
    "        pass"
   ]
  },
  {
   "cell_type": "code",
   "execution_count": 3,
   "id": "different-tuesday",
   "metadata": {},
   "outputs": [
    {
     "data": {
      "text/plain": [
       "22721"
      ]
     },
     "execution_count": 3,
     "metadata": {},
     "output_type": "execute_result"
    }
   ],
   "source": [
    "len(random_board_pairs)"
   ]
  },
  {
   "cell_type": "code",
   "execution_count": 4,
   "id": "criminal-nevada",
   "metadata": {},
   "outputs": [],
   "source": [
    "game_board_pairs = []\n",
    "with open(\"2021-09-12-mcts-v3-boards11-games.pickle\", \"rb\") as f:\n",
    "    try:\n",
    "        while True:\n",
    "            game_board_pairs.append(pickle.load(f))\n",
    "    except EOFError:\n",
    "        pass"
   ]
  },
  {
   "cell_type": "code",
   "execution_count": 5,
   "id": "incident-import",
   "metadata": {},
   "outputs": [
    {
     "data": {
      "text/plain": [
       "22702"
      ]
     },
     "execution_count": 5,
     "metadata": {},
     "output_type": "execute_result"
    }
   ],
   "source": [
    "len(game_board_pairs)"
   ]
  },
  {
   "cell_type": "code",
   "execution_count": 6,
   "id": "authentic-entrance",
   "metadata": {},
   "outputs": [],
   "source": [
    "random_inputs = []\n",
    "random_outputs = []\n",
    "for p in random_board_pairs:\n",
    "    random_inputs.append(p[0].get_flipped_3d_array())\n",
    "    random_outputs.append(float(p[1]))"
   ]
  },
  {
   "cell_type": "code",
   "execution_count": 7,
   "id": "trained-wellington",
   "metadata": {},
   "outputs": [],
   "source": [
    "game_inputs = []\n",
    "game_outputs = []\n",
    "for p in game_board_pairs:\n",
    "    game_inputs.append(p[0].get_flipped_3d_array())\n",
    "    game_outputs.append(float(p[1]))"
   ]
  },
  {
   "cell_type": "code",
   "execution_count": 8,
   "id": "documented-republican",
   "metadata": {},
   "outputs": [],
   "source": [
    "import numpy as np"
   ]
  },
  {
   "cell_type": "code",
   "execution_count": 9,
   "id": "announced-humanitarian",
   "metadata": {},
   "outputs": [],
   "source": [
    "game_inputs = np.array(game_inputs)\n",
    "random_inputs = np.array(random_inputs)\n",
    "game_outputs = np.array(game_outputs)\n",
    "random_outputs = np.array(random_outputs)"
   ]
  },
  {
   "cell_type": "code",
   "execution_count": 10,
   "id": "facial-carbon",
   "metadata": {},
   "outputs": [],
   "source": [
    "random_mark = int(len(random_outputs)*0.8)"
   ]
  },
  {
   "cell_type": "code",
   "execution_count": 11,
   "id": "adjustable-variance",
   "metadata": {},
   "outputs": [],
   "source": [
    "game_mark = int(len(game_outputs)*0.8)"
   ]
  },
  {
   "cell_type": "code",
   "execution_count": 12,
   "id": "union-boring",
   "metadata": {},
   "outputs": [
    {
     "name": "stdout",
     "output_type": "stream",
     "text": [
      "18176 18161\n"
     ]
    }
   ],
   "source": [
    "print(random_mark, game_mark)"
   ]
  },
  {
   "cell_type": "code",
   "execution_count": 13,
   "id": "fifteen-clerk",
   "metadata": {},
   "outputs": [],
   "source": [
    "train_inputs = np.concatenate((random_inputs[0:random_mark] , game_inputs[0:game_mark] \n",
    "                               , random_inputs[random_mark:] ,  game_inputs[game_mark:])) "
   ]
  },
  {
   "cell_type": "code",
   "execution_count": 14,
   "id": "toxic-street",
   "metadata": {},
   "outputs": [],
   "source": [
    "train_outputs = np.concatenate(( random_outputs[0:random_mark],\n",
    "                                 game_outputs[0:game_mark],\n",
    "                                random_outputs[random_mark:] ,\n",
    "                                game_outputs[game_mark:] ))"
   ]
  },
  {
   "cell_type": "code",
   "execution_count": 15,
   "id": "demanding-representation",
   "metadata": {},
   "outputs": [],
   "source": [
    "from tensorflow import keras\n",
    "from tensorflow.keras import layers\n",
    "import tensorflow as tf"
   ]
  },
  {
   "cell_type": "markdown",
   "id": "crazy-attraction",
   "metadata": {},
   "source": [
    "Maybe I need pooling?? Or an extra Conv2d layer? "
   ]
  },
  {
   "cell_type": "code",
   "execution_count": 16,
   "id": "psychological-viking",
   "metadata": {},
   "outputs": [],
   "source": [
    "model3 = keras.Sequential()\n",
    "model3.add(layers.Conv2D(32, (3, 3), activation='relu', input_shape=(19, 15, 2)))\n",
    "model3.add(layers.Conv2D(64, (3, 3), activation='relu'))\n",
    "model3.add(layers.Conv2D(64, (3, 3), activation='relu'))"
   ]
  },
  {
   "cell_type": "code",
   "execution_count": 17,
   "id": "monthly-reward",
   "metadata": {},
   "outputs": [],
   "source": [
    "model3.add(layers.Flatten())\n",
    "model3.add(layers.Dense(256, activation='relu'))\n",
    "model3.add(layers.Dense(1, activation='relu'))"
   ]
  },
  {
   "cell_type": "code",
   "execution_count": 19,
   "id": "boolean-contemporary",
   "metadata": {
    "scrolled": true
   },
   "outputs": [
    {
     "name": "stdout",
     "output_type": "stream",
     "text": [
      "Model: \"sequential\"\n",
      "_________________________________________________________________\n",
      "Layer (type)                 Output Shape              Param #   \n",
      "=================================================================\n",
      "conv2d (Conv2D)              (None, 17, 13, 32)        608       \n",
      "_________________________________________________________________\n",
      "conv2d_1 (Conv2D)            (None, 15, 11, 64)        18496     \n",
      "_________________________________________________________________\n",
      "conv2d_2 (Conv2D)            (None, 13, 9, 64)         36928     \n",
      "_________________________________________________________________\n",
      "flatten (Flatten)            (None, 7488)              0         \n",
      "_________________________________________________________________\n",
      "dense (Dense)                (None, 256)               1917184   \n",
      "_________________________________________________________________\n",
      "dense_1 (Dense)              (None, 1)                 257       \n",
      "=================================================================\n",
      "Total params: 1,973,473\n",
      "Trainable params: 1,973,473\n",
      "Non-trainable params: 0\n",
      "_________________________________________________________________\n"
     ]
    }
   ],
   "source": [
    "model3.summary()"
   ]
  },
  {
   "cell_type": "markdown",
   "id": "acting-shannon",
   "metadata": {},
   "source": [
    "I have fewer parameters? Because the last conv layer made the array narrower than it was tall, so I didn't need as much dense?"
   ]
  },
  {
   "cell_type": "code",
   "execution_count": 21,
   "id": "detected-meditation",
   "metadata": {},
   "outputs": [],
   "source": [
    "model3.compile(loss='mean_absolute_error',optimizer=tf.keras.optimizers.Adam(0.001))"
   ]
  },
  {
   "cell_type": "code",
   "execution_count": 21,
   "id": "criminal-turner",
   "metadata": {},
   "outputs": [
    {
     "name": "stdout",
     "output_type": "stream",
     "text": [
      "Epoch 1/10\n",
      "1136/1136 [==============================] - 23s 20ms/step - loss: 0.1007 - val_loss: 0.0646\n",
      "Epoch 2/10\n",
      "1136/1136 [==============================] - 23s 20ms/step - loss: 0.0521 - val_loss: 0.0523\n",
      "Epoch 3/10\n",
      "1136/1136 [==============================] - 23s 20ms/step - loss: 0.0477 - val_loss: 0.0491\n",
      "Epoch 4/10\n",
      "1136/1136 [==============================] - 23s 20ms/step - loss: 0.0441 - val_loss: 0.0503\n",
      "Epoch 5/10\n",
      "1136/1136 [==============================] - 23s 20ms/step - loss: 0.0418 - val_loss: 0.0490\n",
      "Epoch 6/10\n",
      "1136/1136 [==============================] - 23s 20ms/step - loss: 0.0392 - val_loss: 0.0468\n",
      "Epoch 7/10\n",
      "1136/1136 [==============================] - 23s 20ms/step - loss: 0.0372 - val_loss: 0.0497\n",
      "Epoch 8/10\n",
      "1136/1136 [==============================] - 23s 20ms/step - loss: 0.0350 - val_loss: 0.0485\n",
      "Epoch 9/10\n",
      "1136/1136 [==============================] - 23s 20ms/step - loss: 0.0327 - val_loss: 0.0459\n",
      "Epoch 10/10\n",
      "1136/1136 [==============================] - 23s 20ms/step - loss: 0.0310 - val_loss: 0.0473\n"
     ]
    },
    {
     "data": {
      "text/plain": [
       "<tensorflow.python.keras.callbacks.History at 0x18d72ab80>"
      ]
     },
     "execution_count": 21,
     "metadata": {},
     "output_type": "execute_result"
    }
   ],
   "source": [
    "model2.fit(train_inputs, train_outputs, epochs=10, validation_split = 0.2)"
   ]
  },
  {
   "cell_type": "markdown",
   "id": "inside-character",
   "metadata": {},
   "source": [
    "Aiming for below 0.047 CV loss"
   ]
  },
  {
   "cell_type": "code",
   "execution_count": null,
   "id": "wooden-copper",
   "metadata": {
    "scrolled": true
   },
   "outputs": [
    {
     "name": "stdout",
     "output_type": "stream",
     "text": [
      "Epoch 1/10\n",
      "1136/1136 [==============================] - 35s 30ms/step - loss: 0.1009 - val_loss: 0.0562\n",
      "Epoch 2/10\n",
      "1136/1136 [==============================] - 34s 30ms/step - loss: 0.0521 - val_loss: 0.0528\n",
      "Epoch 3/10\n",
      " 173/1136 [===>..........................] - ETA: 28s - loss: 0.0455"
     ]
    }
   ],
   "source": [
    "model3.fit(train_inputs, train_outputs, epochs=10, validation_split = 0.2)"
   ]
  },
  {
   "cell_type": "code",
   "execution_count": 22,
   "id": "atlantic-cleanup",
   "metadata": {},
   "outputs": [
    {
     "name": "stdout",
     "output_type": "stream",
     "text": [
      "Epoch 1/3\n",
      "1136/1136 [==============================] - 22s 20ms/step - loss: 0.0301 - val_loss: 0.0474\n",
      "Epoch 2/3\n",
      "1136/1136 [==============================] - 23s 20ms/step - loss: 0.0286 - val_loss: 0.0472\n",
      "Epoch 3/3\n",
      "1136/1136 [==============================] - 23s 20ms/step - loss: 0.0272 - val_loss: 0.0485\n"
     ]
    },
    {
     "data": {
      "text/plain": [
       "<tensorflow.python.keras.callbacks.History at 0x18de681c0>"
      ]
     },
     "execution_count": 22,
     "metadata": {},
     "output_type": "execute_result"
    }
   ],
   "source": [
    "model2.fit(train_inputs, train_outputs, epochs=3, validation_split = 0.2)"
   ]
  },
  {
   "cell_type": "markdown",
   "id": "blind-journalism",
   "metadata": {},
   "source": [
    "Hmm. When training v4 (and the others, I think), the CV loss would be about 0.029. Now it's about 0.047. That's 62% higher. \n",
    "\n",
    "Maybe that's a good sign—the data is more complicated and matches the real world better, so the neural net has to struggle to learn it.\n",
    "\n",
    "Maybe that's a bad sign—the data has a lot of random noise, so the net has to struggle to learn it"
   ]
  },
  {
   "cell_type": "markdown",
   "id": "brown-austria",
   "metadata": {},
   "source": [
    "Maybe I need a larger model? But let's first see how this one does"
   ]
  },
  {
   "cell_type": "code",
   "execution_count": 23,
   "id": "lyric-formation",
   "metadata": {},
   "outputs": [
    {
     "name": "stdout",
     "output_type": "stream",
     "text": [
      "INFO:tensorflow:Assets written to: saved_model/2021-09-15-v5-model/assets\n"
     ]
    }
   ],
   "source": [
    "model2.save('saved_model/2021-09-15-v5-model')"
   ]
  },
  {
   "cell_type": "code",
   "execution_count": null,
   "id": "informed-ranch",
   "metadata": {},
   "outputs": [],
   "source": []
  }
 ],
 "metadata": {
  "kernelspec": {
   "display_name": "Python 3",
   "language": "python",
   "name": "python3"
  },
  "language_info": {
   "codemirror_mode": {
    "name": "ipython",
    "version": 3
   },
   "file_extension": ".py",
   "mimetype": "text/x-python",
   "name": "python",
   "nbconvert_exporter": "python",
   "pygments_lexer": "ipython3",
   "version": "3.9.2"
  }
 },
 "nbformat": 4,
 "nbformat_minor": 5
}
