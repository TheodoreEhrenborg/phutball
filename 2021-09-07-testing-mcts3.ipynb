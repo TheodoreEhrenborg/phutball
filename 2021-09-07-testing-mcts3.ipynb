{
 "cells": [
  {
   "cell_type": "code",
   "execution_count": 1,
   "id": "floppy-consolidation",
   "metadata": {},
   "outputs": [
    {
     "name": "stdout",
     "output_type": "stream",
     "text": [
      "INFO:tensorflow:Enabling eager execution\n",
      "INFO:tensorflow:Enabling v2 tensorshape\n",
      "INFO:tensorflow:Enabling resource variables\n",
      "INFO:tensorflow:Enabling tensor equality\n",
      "INFO:tensorflow:Enabling control flow v2\n"
     ]
    }
   ],
   "source": [
    "import time, main"
   ]
  },
  {
   "cell_type": "code",
   "execution_count": 2,
   "id": "alternate-windows",
   "metadata": {},
   "outputs": [
    {
     "ename": "KeyboardInterrupt",
     "evalue": "",
     "output_type": "error",
     "traceback": [
      "\u001b[0;31m---------------------------------------------------------------------------\u001b[0m",
      "\u001b[0;31mKeyboardInterrupt\u001b[0m                         Traceback (most recent call last)",
      "\u001b[0;32m<ipython-input-2-53f8690abf49>\u001b[0m in \u001b[0;36m<module>\u001b[0;34m\u001b[0m\n\u001b[0;32m----> 1\u001b[0;31m \u001b[0mtime\u001b[0m\u001b[0;34m.\u001b[0m\u001b[0msleep\u001b[0m\u001b[0;34m(\u001b[0m\u001b[0;36m6\u001b[0m\u001b[0;34m*\u001b[0m\u001b[0;36m3600\u001b[0m\u001b[0;34m-\u001b[0m\u001b[0;36m4\u001b[0m\u001b[0;34m*\u001b[0m\u001b[0;36m60\u001b[0m\u001b[0;34m)\u001b[0m\u001b[0;34m\u001b[0m\u001b[0;34m\u001b[0m\u001b[0m\n\u001b[0m",
      "\u001b[0;31mKeyboardInterrupt\u001b[0m: "
     ]
    }
   ],
   "source": [
    "time.sleep(6*3600-4*60)"
   ]
  },
  {
   "cell_type": "code",
   "execution_count": null,
   "id": "starting-chapel",
   "metadata": {},
   "outputs": [],
   "source": [
    "main.run_game(players = [main.MCTSPlayer3(num_evals= 100000, curiosity = 0.01),main.MCTSPlayer3(num_evals= 100000, curiosity = 0.001),])"
   ]
  },
  {
   "cell_type": "code",
   "execution_count": null,
   "id": "prime-newspaper",
   "metadata": {},
   "outputs": [],
   "source": [
    "main.run_game(players = [main.MCTSPlayer3(num_evals= 100000, curiosity = 0.001),main.MCTSPlayer3(num_evals= 100000, curiosity = 0.01),])"
   ]
  },
  {
   "cell_type": "code",
   "execution_count": null,
   "id": "refined-roots",
   "metadata": {},
   "outputs": [],
   "source": [
    "main.run_game(players = [main.get_v3_3ply(),main.MCTSPlayer3(num_evals= 100000, curiosity = 0.001),])"
   ]
  },
  {
   "cell_type": "code",
   "execution_count": null,
   "id": "pending-hunter",
   "metadata": {},
   "outputs": [],
   "source": [
    "main.run_game(players = [main.get_v3_3ply(),main.MCTSPlayer3(num_evals= 100000, curiosity = 0.01),])"
   ]
  }
 ],
 "metadata": {
  "kernelspec": {
   "display_name": "Python 3",
   "language": "python",
   "name": "python3"
  },
  "language_info": {
   "codemirror_mode": {
    "name": "ipython",
    "version": 3
   },
   "file_extension": ".py",
   "mimetype": "text/x-python",
   "name": "python",
   "nbconvert_exporter": "python",
   "pygments_lexer": "ipython3",
   "version": "3.9.2"
  }
 },
 "nbformat": 4,
 "nbformat_minor": 5
}
