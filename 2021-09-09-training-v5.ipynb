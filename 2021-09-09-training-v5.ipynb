{
 "cells": [
  {
   "cell_type": "code",
   "execution_count": 1,
   "id": "placed-bubble",
   "metadata": {},
   "outputs": [
    {
     "name": "stdout",
     "output_type": "stream",
     "text": [
      "INFO:tensorflow:Enabling eager execution\n",
      "INFO:tensorflow:Enabling v2 tensorshape\n",
      "INFO:tensorflow:Enabling resource variables\n",
      "INFO:tensorflow:Enabling tensor equality\n",
      "INFO:tensorflow:Enabling control flow v2\n"
     ]
    }
   ],
   "source": [
    "import main"
   ]
  },
  {
   "cell_type": "code",
   "execution_count": 2,
   "id": "acceptable-mother",
   "metadata": {},
   "outputs": [],
   "source": [
    "import pickle"
   ]
  },
  {
   "cell_type": "code",
   "execution_count": 5,
   "id": "funded-duration",
   "metadata": {},
   "outputs": [
    {
     "ename": "EOFError",
     "evalue": "Ran out of input",
     "output_type": "error",
     "traceback": [
      "\u001b[0;31m---------------------------------------------------------------------------\u001b[0m",
      "\u001b[0;31mEOFError\u001b[0m                                  Traceback (most recent call last)",
      "\u001b[0;32m<ipython-input-5-fc8650bbecaf>\u001b[0m in \u001b[0;36m<module>\u001b[0;34m\u001b[0m\n\u001b[1;32m      2\u001b[0m \u001b[0;32mwith\u001b[0m \u001b[0mopen\u001b[0m\u001b[0;34m(\u001b[0m\u001b[0;34m\"2021-09-09-mcts-v3-boards10-random.pickle\"\u001b[0m\u001b[0;34m,\u001b[0m \u001b[0;34m\"rb\"\u001b[0m\u001b[0;34m)\u001b[0m \u001b[0;32mas\u001b[0m \u001b[0mf\u001b[0m\u001b[0;34m:\u001b[0m\u001b[0;34m\u001b[0m\u001b[0;34m\u001b[0m\u001b[0m\n\u001b[1;32m      3\u001b[0m     \u001b[0;32mwhile\u001b[0m \u001b[0;32mTrue\u001b[0m\u001b[0;34m:\u001b[0m\u001b[0;34m\u001b[0m\u001b[0;34m\u001b[0m\u001b[0m\n\u001b[0;32m----> 4\u001b[0;31m         \u001b[0mrandom_board_pairs\u001b[0m\u001b[0;34m.\u001b[0m\u001b[0mappend\u001b[0m\u001b[0;34m(\u001b[0m\u001b[0mpickle\u001b[0m\u001b[0;34m.\u001b[0m\u001b[0mload\u001b[0m\u001b[0;34m(\u001b[0m\u001b[0mf\u001b[0m\u001b[0;34m)\u001b[0m\u001b[0;34m)\u001b[0m\u001b[0;34m\u001b[0m\u001b[0;34m\u001b[0m\u001b[0m\n\u001b[0m",
      "\u001b[0;31mEOFError\u001b[0m: Ran out of input"
     ]
    }
   ],
   "source": [
    "random_board_pairs = []\n",
    "with open(\"2021-09-09-mcts-v3-boards10-random.pickle\", \"rb\") as f:\n",
    "    while True:\n",
    "        random_board_pairs.append(pickle.load(f))"
   ]
  },
  {
   "cell_type": "code",
   "execution_count": 6,
   "id": "objective-archives",
   "metadata": {},
   "outputs": [
    {
     "data": {
      "text/plain": [
       "10"
      ]
     },
     "execution_count": 6,
     "metadata": {},
     "output_type": "execute_result"
    }
   ],
   "source": [
    "len(random_board_pairs)"
   ]
  },
  {
   "cell_type": "code",
   "execution_count": 7,
   "id": "terminal-local",
   "metadata": {},
   "outputs": [
    {
     "name": "stdout",
     "output_type": "stream",
     "text": [
      "          1111111111\n",
      " 1234567890123456789\n",
      "A+++○+++++++++++++++\n",
      "B+++++○○++++++○+++++\n",
      "C++○+++++++++++○+++○\n",
      "D+++++++○+++++++++++\n",
      "E+++++++++++++++++++\n",
      "F+++++++++++○+++++++\n",
      "G+○○+++++○+++++○++++\n",
      "H++●+++++++++++++○++\n",
      "I+++++++++++○+++++++\n",
      "J+++++++++++++++++++\n",
      "K+++++++++++++++++++\n",
      "L○○+○+++++++++++++○+\n",
      "M○++++++++++++++○+++\n",
      "N+++++++++++++++○++○\n",
      "O++++++++++++○++++++\n",
      "Side to move: Left\n",
      "Moves made: 0\n",
      "Ball at: [7 2]\n",
      "\n",
      "0.1521340816309958\n",
      "          1111111111\n",
      " 1234567890123456789\n",
      "A+++++++○++++++++++○\n",
      "B+++++++++++++++++++\n",
      "C++++++++++++++++++○\n",
      "D++○+○++++++○+●+++++\n",
      "E+++++++++++++++++++\n",
      "F+○+++++++++++++++○+\n",
      "G+○+○++++++○+++++○++\n",
      "H+++++++○+++++++++++\n",
      "I++○++○++++○+○++++++\n",
      "J++++++++○+○+++○++++\n",
      "K+++++++++++++++++++\n",
      "L++++++++○++++++○+++\n",
      "M+++++++++++○++○++++\n",
      "N+○+++○+++++++++++++\n",
      "O++○++++++++++++○++○\n",
      "Side to move: Right\n",
      "Moves made: 0\n",
      "Ball at: [ 3 13]\n",
      "\n",
      "0.3967626861163548\n",
      "          1111111111\n",
      " 1234567890123456789\n",
      "A+++++○+○++++○+++○++\n",
      "B++○++++++++++++++++\n",
      "C+○++++○+++++++++++○\n",
      "D++++++++++++++++○++\n",
      "E++++++++○++++++++++\n",
      "F+○++++++++○++++○+++\n",
      "G+++++++++++++○+○+++\n",
      "H++++++○○+++++++++++\n",
      "I+++++++++++++++++++\n",
      "J+○+++○+++++++++++++\n",
      "K++++○++++++++++++++\n",
      "L++○+++++++++++++○++\n",
      "M++++++++++○++●+++++\n",
      "N++○++++++++++++○+++\n",
      "O○+++++++++○++++++++\n",
      "Side to move: Left\n",
      "Moves made: 0\n",
      "Ball at: [12 13]\n",
      "\n",
      "0.8130722045898438\n",
      "          1111111111\n",
      " 1234567890123456789\n",
      "A+++++++++++++++++++\n",
      "B++++●++++++○+++++++\n",
      "C++++++○++++++++++++\n",
      "D+++++++++++○+++++++\n",
      "E+++++++++++++++++++\n",
      "F++○++++++++++++++++\n",
      "G+++++++++++++++++++\n",
      "H+++++++++++++++++++\n",
      "I+++++++++++++++++++\n",
      "J+++++++++++++++++++\n",
      "K+++++++++++++++++++\n",
      "L+++++++++++++++++++\n",
      "M+++++++++++++++++++\n",
      "N+++++++++++++++++++\n",
      "O+++++++++++++++++++\n",
      "Side to move: Left\n",
      "Moves made: 0\n",
      "Ball at: [1 4]\n",
      "\n",
      "0.3723395626092779\n",
      "          1111111111\n",
      " 1234567890123456789\n",
      "A+++++++++++++++++++\n",
      "B+++++++++++++++++++\n",
      "C+○++++○+++○++++++++\n",
      "D+++++++++++++++++++\n",
      "E++++○++++++++++++++\n",
      "F++++++●++++++++++++\n",
      "G+++++○+++++++++++○+\n",
      "H++○++++++++++++++++\n",
      "I+○○++++++++++++++++\n",
      "J++++++++++++++++++○\n",
      "K+++++++++++++++++++\n",
      "L+++++++○+++++++++++\n",
      "M++++++++++++++++○++\n",
      "N+++++++++++++++++++\n",
      "O+++++++++++++++++++\n",
      "Side to move: Left\n",
      "Moves made: 0\n",
      "Ball at: [5 6]\n",
      "\n",
      "0.3247121013700962\n",
      "          1111111111\n",
      " 1234567890123456789\n",
      "A++++++++++++++○++++\n",
      "B+++++++++++++++++++\n",
      "C+++++○+++++++++++++\n",
      "D++++++++++++++++●++\n",
      "E+++++++○+++++++++++\n",
      "F+++++++++++++++++++\n",
      "G+++++++++++++++++++\n",
      "H+++++++++++++++++++\n",
      "I+++++++++++++++++++\n",
      "J+++++++++++++++++++\n",
      "K+○+++++++++++++++++\n",
      "L+++++++++++++++++++\n",
      "M+++++++++++++++++++\n",
      "N+++++++++++++++++++\n",
      "O+++++++++++○+++++++\n",
      "Side to move: Right\n",
      "Moves made: 0\n",
      "Ball at: [ 3 16]\n",
      "\n",
      "0.12598483051572526\n",
      "          1111111111\n",
      " 1234567890123456789\n",
      "A+++++○+++++○+++○+++\n",
      "B++++++++++++○++++++\n",
      "C+++++++++○+++++○+++\n",
      "D+++++++++++++++++++\n",
      "E+++++++++++++++++++\n",
      "F+++++++++++++++++++\n",
      "G++++++++++++○++++++\n",
      "H++++++++○++++++++++\n",
      "I+++++●+++++++○+++++\n",
      "J+++++++++++○+++++++\n",
      "K++++○++++++++++++++\n",
      "L+++++++++++++++++++\n",
      "M+++++++++++○+++++++\n",
      "N+++++++++++++++++○+\n",
      "O++++++○++++++++++++\n",
      "Side to move: Left\n",
      "Moves made: 0\n",
      "Ball at: [8 5]\n",
      "\n",
      "0.45275080881335517\n",
      "          1111111111\n",
      " 1234567890123456789\n",
      "A++++++++++++++++++○\n",
      "B+++++++++++++++++++\n",
      "C++++++○++○+++++++++\n",
      "D+++++++++++++○+++++\n",
      "E++++++++++++++○++++\n",
      "F+++++++++++++++++++\n",
      "G++++++○++++++++++++\n",
      "H+++++++++++++++++++\n",
      "I+++++++++++++++++++\n",
      "J++○++++++○+++++++++\n",
      "K++●++++++++++++++++\n",
      "L++++++++++○○+++○+++\n",
      "M++++++++○+++++++○++\n",
      "N++++++++++++++++○++\n",
      "O○++++++++++++++++++\n",
      "Side to move: Right\n",
      "Moves made: 0\n",
      "Ball at: [10  2]\n",
      "\n",
      "0.9050810684760412\n",
      "          1111111111\n",
      " 1234567890123456789\n",
      "A+++++++++++++++++++\n",
      "B+++++○++++○++++++○+\n",
      "C+++++++++++++++++++\n",
      "D+++++++++++++++++++\n",
      "E+++++++○+++++++++++\n",
      "F++++++++++++●++○+++\n",
      "G++○++++○++++++++○++\n",
      "H++++++++○+○++++++++\n",
      "I+++++++++++++++++++\n",
      "J++++○+++++++++○++++\n",
      "K+++++++++++++++++++\n",
      "L+++++++++++++++++++\n",
      "M+++++○○++++++++++++\n",
      "N++++○+++○++○+++++++\n",
      "O+++++++++○+++++++++\n",
      "Side to move: Left\n",
      "Moves made: 0\n",
      "Ball at: [ 5 12]\n",
      "\n",
      "0.7569581735879183\n",
      "          1111111111\n",
      " 1234567890123456789\n",
      "A+++++++++++++++++++\n",
      "B++○++++++++++++++++\n",
      "C++++++++++++++++●++\n",
      "D+++++++++++++++++++\n",
      "E+++++++++++++++++++\n",
      "F+++++++++++++++++++\n",
      "G+++++++++++++++++++\n",
      "H+++++++++++++++++++\n",
      "I+++++++++++++++++++\n",
      "J++++++++++++++++○++\n",
      "K+++++++++++++++++++\n",
      "L+++++++++++++++++++\n",
      "M+++++++++++++++++++\n",
      "N+○+++++++++++○+++++\n",
      "O+++++++○++++○++++++\n",
      "Side to move: Left\n",
      "Moves made: 0\n",
      "Ball at: [ 2 16]\n",
      "\n",
      "0.9147244592507681\n"
     ]
    }
   ],
   "source": [
    "for (b,s) in random_board_pairs:\n",
    "    b.pretty_print_details()\n",
    "    print(s)"
   ]
  },
  {
   "cell_type": "code",
   "execution_count": null,
   "id": "ranking-century",
   "metadata": {},
   "outputs": [],
   "source": []
  },
  {
   "cell_type": "code",
   "execution_count": 8,
   "id": "russian-clinton",
   "metadata": {},
   "outputs": [
    {
     "ename": "EOFError",
     "evalue": "Ran out of input",
     "output_type": "error",
     "traceback": [
      "\u001b[0;31m---------------------------------------------------------------------------\u001b[0m",
      "\u001b[0;31mEOFError\u001b[0m                                  Traceback (most recent call last)",
      "\u001b[0;32m<ipython-input-8-fc8650bbecaf>\u001b[0m in \u001b[0;36m<module>\u001b[0;34m\u001b[0m\n\u001b[1;32m      2\u001b[0m \u001b[0;32mwith\u001b[0m \u001b[0mopen\u001b[0m\u001b[0;34m(\u001b[0m\u001b[0;34m\"2021-09-09-mcts-v3-boards10-random.pickle\"\u001b[0m\u001b[0;34m,\u001b[0m \u001b[0;34m\"rb\"\u001b[0m\u001b[0;34m)\u001b[0m \u001b[0;32mas\u001b[0m \u001b[0mf\u001b[0m\u001b[0;34m:\u001b[0m\u001b[0;34m\u001b[0m\u001b[0;34m\u001b[0m\u001b[0m\n\u001b[1;32m      3\u001b[0m     \u001b[0;32mwhile\u001b[0m \u001b[0;32mTrue\u001b[0m\u001b[0;34m:\u001b[0m\u001b[0;34m\u001b[0m\u001b[0;34m\u001b[0m\u001b[0m\n\u001b[0;32m----> 4\u001b[0;31m         \u001b[0mrandom_board_pairs\u001b[0m\u001b[0;34m.\u001b[0m\u001b[0mappend\u001b[0m\u001b[0;34m(\u001b[0m\u001b[0mpickle\u001b[0m\u001b[0;34m.\u001b[0m\u001b[0mload\u001b[0m\u001b[0;34m(\u001b[0m\u001b[0mf\u001b[0m\u001b[0;34m)\u001b[0m\u001b[0;34m)\u001b[0m\u001b[0;34m\u001b[0m\u001b[0;34m\u001b[0m\u001b[0m\n\u001b[0m",
      "\u001b[0;31mEOFError\u001b[0m: Ran out of input"
     ]
    }
   ],
   "source": [
    "random_board_pairs = []\n",
    "with open(\"2021-09-09-mcts-v3-boards10-random.pickle\", \"rb\") as f:\n",
    "    while True:\n",
    "        random_board_pairs.append(pickle.load(f))"
   ]
  },
  {
   "cell_type": "code",
   "execution_count": 9,
   "id": "modern-reasoning",
   "metadata": {},
   "outputs": [
    {
     "data": {
      "text/plain": [
       "59"
      ]
     },
     "execution_count": 9,
     "metadata": {},
     "output_type": "execute_result"
    }
   ],
   "source": [
    "len(random_board_pairs)"
   ]
  },
  {
   "cell_type": "code",
   "execution_count": null,
   "id": "stupid-least",
   "metadata": {},
   "outputs": [],
   "source": []
  }
 ],
 "metadata": {
  "kernelspec": {
   "display_name": "Python 3",
   "language": "python",
   "name": "python3"
  },
  "language_info": {
   "codemirror_mode": {
    "name": "ipython",
    "version": 3
   },
   "file_extension": ".py",
   "mimetype": "text/x-python",
   "name": "python",
   "nbconvert_exporter": "python",
   "pygments_lexer": "ipython3",
   "version": "3.9.2"
  }
 },
 "nbformat": 4,
 "nbformat_minor": 5
}
